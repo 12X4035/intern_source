{
 "cells": [
  {
   "cell_type": "code",
   "execution_count": 2,
   "metadata": {},
   "outputs": [],
   "source": [
    "import keras\n",
    "import cv2\n",
    "import h5py\n",
    "from collections import Counter\n",
    "from keras import backend as K\n",
    "from keras.utils import np_utils\n",
    "from keras.layers.convolutional import Conv2D, MaxPooling2D\n",
    "from keras.models import Sequential\n",
    "from keras.layers.core import Dense, Dropout, Activation, Flatten\n",
    "from keras.preprocessing.image import array_to_img, img_to_array, list_pictures, load_img\n",
    "from keras.layers.normalization import BatchNormalization\n",
    "import numpy as np\n",
    "import pandas as pd\n",
    "import matplotlib.pyplot as plt\n",
    "from sklearn.model_selection import train_test_split\n",
    "from sklearn.metrics import confusion_matrix, accuracy_score, recall_score, precision_score"
   ]
  },
  {
   "cell_type": "code",
   "execution_count": 3,
   "metadata": {},
   "outputs": [],
   "source": [
    "np.random.seed(12345)"
   ]
  },
  {
   "cell_type": "code",
   "execution_count": 4,
   "metadata": {},
   "outputs": [],
   "source": [
    "def cut_window_by_coordinate(img, left_x, upper_y, window_width, window_height):\n",
    "    \"\"\" \n",
    "    座標を指定することで、画像から矩形領域をカットする関数\n",
    "    left_x : 左上のx座標\n",
    "    upper_y : 左上のy座標\n",
    "    window_width : 矩形の幅\n",
    "    window_height : 矩形の高さ\n",
    "    \"\"\"\n",
    "    # 窓画像の左上座標\n",
    "    x, y = left_x, upper_y\n",
    "    # 窓画像の幅・高さ\n",
    "    w, h = window_width, window_height\n",
    "    # 入力画像から窓画像を切り取り\n",
    "    roi = img[y:y+h, x:x+w]    \n",
    "    return roi"
   ]
  },
  {
   "cell_type": "code",
   "execution_count": 5,
   "metadata": {},
   "outputs": [],
   "source": [
    "# パッチのサイズの情報\n",
    "window_width = 100\n",
    "window_height = 100   \n",
    "slide_width = 10"
   ]
  },
  {
   "cell_type": "code",
   "execution_count": 6,
   "metadata": {},
   "outputs": [],
   "source": [
    "# それぞれの画像について腫瘍情報のテーブルを作る\n",
    "#UT007に関してはもう一度みる必要あり\n",
    "pic_info = pd.DataFrame({\n",
    "                'patient_id' :        ['UT001', 'UT001', 'UT001', 'UT010', 'UT010', 'UT010',  'UT010', 'UT003', 'UT003', 'UT003', 'UT007', 'UT007', 'UT007', 'UT008', 'UT008', 'UT008', 'UT009', 'UT009', 'UT009','UT011','UT011','UT011'],\n",
    "                'patient_sub_height': [  '100',   '200',   '300',   '900',  '1000',  '1100',   '1200',  '1300',  '1400',  '1500',   '700',   '800',   '900',   '600',   '700',   '800',  '1500',  '1600',  '1700',  '600',  '700',  '800'],\n",
    "                'patient_sub_speed':  [ '1480',  '1480',  '1480',  '1510',  '1510',  '1510',   '1510',  '1480',  '1480',  '1480',  '1523',  '1523',  '1523',  '1521',  '1521',  '1521',  '1518',  '1518',  '1518', '1523', '1523', '1523'],\n",
    "                'tumor_left_x' :      [    195,     201,     198,     310,     310,     310,     310,      295,     290,    290,      180,     200,     195,     200,     200,     200,     132,     132,     127,    170,   175,     172],\n",
    "                'tumor_upper_y' :     [    205,     208,     200,     225,     225,     225,     230,      300,     298,    300,      230,     250,     240,     220,     220,     220,     270,     270,     270,    245,   250,     253],\n",
    "                'tumor_width' :       [     50,      50,      50,      70,      50,      45,      45,       50,      50,     50,       80,      60,      70,      70,      70,      70,      50,      50,      50,     55,    55,      45],\n",
    "                'tumor_height' :      [     45,      45,      45,      45,      70,      50,      50,       35,      30,     40,       80,      60,      70,      40,      40,      40,      55,      55,      55,     55,    55,      45],\n",
    "                'default_left_x' :    [    100,     100,     100,     150,    150,      150,     150,      100,     100,    100,      100,     100,     100,     100,     100,     100,     100,     100,      100,    100,   100,    100],\n",
    "                'default_upper_y' :   [    100,     100,     100,     100,    100,      100,     100,      100,     100,    100,      200,     200,     200,     100,     100,     100,     100,     100,      100,    100,   100,    100],\n",
    "                'max_left_x' :        [    340,     340,     340,     340,    340,      340,     340,      340,     340,    340,      220,     220,     220,     340,     340,     340,     340,     340,      340,    250,   250,    250],\n",
    "                'max_upper_y' :       [    340,     340,     340,     340,    340,      340,     340,      340,     340,    340,      280,     280,     280,     240,     340,     340,     340,     340,      340,    300,   300,    300],\n",
    "                'file_path' : ['./data/all_data/tumor/P_UT001_20161226_153444_100_speed1480_GCF010_comp8.bmp',\n",
    "                               './data/all_data/tumor/P_UT001_20161226_153500_200_speed1480_GCF010_comp8.bmp',\n",
    "                               './data/all_data/tumor/P_UT001_20161226_153514_300_speed1480_GCF010_comp8.bmp',\n",
    "                               './data/all_data/tumor/N_UT010_20170428_141903_900_speed1510_GCF10_comp8_max02.bmp',\n",
    "                               './data/all_data/tumor/N_UT010_20170428_141918_1000_speed1510_GCF10_comp8_max02.bmp',\n",
    "                               './data/all_data/tumor/N_UT010_20170428_141932_1100_speed1510_GCF10_comp8_max02.bmp',\n",
    "                               './data/all_data/tumor/N_UT010_20170428_141946_1200_speed1510_GCF10_comp8_max02.bmp',\n",
    "                               './data/all_data/tumor/UT003_20170120_155150_1300_speed1480_GCF10_comp8.bmp',\n",
    "                               './data/all_data/tumor/UT003_20170120_155205_1400_speed1480_GCF10_comp8.bmp',\n",
    "                               './data/all_data/tumor/UT003_20170120_155219_1500_speed1480_GCF10_comp8.bmp',\n",
    "                               './data/all_data/tumor/UT007_20170303_120722_700_speed1523.985_gcf10_comp8_1490_binarySpeed.bmp',\n",
    "                               './data/all_data/tumor/UT007_20170303_120736_800_speed1523.985_gcf10_comp8_1490_binarySpeed.bmp',\n",
    "                               './data/all_data/tumor/UT007_20170303_120750_900_speed1523.985_gcf10_comp8_1490_binarySpeed.bmp',\n",
    "                               './data/all_data/tumor/N_UT_008_20170407_144338_600_speed1521.935_gcf10_comp8_1400_binarySpeed.bmp',\n",
    "                               './data/all_data/tumor/N_UT_008_20170407_144352_700_speed1521.935_gcf10_comp8_1400_binarySpeed.bmp',\n",
    "                               './data/all_data/tumor/N_UT_008_20170407_144407_800_speed1521.935_gcf10_comp8_1400_binarySpeed.bmp',\n",
    "                               './data/all_data/tumor/UT009_20170421_135409_1500_speed1518.414_gcf10_comp8_1395_binarySpeed.bmp',\n",
    "                               './data/all_data/tumor/UT009_20170421_135424_1600_speed1518.414_gcf10_comp8_1395_binarySpeed.bmp',\n",
    "                               './data/all_data/tumor/UT009_20170421_135438_1700_speed1518.414_gcf10_comp8_1395_binarySpeed.bmp',\n",
    "                               './data/all_data/tumor/UT011_20170512_141428_600_speed1523.434_gcf10_comp8_1460_binarySpeed.bmp',\n",
    "                               './data/all_data/tumor/UT011_20170512_141441_700_speed1523.434_gcf10_comp8_1460_binarySpeed.bmp',\n",
    "                               './data/all_data/tumor/UT011_20170512_141455_800_speed1523.434_gcf10_comp8_1460_binarySpeed.bmp',]\n",
    "                }, index = [0, 1, 2, 3, 4, 5, 6, 7, 8, 9, 10, 11, 12, 13, 14, 15, 16, 17, 18, 19, 20, 21])"
   ]
  },
  {
   "cell_type": "code",
   "execution_count": 7,
   "metadata": {},
   "outputs": [],
   "source": [
    "sample_size = len(pic_info)  # 2以上である必要あり"
   ]
  },
  {
   "cell_type": "code",
   "execution_count": 8,
   "metadata": {},
   "outputs": [],
   "source": [
    "j = 0\n",
    "X = []\n",
    "\n",
    "label = []\n",
    "p_id = []\n",
    "\n",
    "for j in range(0, sample_size, 1):\n",
    "\n",
    "    patient_id = pic_info['patient_id'][j]\n",
    "    tumor_left_x = pic_info['tumor_left_x'][j]\n",
    "    tumor_upper_y = pic_info['tumor_upper_y'][j]\n",
    "    tumor_width = pic_info['tumor_width'][j]\n",
    "    tumor_height = pic_info['tumor_height'][j]\n",
    "    default_left_x = pic_info['default_left_x'][j]\n",
    "    default_upper_y = pic_info['default_upper_y'][j]\n",
    "    max_left_x = pic_info['max_left_x'][j]\n",
    "    max_upper_y = pic_info['max_upper_y'][j]\n",
    "    file_path = pic_info['file_path'][j]\n",
    "    \n",
    "    img = cv2.imread(file_path)       \n",
    "\n",
    "    # 写真の中の(100, 100) から (440, 440)までの間でパッチを作る\n",
    "    # パッチの大きさは100 * 100にする\n",
    "    # スライド幅は20ずつにする\n",
    "    # sliding windowにより作られるパッチの数は (340 - 100) / 20 * (340 - 100) / 20 = 144個\n",
    "    # それが5つぶんで 144 * 5 = 720個\n",
    "            \n",
    "    i = 0\n",
    "\n",
    "    for left_x in range(default_left_x, max_left_x, slide_width):\n",
    "        for upper_y in range(default_upper_y, max_upper_y, slide_width):\n",
    "            img_patch = cut_window_by_coordinate(img, left_x, upper_y, window_width, window_height)\n",
    "            \n",
    "            X.append(img_to_array(img_patch))\n",
    "            \n",
    "            # 癌が含まれているかの判定 完全に領域を含んでいる場合のみ検出する\n",
    "            if tumor_left_x >= left_x and tumor_left_x + tumor_width <= left_x + window_width and tumor_upper_y >= upper_y and tumor_upper_y + tumor_height <= upper_y + window_height:\n",
    "                contains_tumor = 1 \n",
    "            else: contains_tumor = 0\n",
    "            \n",
    "            # 角フラグを立てる\n",
    "            #if left_x == default_left_x or left_x == max_left_x - slide_width:\n",
    "            #    corner_flag = 1\n",
    "            #else: corner_flag = 0\n",
    "                   \n",
    "            # patch_idの付与 一応\n",
    "            #patch_id = patient_id + str(left_x) + str(upper_y)      \n",
    "            \n",
    "            #i_list = [i]\n",
    "            p_id.append(patient_id)\n",
    "            label.append(contains_tumor)\n",
    "\n",
    "            \n",
    "            i += 1"
   ]
  },
  {
   "cell_type": "code",
   "execution_count": 9,
   "metadata": {},
   "outputs": [],
   "source": [
    "df_Y = pd.DataFrame({\n",
    "    'patient_id':p_id,\n",
    "    'label': label\n",
    "})\n",
    "\n",
    "train_cancer = df_Y.query('patient_id != \"UT001\" & label == 1')\n",
    "train_not_cancer = df_Y.query('patient_id != \"UT001\" & label == 0')\n",
    "\n",
    "lengths = [len(train_cancer), len(train_not_cancer)]\n",
    "mini = min(lengths)\n",
    "\n",
    "train_cancer = train_cancer.sample(n=mini)\n",
    "train_not_cancer = train_not_cancer.sample(n=mini)\n",
    "\n",
    "test_cancer = df_Y.query('patient_id == \"UT001\" & label == 1')\n",
    "test_not_cancer = df_Y.query('patient_id == \"UT001\" & label == 0').sample(len(test_cancer))\n",
    "\n",
    "Y_train = pd.concat([train_cancer, train_not_cancer])['label']\n",
    "Y_test = pd.concat([test_cancer, test_not_cancer])['label']\n"
   ]
  },
  {
   "cell_type": "code",
   "execution_count": null,
   "metadata": {},
   "outputs": [],
   "source": []
  },
  {
   "cell_type": "code",
   "execution_count": 10,
   "metadata": {},
   "outputs": [
    {
     "name": "stdout",
     "output_type": "stream",
     "text": [
      "Counter({0: 498, 1: 498})\n",
      "Counter({0: 85, 1: 85})\n"
     ]
    }
   ],
   "source": [
    "print(Counter(Y_train))\n",
    "print(Counter(Y_test))"
   ]
  },
  {
   "cell_type": "code",
   "execution_count": 11,
   "metadata": {},
   "outputs": [],
   "source": [
    "X_train = []\n",
    "X_test = []\n",
    "\n",
    "for j in range(len(X)):\n",
    "    if (Y_train.index == j).any() :\n",
    "        X_train.append(X[j]/255.0)\n",
    "    elif (Y_test.index == j).any() :\n",
    "        X_test.append(X[j]/255.0)"
   ]
  },
  {
   "cell_type": "code",
   "execution_count": 12,
   "metadata": {},
   "outputs": [
    {
     "name": "stdout",
     "output_type": "stream",
     "text": [
      "996\n",
      "170\n"
     ]
    }
   ],
   "source": [
    "print(len(X_train))\n",
    "print(len(X_test))"
   ]
  },
  {
   "cell_type": "code",
   "execution_count": 13,
   "metadata": {},
   "outputs": [],
   "source": [
    "X_train = np.asarray(X_train)\n",
    "X_test = np.asarray(X_test)\n",
    "                                                          \n",
    "Y_train = np.asarray(Y_train)\n",
    "Y_test = np.asarray(Y_test)"
   ]
  },
  {
   "cell_type": "code",
   "execution_count": 14,
   "metadata": {},
   "outputs": [],
   "source": [
    "from keras.utils.np_utils import to_categorical\n",
    "x_train = np.array(X_train).astype('float32')\n",
    "y_train = to_categorical(Y_train, 2)\n",
    "\n",
    "x_test = np.array(X_test).astype('float32')\n",
    "y_test = to_categorical(Y_test, 2) \n"
   ]
  },
  {
   "cell_type": "code",
   "execution_count": 15,
   "metadata": {},
   "outputs": [
    {
     "name": "stdout",
     "output_type": "stream",
     "text": [
      "(996, 100, 100, 3)\n",
      "(996, 2)\n"
     ]
    }
   ],
   "source": [
    "print(x_train.shape)\n",
    "print(y_train.shape)"
   ]
  },
  {
   "cell_type": "code",
   "execution_count": 16,
   "metadata": {},
   "outputs": [],
   "source": [
    "img_rows, img_cols = 100, 100"
   ]
  },
  {
   "cell_type": "code",
   "execution_count": 17,
   "metadata": {},
   "outputs": [],
   "source": [
    "# shapeの調整\n",
    "if K.image_data_format() == 'channels_first':\n",
    "    X_train = X_train.reshape(X_train.shape[0], 3, img_rows, img_cols)\n",
    "    X_test = X_test.reshape(X_test.shape[0], 3, img_rows, img_cols)\n",
    "    input_shape = (1, img_rows, img_cols)\n",
    "else:\n",
    "    X_train = X_train.reshape(X_train.shape[0], img_rows, img_cols, 3)\n",
    "    X_test = X_test.reshape(X_test.shape[0], img_rows, img_cols, 3)\n",
    "    input_shape = (img_rows, img_cols, 1)"
   ]
  },
  {
   "cell_type": "markdown",
   "metadata": {},
   "source": [
    "### Validation dataの作成(trainの10%)"
   ]
  },
  {
   "cell_type": "code",
   "execution_count": 18,
   "metadata": {},
   "outputs": [],
   "source": [
    "val_x_train, val_x_test, val_y_train, val_y_test = train_test_split(x_train, y_train, test_size=0.1, random_state=12345)"
   ]
  },
  {
   "cell_type": "code",
   "execution_count": 17,
   "metadata": {},
   "outputs": [],
   "source": [
    "# CNNを構築\n",
    "#relu or tanh\n",
    "model = Sequential()\n",
    "\n",
    "model.add(Conv2D(32,(10, 10), padding='same',\n",
    "                 input_shape=X_train.shape[1:]))\n",
    "model.add(Activation('relu'))\n",
    "model.add(Conv2D(32,(10, 10)))\n",
    "model.add(Activation('relu'))\n",
    "model.add(MaxPooling2D(pool_size=(2, 2)))\n",
    "model.add(Dropout(0.25))\n",
    "\n",
    "#model.add(Conv2D(64, (10, 10), padding='same'))\n",
    "#model.add(Activation('relu'))\n",
    "#model.add(Conv2D(64, (10, 10)))\n",
    "#model.add(Activation('relu'))\n",
    "#model.add(MaxPooling2D(pool_size=(2, 2)))\n",
    "#model.add(Dropout(0.25))\n",
    "\n",
    "model.add(Flatten())\n",
    "model.add(Dense(512))\n",
    "model.add(Activation('relu'))\n",
    "model.add(Dropout(0.5))\n",
    "model.add(Dense(2))       # クラスは2個\n",
    "model.add(Activation('softmax'))"
   ]
  },
  {
   "cell_type": "code",
   "execution_count": 32,
   "metadata": {},
   "outputs": [
    {
     "name": "stdout",
     "output_type": "stream",
     "text": [
      "model\n",
      "_________________________________________________________________\n",
      "Layer (type)                 Output Shape              Param #   \n",
      "=================================================================\n",
      "conv2d_5 (Conv2D)            (None, 100, 100, 32)      9632      \n",
      "_________________________________________________________________\n",
      "activation_7 (Activation)    (None, 100, 100, 32)      0         \n",
      "_________________________________________________________________\n",
      "conv2d_6 (Conv2D)            (None, 91, 91, 32)        102432    \n",
      "_________________________________________________________________\n",
      "activation_8 (Activation)    (None, 91, 91, 32)        0         \n",
      "_________________________________________________________________\n",
      "max_pooling2d_3 (MaxPooling2 (None, 45, 45, 32)        0         \n",
      "_________________________________________________________________\n",
      "dropout_4 (Dropout)          (None, 45, 45, 32)        0         \n",
      "_________________________________________________________________\n",
      "conv2d_7 (Conv2D)            (None, 45, 45, 64)        204864    \n",
      "_________________________________________________________________\n",
      "activation_9 (Activation)    (None, 45, 45, 64)        0         \n",
      "_________________________________________________________________\n",
      "conv2d_8 (Conv2D)            (None, 36, 36, 64)        409664    \n",
      "_________________________________________________________________\n",
      "activation_10 (Activation)   (None, 36, 36, 64)        0         \n",
      "_________________________________________________________________\n",
      "max_pooling2d_4 (MaxPooling2 (None, 18, 18, 64)        0         \n",
      "_________________________________________________________________\n",
      "dropout_5 (Dropout)          (None, 18, 18, 64)        0         \n",
      "_________________________________________________________________\n",
      "flatten_2 (Flatten)          (None, 20736)             0         \n",
      "_________________________________________________________________\n",
      "dense_3 (Dense)              (None, 512)               10617344  \n",
      "_________________________________________________________________\n",
      "activation_11 (Activation)   (None, 512)               0         \n",
      "_________________________________________________________________\n",
      "dropout_6 (Dropout)          (None, 512)               0         \n",
      "_________________________________________________________________\n",
      "dense_4 (Dense)              (None, 2)                 1026      \n",
      "_________________________________________________________________\n",
      "activation_12 (Activation)   (None, 2)                 0         \n",
      "=================================================================\n",
      "Total params: 11,344,962\n",
      "Trainable params: 11,344,962\n",
      "Non-trainable params: 0\n",
      "_________________________________________________________________\n",
      "None\n"
     ]
    }
   ],
   "source": [
    "print('model')\n",
    "print(model.summary())"
   ]
  },
  {
   "cell_type": "code",
   "execution_count": 35,
   "metadata": {},
   "outputs": [
    {
     "name": "stdout",
     "output_type": "stream",
     "text": [
      "Train on 996 samples, validate on 170 samples\n",
      "Epoch 1/10\n",
      "996/996 [==============================] - 301s 302ms/step - loss: 0.2214 - acc: 0.6576 - val_loss: 0.3346 - val_acc: 0.5000\n",
      "Epoch 2/10\n",
      "996/996 [==============================] - 296s 297ms/step - loss: 0.2250 - acc: 0.6355 - val_loss: 0.2726 - val_acc: 0.4412\n",
      "Epoch 3/10\n",
      "996/996 [==============================] - 296s 297ms/step - loss: 0.2042 - acc: 0.6847 - val_loss: 0.3129 - val_acc: 0.4765\n",
      "Epoch 4/10\n",
      "996/996 [==============================] - 305s 306ms/step - loss: 0.1961 - acc: 0.7219 - val_loss: 0.3292 - val_acc: 0.4765\n",
      "Epoch 5/10\n",
      "996/996 [==============================] - 323s 325ms/step - loss: 0.1819 - acc: 0.7400 - val_loss: 0.2942 - val_acc: 0.4647\n",
      "Epoch 6/10\n",
      "996/996 [==============================] - 302s 303ms/step - loss: 0.1696 - acc: 0.7490 - val_loss: 0.3174 - val_acc: 0.4353\n",
      "Epoch 7/10\n",
      "996/996 [==============================] - 344s 345ms/step - loss: 0.1570 - acc: 0.7701 - val_loss: 0.3070 - val_acc: 0.4647\n",
      "Epoch 8/10\n",
      "996/996 [==============================] - 312s 313ms/step - loss: 0.1427 - acc: 0.7942 - val_loss: 0.4676 - val_acc: 0.5000\n",
      "Epoch 9/10\n",
      "996/996 [==============================] - 317s 318ms/step - loss: 0.1411 - acc: 0.8022 - val_loss: 0.3737 - val_acc: 0.4706\n",
      "Epoch 10/10\n",
      "996/996 [==============================] - 326s 327ms/step - loss: 0.1357 - acc: 0.8042 - val_loss: 0.4010 - val_acc: 0.5000\n",
      "Test loss: 0.4010282089605051\n",
      "Test accuracy: 0.49999999929876887\n"
     ]
    }
   ],
   "source": [
    "# コンパイル\n",
    "# optimizer = sgd\n",
    "model.compile(loss='mean_squared_error',\n",
    "              optimizer='sgd',\n",
    "              metrics=['accuracy'])\n",
    "\n",
    "#es_cb = keras.callbacks.EarlyStopping(monitor='val_loss', patience=0, verbose=0, mode='auto')\n",
    "#validation_data にtest_dataを用いるのは良くないらしい\n",
    "history = model.fit(x_train, y_train, batch_size=30, epochs=10,\n",
    "                   validation_data = (x_test, y_test), verbose=1)\n",
    "\n",
    "score = model.evaluate(x_test, y_test, verbose=0)\n",
    "\n",
    "print('Test loss:', score[0])\n",
    "print('Test accuracy:', score[1])"
   ]
  },
  {
   "cell_type": "code",
   "execution_count": 36,
   "metadata": {},
   "outputs": [
    {
     "data": {
      "image/png": "[encoded data removed]",
      "text/plain": [
       "<matplotlib.figure.Figure at 0x1a380e9470>"
      ]
     },
     "metadata": {},
     "output_type": "display_data"
    },
    {
     "data": {
      "image/png": "[encoded data removed]",
      "text/plain": [
       "<matplotlib.figure.Figure at 0x1a380ee518>"
      ]
     },
     "metadata": {},
     "output_type": "display_data"
    }
   ],
   "source": [
    "#Accuracy\n",
    "plt.plot(history.history['acc'])\n",
    "plt.plot(history.history['val_acc'])\n",
    "plt.title('model accuracy')\n",
    "plt.ylabel('accuracy')\n",
    "plt.xlabel('epoch')\n",
    "plt.legend(['train', 'test'], loc='upper left')\n",
    "plt.show()\n",
    "#loss\n",
    "plt.plot(history.history['loss'])\n",
    "plt.plot(history.history['val_loss'])\n",
    "plt.title('model loss')\n",
    "plt.ylabel('loss')\n",
    "plt.xlabel('epoch')\n",
    "plt.legend(['train', 'test'], loc='upper left')\n",
    "plt.show()"
   ]
  },
  {
   "cell_type": "code",
   "execution_count": 37,
   "metadata": {},
   "outputs": [],
   "source": [
    "classes = model.predict(x_test)"
   ]
  },
  {
   "cell_type": "code",
   "execution_count": 38,
   "metadata": {},
   "outputs": [],
   "source": [
    "#正答率のための準備\n",
    "for_pred = pd.DataFrame(classes, columns = {'no_tumor', 'tumor'})\n",
    "pred = for_pred.tumor.map(lambda x: 1 if x > 0.5 else 0 )"
   ]
  },
  {
   "cell_type": "code",
   "execution_count": 39,
   "metadata": {},
   "outputs": [
    {
     "name": "stdout",
     "output_type": "stream",
     "text": [
      "[[11 74]\n",
      " [11 74]]\n",
      "accuracy :  0.5\n",
      "recall:  0.8705882352941177\n"
     ]
    }
   ],
   "source": [
    "confmat = confusion_matrix(y_true=Y_test, y_pred=pred)\n",
    "print(confmat)\n",
    "print('accuracy : ', accuracy_score(Y_test, pred))\n",
    "print('recall: ', recall_score(Y_test, pred))"
   ]
  },
  {
   "cell_type": "code",
   "execution_count": 53,
   "metadata": {},
   "outputs": [
    {
     "name": "stdout",
     "output_type": "stream",
     "text": [
      "(array([ 2.,  5.,  2.,  2., 11.,  8., 10., 20., 23., 87.]), array([0.01603766, 0.11356196, 0.21108625, 0.30861055, 0.40613484,\n",
      "       0.50365914, 0.60118343, 0.69870773, 0.79623202, 0.89375632,\n",
      "       0.99128062]), <a list of 10 Patch objects>)\n"
     ]
    },
    {
     "data": {
      "image/png": "[encoded data removed]",
      "text/plain": [
       "<matplotlib.figure.Figure at 0x1a35833198>"
      ]
     },
     "metadata": {},
     "output_type": "display_data"
    }
   ],
   "source": [
    "print(plt.hist(for_pred[\"tumor\"]))"
   ]
  },
  {
   "cell_type": "code",
   "execution_count": 57,
   "metadata": {},
   "outputs": [
    {
     "data": {
      "text/plain": [
       "84"
      ]
     },
     "execution_count": 57,
     "metadata": {},
     "output_type": "execute_result"
    }
   ],
   "source": [
    "len(for_pred[for_pred[\"tumor\"]>=0.9])"
   ]
  },
  {
   "cell_type": "code",
   "execution_count": null,
   "metadata": {},
   "outputs": [],
   "source": []
  },
  {
   "cell_type": "code",
   "execution_count": 24,
   "metadata": {},
   "outputs": [
    {
     "data": {
      "text/plain": [
       "996"
      ]
     },
     "execution_count": 24,
     "metadata": {},
     "output_type": "execute_result"
    }
   ],
   "source": []
  },
  {
   "cell_type": "code",
   "execution_count": 55,
   "metadata": {},
   "outputs": [],
   "source": [
    "# CNNを構築\n",
    "#relu or tanh\n",
    "model = Sequential()\n",
    "\n",
    "model.add(Conv2D(32,(10, 10), padding='same',\n",
    "                 input_shape=X_train.shape[1:]))\n",
    "model.add(Activation('relu'))\n",
    "model.add(Conv2D(32,(10, 10)))\n",
    "model.add(Activation('relu'))\n",
    "model.add(MaxPooling2D(pool_size=(2, 2)))\n",
    "model.add(Dropout(0.25))\n",
    "\n",
    "#model.add(Conv2D(64, (10, 10), padding='same'))\n",
    "#model.add(Activation('relu'))\n",
    "#model.add(Conv2D(64, (10, 10)))\n",
    "#model.add(Activation('relu'))\n",
    "#model.add(MaxPooling2D(pool_size=(2, 2)))\n",
    "#model.add(Dropout(0.25))\n",
    "\n",
    "model.add(Flatten())\n",
    "model.add(Dense(512))\n",
    "model.add(Activation('relu'))\n",
    "model.add(Dropout(0.5))\n",
    "model.add(Dense(2))       # クラスは2個\n",
    "model.add(Activation('softmax'))"
   ]
  },
  {
   "cell_type": "code",
   "execution_count": 58,
   "metadata": {},
   "outputs": [
    {
     "name": "stdout",
     "output_type": "stream",
     "text": [
      "Train on 896 samples, validate on 100 samples\n",
      "Epoch 1/3\n",
      "896/896 [==============================] - 262s 292ms/step - loss: 0.6959 - acc: 0.5368 - val_loss: 0.6714 - val_acc: 0.4900\n",
      "Epoch 2/3\n",
      "896/896 [==============================] - 238s 266ms/step - loss: 0.6702 - acc: 0.5536 - val_loss: 0.6507 - val_acc: 0.5600\n",
      "Epoch 3/3\n",
      "896/896 [==============================] - 256s 286ms/step - loss: 0.6665 - acc: 0.5882 - val_loss: 0.6629 - val_acc: 0.4900\n",
      "Test loss: 0.7629303967251497\n",
      "Test accuracy: 0.5058823529411764\n"
     ]
    }
   ],
   "source": [
    "# コンパイル\n",
    "# optimizer = sgd\n",
    "model.compile(loss='categorical_crossentropy',\n",
    "              optimizer='sgd',\n",
    "              metrics=['accuracy'])\n",
    "\n",
    "#es_cb = keras.callbacks.EarlyStopping(monitor='val_loss', patience=0, verbose=0, mode='auto')\n",
    "#validation_data にtest_dataを用いるのは良くないらしい\n",
    "history = model.fit(val_x_train, val_y_train, batch_size=100, epochs=3,\n",
    "                   validation_data = (val_x_test, val_y_test), verbose=1)\n",
    "\n",
    "score = model.evaluate(x_test, y_test, verbose=0)\n",
    "\n",
    "print('Test loss:', score[0])\n",
    "print('Test accuracy:', score[1])"
   ]
  },
  {
   "cell_type": "code",
   "execution_count": 59,
   "metadata": {},
   "outputs": [
    {
     "data": {
      "image/png": "[encoded data removed]",
      "text/plain": [
       "<matplotlib.figure.Figure at 0x1a39955ba8>"
      ]
     },
     "metadata": {},
     "output_type": "display_data"
    },
    {
     "data": {
      "image/png": "[encoded data removed]",
      "text/plain": [
       "<matplotlib.figure.Figure at 0x1a399dfe80>"
      ]
     },
     "metadata": {},
     "output_type": "display_data"
    }
   ],
   "source": [
    "#Accuracy\n",
    "plt.plot(history.history['acc'])\n",
    "plt.plot(history.history['val_acc'])\n",
    "plt.title('model accuracy')\n",
    "plt.ylabel('accuracy')\n",
    "plt.xlabel('epoch')\n",
    "plt.legend(['train', 'test'], loc='upper left')\n",
    "plt.show()\n",
    "#loss\n",
    "plt.plot(history.history['loss'])\n",
    "plt.plot(history.history['val_loss'])\n",
    "plt.title('model loss')\n",
    "plt.ylabel('loss')\n",
    "plt.xlabel('epoch')\n",
    "plt.legend(['train', 'test'], loc='upper left')\n",
    "plt.show()"
   ]
  },
  {
   "cell_type": "markdown",
   "metadata": {},
   "source": [
    "### 最後のActivation を tanh"
   ]
  },
  {
   "cell_type": "code",
   "execution_count": 60,
   "metadata": {},
   "outputs": [],
   "source": [
    "classes = model.predict(x_test)"
   ]
  },
  {
   "cell_type": "code",
   "execution_count": 61,
   "metadata": {},
   "outputs": [],
   "source": [
    "#正答率のための準備\n",
    "for_pred = pd.DataFrame(classes, columns = {'no_tumor', 'tumor'})\n",
    "pred = for_pred.tumor.map(lambda x: 1 if x > 0.5 else 0 )"
   ]
  },
  {
   "cell_type": "code",
   "execution_count": 62,
   "metadata": {},
   "outputs": [
    {
     "name": "stdout",
     "output_type": "stream",
     "text": [
      "[[85  0]\n",
      " [84  1]]\n",
      "accuracy :  0.5058823529411764\n",
      "recall:  0.011764705882352941\n"
     ]
    }
   ],
   "source": [
    "confmat = confusion_matrix(y_true=Y_test, y_pred=pred)\n",
    "print(confmat)\n",
    "print('accuracy : ', accuracy_score(Y_test, pred))\n",
    "print('recall: ', recall_score(Y_test, pred))"
   ]
  },
  {
   "cell_type": "code",
   "execution_count": 63,
   "metadata": {},
   "outputs": [
    {
     "name": "stdout",
     "output_type": "stream",
     "text": [
      "(array([32., 32., 35., 17., 14., 11., 16., 10.,  2.,  1.]), array([0.27155426, 0.29719098, 0.3228277 , 0.34846441, 0.37410113,\n",
      "       0.39973785, 0.42537457, 0.45101129, 0.476648  , 0.50228472,\n",
      "       0.52792144]), <a list of 10 Patch objects>)\n"
     ]
    },
    {
     "data": {
      "image/png": "[encoded data removed]",
      "text/plain": [
       "<matplotlib.figure.Figure at 0x1a38745780>"
      ]
     },
     "metadata": {},
     "output_type": "display_data"
    }
   ],
   "source": [
    "print(plt.hist(for_pred[\"tumor\"]))"
   ]
  },
  {
   "cell_type": "code",
   "execution_count": 84,
   "metadata": {},
   "outputs": [
    {
     "data": {
      "image/png": "[encoded data removed]",
      "text/plain": [
       "<matplotlib.figure.Figure at 0x1a33af8518>"
      ]
     },
     "metadata": {},
     "output_type": "display_data"
    },
    {
     "data": {
      "image/png": "[encoded data removed]",
      "text/plain": [
       "<matplotlib.figure.Figure at 0x1a35340c88>"
      ]
     },
     "metadata": {},
     "output_type": "display_data"
    }
   ],
   "source": [
    "#Accuracy\n",
    "plt.plot(history.history['acc'])\n",
    "plt.plot(history.history['val_acc'])\n",
    "plt.title('model accuracy')\n",
    "plt.ylabel('accuracy')\n",
    "plt.xlabel('epoch')\n",
    "plt.legend(['train', 'test'], loc='upper left')\n",
    "plt.show()\n",
    "#loss\n",
    "plt.plot(history.history['loss'])\n",
    "plt.plot(history.history['val_loss'])\n",
    "plt.title('model loss')\n",
    "plt.ylabel('loss')\n",
    "plt.xlabel('epoch')\n",
    "plt.legend(['train', 'test'], loc='upper left')\n",
    "plt.show()"
   ]
  },
  {
   "cell_type": "code",
   "execution_count": 85,
   "metadata": {},
   "outputs": [],
   "source": [
    "classes = model.predict(x_test)"
   ]
  },
  {
   "cell_type": "code",
   "execution_count": 86,
   "metadata": {},
   "outputs": [],
   "source": [
    "#正答率のための準備\n",
    "for_pred = pd.DataFrame(classes, columns = {'no_tumor', 'tumor'})\n",
    "pred = for_pred.tumor.map(lambda x: 1 if x > 0.5 else 0 )"
   ]
  },
  {
   "cell_type": "code",
   "execution_count": 87,
   "metadata": {},
   "outputs": [
    {
     "name": "stdout",
     "output_type": "stream",
     "text": [
      "[[64 21]\n",
      " [60 25]]\n",
      "accuracy :  0.5235294117647059\n",
      "recall:  0.29411764705882354\n"
     ]
    }
   ],
   "source": [
    "confmat = confusion_matrix(y_true=Y_test, y_pred=pred)\n",
    "print(confmat)\n",
    "print('accuracy : ', accuracy_score(Y_test, pred))\n",
    "print('recall: ', recall_score(Y_test, pred))"
   ]
  },
  {
   "cell_type": "code",
   "execution_count": 88,
   "metadata": {},
   "outputs": [
    {
     "name": "stdout",
     "output_type": "stream",
     "text": [
      "(array([ 4.,  3.,  2.,  6.,  9., 12., 14., 22., 66., 32.]), array([0.19299571, 0.22790334, 0.26281097, 0.2977186 , 0.33262623,\n",
      "       0.36753386, 0.40244148, 0.43734911, 0.47225674, 0.50716437,\n",
      "       0.542072  ]), <a list of 10 Patch objects>)\n"
     ]
    },
    {
     "data": {
      "image/png": "[encoded data removed]",
      "text/plain": [
       "<matplotlib.figure.Figure at 0x1a33af3a58>"
      ]
     },
     "metadata": {},
     "output_type": "display_data"
    }
   ],
   "source": [
    "print(plt.hist(for_pred[\"tumor\"]))"
   ]
  },
  {
   "cell_type": "markdown",
   "metadata": {},
   "source": [
    "### epochを増やす"
   ]
  },
  {
   "cell_type": "code",
   "execution_count": 92,
   "metadata": {},
   "outputs": [
    {
     "name": "stdout",
     "output_type": "stream",
     "text": [
      "Train on 896 samples, validate on 100 samples\n",
      "Epoch 1/10\n",
      "896/896 [==============================] - 382s 427ms/step - loss: 0.5366 - acc: 0.5045 - val_loss: 0.5000 - val_acc: 0.4500\n",
      "Epoch 2/10\n",
      "896/896 [==============================] - 368s 411ms/step - loss: 0.5000 - acc: 0.5011 - val_loss: 0.5000 - val_acc: 0.4600\n",
      "Epoch 3/10\n",
      "896/896 [==============================] - 367s 409ms/step - loss: 0.5000 - acc: 0.5011 - val_loss: 0.5000 - val_acc: 0.4500\n",
      "Epoch 4/10\n",
      "896/896 [==============================] - 373s 417ms/step - loss: 0.5000 - acc: 0.5067 - val_loss: 0.5000 - val_acc: 0.4600\n",
      "Epoch 5/10\n",
      "896/896 [==============================] - 384s 428ms/step - loss: 0.5000 - acc: 0.5033 - val_loss: 0.5000 - val_acc: 0.4600\n",
      "Epoch 6/10\n",
      "896/896 [==============================] - 365s 408ms/step - loss: 0.5000 - acc: 0.5045 - val_loss: 0.5000 - val_acc: 0.4700\n",
      "Epoch 7/10\n",
      "896/896 [==============================] - 448s 501ms/step - loss: 0.5000 - acc: 0.5033 - val_loss: 0.5000 - val_acc: 0.4600\n",
      "Epoch 8/10\n",
      "896/896 [==============================] - 381s 425ms/step - loss: 0.5000 - acc: 0.5033 - val_loss: 0.5000 - val_acc: 0.4500\n",
      "Epoch 9/10\n",
      "896/896 [==============================] - 384s 429ms/step - loss: 0.5000 - acc: 0.5022 - val_loss: 0.5000 - val_acc: 0.4400\n",
      "Epoch 10/10\n",
      "896/896 [==============================] - 371s 414ms/step - loss: 0.5000 - acc: 0.5089 - val_loss: 0.5000 - val_acc: 0.4600\n",
      "Test loss: 0.4995077546905069\n",
      "Test accuracy: 0.5\n"
     ]
    }
   ],
   "source": [
    "# コンパイル\n",
    "# optimizer = sgd\n",
    "model.compile(loss='mean_squared_error',\n",
    "              optimizer='sgd',\n",
    "              metrics=['accuracy'])\n",
    "\n",
    "#es_cb = keras.callbacks.EarlyStopping(monitor='val_loss', patience=0, verbose=0, mode='auto')\n",
    "#validation_data にtest_dataを用いるのは良くないらしい\n",
    "history = model.fit(val_x_train, val_y_train, batch_size=300, epochs=10,\n",
    "                   validation_data = (val_x_test, val_y_test), verbose=1)\n",
    "\n",
    "score = model.evaluate(x_test, y_test, verbose=0)\n",
    "\n",
    "print('Test loss:', score[0])\n",
    "print('Test accuracy:', score[1])"
   ]
  },
  {
   "cell_type": "code",
   "execution_count": 93,
   "metadata": {},
   "outputs": [
    {
     "name": "stdout",
     "output_type": "stream",
     "text": [
      "The history saving thread hit an unexpected error (OperationalError('unable to open database file',)).History will not be written to the database.\n"
     ]
    },
    {
     "data": {
      "image/png": "[encoded data removed]",
      "text/plain": [
       "<matplotlib.figure.Figure at 0x1a36cabf98>"
      ]
     },
     "metadata": {},
     "output_type": "display_data"
    },
    {
     "data": {
      "image/png": "[encoded data removed]",
      "text/plain": [
       "<matplotlib.figure.Figure at 0x1a37a04f98>"
      ]
     },
     "metadata": {},
     "output_type": "display_data"
    }
   ],
   "source": [
    "#Accuracy\n",
    "plt.plot(history.history['acc'])\n",
    "plt.plot(history.history['val_acc'])\n",
    "plt.title('model accuracy')\n",
    "plt.ylabel('accuracy')\n",
    "plt.xlabel('epoch')\n",
    "plt.legend(['train', 'test'], loc='upper left')\n",
    "plt.show()\n",
    "#loss\n",
    "plt.plot(history.history['loss'])\n",
    "plt.plot(history.history['val_loss'])\n",
    "plt.title('model loss')\n",
    "plt.ylabel('loss')\n",
    "plt.xlabel('epoch')\n",
    "plt.legend(['train', 'test'], loc='upper left')\n",
    "plt.show()"
   ]
  },
  {
   "cell_type": "code",
   "execution_count": null,
   "metadata": {},
   "outputs": [],
   "source": []
  },
  {
   "cell_type": "code",
   "execution_count": 94,
   "metadata": {},
   "outputs": [],
   "source": [
    "classes = model.predict(x_test)"
   ]
  },
  {
   "cell_type": "code",
   "execution_count": 95,
   "metadata": {},
   "outputs": [],
   "source": [
    "#正答率のための準備\n",
    "for_pred = pd.DataFrame(classes, columns = {'no_tumor', 'tumor'})\n",
    "pred = for_pred.tumor.map(lambda x: 1 if x > 0.5 else 0 )"
   ]
  },
  {
   "cell_type": "code",
   "execution_count": 96,
   "metadata": {},
   "outputs": [
    {
     "name": "stdout",
     "output_type": "stream",
     "text": [
      "[[ 0 85]\n",
      " [ 0 85]]\n",
      "accuracy :  0.5\n",
      "recall:  1.0\n"
     ]
    }
   ],
   "source": [
    "confmat = confusion_matrix(y_true=Y_test, y_pred=pred)\n",
    "print(confmat)\n",
    "print('accuracy : ', accuracy_score(Y_test, pred))\n",
    "print('recall: ', recall_score(Y_test, pred))"
   ]
  },
  {
   "cell_type": "code",
   "execution_count": 97,
   "metadata": {},
   "outputs": [
    {
     "name": "stdout",
     "output_type": "stream",
     "text": [
      "(array([  1.,   0.,   1.,   0.,   0.,   1.,   0.,   0.,   1., 166.]), array([0.99902511, 0.9991226 , 0.99922009, 0.99931757, 0.99941506,\n",
      "       0.99951255, 0.99961004, 0.99970753, 0.99980502, 0.99990251,\n",
      "       1.        ]), <a list of 10 Patch objects>)\n"
     ]
    },
    {
     "data": {
      "image/png": "[encoded data removed]",
      "text/plain": [
       "<matplotlib.figure.Figure at 0x1a33b2c550>"
      ]
     },
     "metadata": {},
     "output_type": "display_data"
    }
   ],
   "source": [
    "print(plt.hist(for_pred[\"tumor\"]))"
   ]
  },
  {
   "cell_type": "code",
   "execution_count": null,
   "metadata": {},
   "outputs": [],
   "source": []
  },
  {
   "cell_type": "markdown",
   "metadata": {},
   "source": [
    "### 2層にする"
   ]
  },
  {
   "cell_type": "code",
   "execution_count": 98,
   "metadata": {},
   "outputs": [],
   "source": [
    "# CNNを構築\n",
    "#relu or tanh\n",
    "model = Sequential()\n",
    "\n",
    "model.add(Conv2D(32,(10, 10), padding='same',\n",
    "                 input_shape=X_train.shape[1:]))\n",
    "model.add(Activation('relu'))\n",
    "model.add(Conv2D(32,(10, 10)))\n",
    "model.add(Activation('relu'))\n",
    "model.add(MaxPooling2D(pool_size=(2, 2)))\n",
    "model.add(Dropout(0.25))\n",
    "\n",
    "model.add(Conv2D(64, (10, 10), padding='same'))\n",
    "model.add(Activation('relu'))\n",
    "model.add(Conv2D(64, (10, 10)))\n",
    "model.add(Activation('relu'))\n",
    "model.add(MaxPooling2D(pool_size=(2, 2)))\n",
    "model.add(Dropout(0.25))\n",
    "\n",
    "model.add(Flatten())\n",
    "model.add(Dense(512))\n",
    "model.add(Activation('relu'))\n",
    "model.add(Dropout(0.5))\n",
    "model.add(Dense(2))       # クラスは2個\n",
    "model.add(Activation('tanh'))"
   ]
  },
  {
   "cell_type": "code",
   "execution_count": null,
   "metadata": {},
   "outputs": [
    {
     "name": "stdout",
     "output_type": "stream",
     "text": [
      "Train on 896 samples, validate on 100 samples\n",
      "Epoch 1/3\n"
     ]
    }
   ],
   "source": [
    "# コンパイル\n",
    "# optimizer = sgd\n",
    "model.compile(loss='mean_squared_error',\n",
    "              optimizer='sgd',\n",
    "              metrics=['accuracy'])\n",
    "\n",
    "#es_cb = keras.callbacks.EarlyStopping(monitor='val_loss', patience=0, verbose=0, mode='auto')\n",
    "#validation_data にtest_dataを用いるのは良くないらしい\n",
    "history = model.fit(val_x_train, val_y_train, batch_size=300, epochs=3,\n",
    "                   validation_data = (val_x_test, val_y_test), verbose=1)\n",
    "\n",
    "score = model.evaluate(x_test, y_test, verbose=0)\n",
    "\n",
    "print('Test loss:', score[0])\n",
    "print('Test accuracy:', score[1])"
   ]
  },
  {
   "cell_type": "code",
   "execution_count": 93,
   "metadata": {},
   "outputs": [
    {
     "name": "stdout",
     "output_type": "stream",
     "text": [
      "The history saving thread hit an unexpected error (OperationalError('unable to open database file',)).History will not be written to the database.\n"
     ]
    },
    {
     "data": {
      "image/png": "[encoded data removed]",
      "text/plain": [
       "<matplotlib.figure.Figure at 0x1a36cabf98>"
      ]
     },
     "metadata": {},
     "output_type": "display_data"
    },
    {
     "data": {
      "image/png": "[encoded data removed]",
      "text/plain": [
       "<matplotlib.figure.Figure at 0x1a37a04f98>"
      ]
     },
     "metadata": {},
     "output_type": "display_data"
    }
   ],
   "source": [
    "#Accuracy\n",
    "plt.plot(history.history['acc'])\n",
    "plt.plot(history.history['val_acc'])\n",
    "plt.title('model accuracy')\n",
    "plt.ylabel('accuracy')\n",
    "plt.xlabel('epoch')\n",
    "plt.legend(['train', 'test'], loc='upper left')\n",
    "plt.show()\n",
    "#loss\n",
    "plt.plot(history.history['loss'])\n",
    "plt.plot(history.history['val_loss'])\n",
    "plt.title('model loss')\n",
    "plt.ylabel('loss')\n",
    "plt.xlabel('epoch')\n",
    "plt.legend(['train', 'test'], loc='upper left')\n",
    "plt.show()"
   ]
  },
  {
   "cell_type": "code",
   "execution_count": null,
   "metadata": {},
   "outputs": [],
   "source": []
  },
  {
   "cell_type": "code",
   "execution_count": 94,
   "metadata": {},
   "outputs": [],
   "source": [
    "classes = model.predict(x_test)"
   ]
  },
  {
   "cell_type": "code",
   "execution_count": 95,
   "metadata": {},
   "outputs": [],
   "source": [
    "#正答率のための準備\n",
    "for_pred = pd.DataFrame(classes, columns = {'no_tumor', 'tumor'})\n",
    "pred = for_pred.tumor.map(lambda x: 1 if x > 0.5 else 0 )"
   ]
  },
  {
   "cell_type": "code",
   "execution_count": 96,
   "metadata": {},
   "outputs": [
    {
     "name": "stdout",
     "output_type": "stream",
     "text": [
      "[[ 0 85]\n",
      " [ 0 85]]\n",
      "accuracy :  0.5\n",
      "recall:  1.0\n"
     ]
    }
   ],
   "source": [
    "confmat = confusion_matrix(y_true=Y_test, y_pred=pred)\n",
    "print(confmat)\n",
    "print('accuracy : ', accuracy_score(Y_test, pred))\n",
    "print('recall: ', recall_score(Y_test, pred))"
   ]
  },
  {
   "cell_type": "code",
   "execution_count": 97,
   "metadata": {},
   "outputs": [
    {
     "name": "stdout",
     "output_type": "stream",
     "text": [
      "(array([  1.,   0.,   1.,   0.,   0.,   1.,   0.,   0.,   1., 166.]), array([0.99902511, 0.9991226 , 0.99922009, 0.99931757, 0.99941506,\n",
      "       0.99951255, 0.99961004, 0.99970753, 0.99980502, 0.99990251,\n",
      "       1.        ]), <a list of 10 Patch objects>)\n"
     ]
    },
    {
     "data": {
      "image/png": "[encoded data removed]",
      "text/plain": [
       "<matplotlib.figure.Figure at 0x1a33b2c550>"
      ]
     },
     "metadata": {},
     "output_type": "display_data"
    }
   ],
   "source": [
    "print(plt.hist(for_pred[\"tumor\"]))"
   ]
  },
  {
   "cell_type": "markdown",
   "metadata": {},
   "source": [
    "### epochを増やす"
   ]
  },
  {
   "cell_type": "code",
   "execution_count": 92,
   "metadata": {},
   "outputs": [
    {
     "name": "stdout",
     "output_type": "stream",
     "text": [
      "Train on 896 samples, validate on 100 samples\n",
      "Epoch 1/10\n",
      "896/896 [==============================] - 382s 427ms/step - loss: 0.5366 - acc: 0.5045 - val_loss: 0.5000 - val_acc: 0.4500\n",
      "Epoch 2/10\n",
      "896/896 [==============================] - 368s 411ms/step - loss: 0.5000 - acc: 0.5011 - val_loss: 0.5000 - val_acc: 0.4600\n",
      "Epoch 3/10\n",
      "896/896 [==============================] - 367s 409ms/step - loss: 0.5000 - acc: 0.5011 - val_loss: 0.5000 - val_acc: 0.4500\n",
      "Epoch 4/10\n",
      "896/896 [==============================] - 373s 417ms/step - loss: 0.5000 - acc: 0.5067 - val_loss: 0.5000 - val_acc: 0.4600\n",
      "Epoch 5/10\n",
      "896/896 [==============================] - 384s 428ms/step - loss: 0.5000 - acc: 0.5033 - val_loss: 0.5000 - val_acc: 0.4600\n",
      "Epoch 6/10\n",
      "896/896 [==============================] - 365s 408ms/step - loss: 0.5000 - acc: 0.5045 - val_loss: 0.5000 - val_acc: 0.4700\n",
      "Epoch 7/10\n",
      "896/896 [==============================] - 448s 501ms/step - loss: 0.5000 - acc: 0.5033 - val_loss: 0.5000 - val_acc: 0.4600\n",
      "Epoch 8/10\n",
      "896/896 [==============================] - 381s 425ms/step - loss: 0.5000 - acc: 0.5033 - val_loss: 0.5000 - val_acc: 0.4500\n",
      "Epoch 9/10\n",
      "896/896 [==============================] - 384s 429ms/step - loss: 0.5000 - acc: 0.5022 - val_loss: 0.5000 - val_acc: 0.4400\n",
      "Epoch 10/10\n",
      "896/896 [==============================] - 371s 414ms/step - loss: 0.5000 - acc: 0.5089 - val_loss: 0.5000 - val_acc: 0.4600\n",
      "Test loss: 0.4995077546905069\n",
      "Test accuracy: 0.5\n"
     ]
    }
   ],
   "source": [
    "# コンパイル\n",
    "# optimizer = sgd\n",
    "model.compile(loss='mean_squared_error',\n",
    "              optimizer='sgd',\n",
    "              metrics=['accuracy'])\n",
    "\n",
    "#es_cb = keras.callbacks.EarlyStopping(monitor='val_loss', patience=0, verbose=0, mode='auto')\n",
    "#validation_data にtest_dataを用いるのは良くないらしい\n",
    "history = model.fit(val_x_train, val_y_train, batch_size=300, epochs=10,\n",
    "                   validation_data = (val_x_test, val_y_test), verbose=1)\n",
    "\n",
    "score = model.evaluate(x_test, y_test, verbose=0)\n",
    "\n",
    "print('Test loss:', score[0])\n",
    "print('Test accuracy:', score[1])"
   ]
  },
  {
   "cell_type": "code",
   "execution_count": 93,
   "metadata": {},
   "outputs": [
    {
     "name": "stdout",
     "output_type": "stream",
     "text": [
      "The history saving thread hit an unexpected error (OperationalError('unable to open database file',)).History will not be written to the database.\n"
     ]
    },
    {
     "data": {
      "image/png": "[encoded data removed]",
      "text/plain": [
       "<matplotlib.figure.Figure at 0x1a36cabf98>"
      ]
     },
     "metadata": {},
     "output_type": "display_data"
    },
    {
     "data": {
      "image/png": "[encoded data removed]",
      "text/plain": [
       "<matplotlib.figure.Figure at 0x1a37a04f98>"
      ]
     },
     "metadata": {},
     "output_type": "display_data"
    }
   ],
   "source": [
    "#Accuracy\n",
    "plt.plot(history.history['acc'])\n",
    "plt.plot(history.history['val_acc'])\n",
    "plt.title('model accuracy')\n",
    "plt.ylabel('accuracy')\n",
    "plt.xlabel('epoch')\n",
    "plt.legend(['train', 'test'], loc='upper left')\n",
    "plt.show()\n",
    "#loss\n",
    "plt.plot(history.history['loss'])\n",
    "plt.plot(history.history['val_loss'])\n",
    "plt.title('model loss')\n",
    "plt.ylabel('loss')\n",
    "plt.xlabel('epoch')\n",
    "plt.legend(['train', 'test'], loc='upper left')\n",
    "plt.show()"
   ]
  },
  {
   "cell_type": "code",
   "execution_count": null,
   "metadata": {},
   "outputs": [],
   "source": []
  },
  {
   "cell_type": "code",
   "execution_count": 94,
   "metadata": {},
   "outputs": [],
   "source": [
    "classes = model.predict(x_test)"
   ]
  },
  {
   "cell_type": "code",
   "execution_count": 95,
   "metadata": {},
   "outputs": [],
   "source": [
    "#正答率のための準備\n",
    "for_pred = pd.DataFrame(classes, columns = {'no_tumor', 'tumor'})\n",
    "pred = for_pred.tumor.map(lambda x: 1 if x > 0.5 else 0 )"
   ]
  },
  {
   "cell_type": "code",
   "execution_count": 96,
   "metadata": {},
   "outputs": [
    {
     "name": "stdout",
     "output_type": "stream",
     "text": [
      "[[ 0 85]\n",
      " [ 0 85]]\n",
      "accuracy :  0.5\n",
      "recall:  1.0\n"
     ]
    }
   ],
   "source": [
    "confmat = confusion_matrix(y_true=Y_test, y_pred=pred)\n",
    "print(confmat)\n",
    "print('accuracy : ', accuracy_score(Y_test, pred))\n",
    "print('recall: ', recall_score(Y_test, pred))"
   ]
  },
  {
   "cell_type": "code",
   "execution_count": 97,
   "metadata": {},
   "outputs": [
    {
     "name": "stdout",
     "output_type": "stream",
     "text": [
      "(array([  1.,   0.,   1.,   0.,   0.,   1.,   0.,   0.,   1., 166.]), array([0.99902511, 0.9991226 , 0.99922009, 0.99931757, 0.99941506,\n",
      "       0.99951255, 0.99961004, 0.99970753, 0.99980502, 0.99990251,\n",
      "       1.        ]), <a list of 10 Patch objects>)\n"
     ]
    },
    {
     "data": {
      "image/png": "[encoded data removed]",
      "text/plain": [
       "<matplotlib.figure.Figure at 0x1a33b2c550>"
      ]
     },
     "metadata": {},
     "output_type": "display_data"
    }
   ],
   "source": [
    "print(plt.hist(for_pred[\"tumor\"]))"
   ]
  },
  {
   "cell_type": "code",
   "execution_count": null,
   "metadata": {},
   "outputs": [],
   "source": []
  },
  {
   "cell_type": "code",
   "execution_count": 18,
   "metadata": {},
   "outputs": [],
   "source": [
    "# CNNを構築\n",
    "#relu or tanh\n",
    "model = Sequential()\n",
    "\n",
    "model.add(Conv2D(32,(10, 10), padding='same',\n",
    "                 input_shape=X_train.shape[1:]))\n",
    "model.add(Activation('relu'))\n",
    "model.add(Conv2D(32,(10, 10)))\n",
    "model.add(Activation('relu'))\n",
    "model.add(MaxPooling2D(pool_size=(2, 2)))\n",
    "model.add(Dropout(0.25))\n",
    "\n",
    "model.add(Conv2D(64, (10, 10), padding='same'))\n",
    "model.add(Activation('relu'))\n",
    "model.add(Conv2D(64, (10, 10)))\n",
    "model.add(Activation('relu'))\n",
    "model.add(MaxPooling2D(pool_size=(2, 2)))\n",
    "model.add(Dropout(0.25))\n",
    "\n",
    "model.add(Flatten())\n",
    "model.add(Dense(512))\n",
    "model.add(Activation('relu'))\n",
    "model.add(Dropout(0.5))\n",
    "model.add(Dense(2))       # クラスは2個\n",
    "model.add(Activation('softmax'))"
   ]
  },
  {
   "cell_type": "code",
   "execution_count": 19,
   "metadata": {},
   "outputs": [
    {
     "name": "stdout",
     "output_type": "stream",
     "text": [
      "Train on 896 samples, validate on 100 samples\n",
      "Epoch 1/8\n",
      "896/896 [==============================] - 538s 601ms/step - loss: 0.2566 - acc: 0.4967 - val_loss: 0.2490 - val_acc: 0.5900\n",
      "Epoch 2/8\n",
      "896/896 [==============================] - 518s 578ms/step - loss: 0.2517 - acc: 0.5045 - val_loss: 0.2486 - val_acc: 0.5100\n",
      "Epoch 3/8\n",
      "896/896 [==============================] - 525s 586ms/step - loss: 0.2494 - acc: 0.5346 - val_loss: 0.2485 - val_acc: 0.4700\n",
      "Epoch 4/8\n",
      "896/896 [==============================] - 531s 592ms/step - loss: 0.2503 - acc: 0.5123 - val_loss: 0.2482 - val_acc: 0.4800\n",
      "Epoch 5/8\n",
      "896/896 [==============================] - 531s 592ms/step - loss: 0.2466 - acc: 0.5312 - val_loss: 0.2484 - val_acc: 0.4600\n",
      "Epoch 6/8\n",
      "896/896 [==============================] - 518s 578ms/step - loss: 0.2459 - acc: 0.5234 - val_loss: 0.2486 - val_acc: 0.4500\n",
      "Epoch 7/8\n",
      "896/896 [==============================] - 543s 606ms/step - loss: 0.2450 - acc: 0.5368 - val_loss: 0.2485 - val_acc: 0.4500\n",
      "Epoch 8/8\n",
      "896/896 [==============================] - 550s 614ms/step - loss: 0.2461 - acc: 0.5145 - val_loss: 0.2482 - val_acc: 0.4500\n",
      "Test loss: 0.2541889530770919\n",
      "Test accuracy: 0.5\n"
     ]
    }
   ],
   "source": [
    "# コンパイル\n",
    "# optimizer = sgd\n",
    "model.compile(loss='mean_squared_error',\n",
    "              optimizer='sgd',\n",
    "              metrics=['accuracy'])\n",
    "\n",
    "#es_cb = keras.callbacks.EarlyStopping(monitor='val_loss', patience=0, verbose=0, mode='auto')\n",
    "#validation_data にtest_dataを用いるのは良くないらしい\n",
    "history = model.fit(val_x_train, val_y_train, batch_size=400, epochs=8,\n",
    "                   validation_data = (val_x_test, val_y_test), verbose=1)\n",
    "\n",
    "score = model.evaluate(x_test, y_test, verbose=0)\n",
    "\n",
    "print('Test loss:', score[0])\n",
    "print('Test accuracy:', score[1])"
   ]
  },
  {
   "cell_type": "code",
   "execution_count": null,
   "metadata": {},
   "outputs": [],
   "source": []
  },
  {
   "cell_type": "code",
   "execution_count": 45,
   "metadata": {},
   "outputs": [
    {
     "data": {
      "image/png": "[encoded data removed]",
      "text/plain": [
       "<matplotlib.figure.Figure at 0x1a381d9358>"
      ]
     },
     "metadata": {},
     "output_type": "display_data"
    },
    {
     "data": {
      "image/png": "[encoded data removed]",
      "text/plain": [
       "<matplotlib.figure.Figure at 0x1a37516a90>"
      ]
     },
     "metadata": {},
     "output_type": "display_data"
    }
   ],
   "source": [
    "#Accuracy\n",
    "plt.plot(history.history['acc'])\n",
    "plt.plot(history.history['val_acc'])\n",
    "plt.title('model accuracy')\n",
    "plt.ylabel('accuracy')\n",
    "plt.xlabel('epoch')\n",
    "plt.legend(['train', 'test'], loc='upper left')\n",
    "plt.show()\n",
    "#loss\n",
    "plt.plot(history.history['loss'])\n",
    "plt.plot(history.history['val_loss'])\n",
    "plt.title('model loss')\n",
    "plt.ylabel('loss')\n",
    "plt.xlabel('epoch')\n",
    "plt.legend(['train', 'test'], loc='upper left')\n",
    "plt.show()"
   ]
  },
  {
   "cell_type": "code",
   "execution_count": 46,
   "metadata": {},
   "outputs": [],
   "source": [
    "classes = model.predict(x_test)"
   ]
  },
  {
   "cell_type": "code",
   "execution_count": 47,
   "metadata": {},
   "outputs": [],
   "source": [
    "#正答率のための準備\n",
    "for_pred = pd.DataFrame(classes, columns = {'no_tumor', 'tumor'})\n",
    "pred = for_pred.tumor.map(lambda x: 1 if x > 0.5 else 0 )"
   ]
  },
  {
   "cell_type": "code",
   "execution_count": 48,
   "metadata": {},
   "outputs": [
    {
     "name": "stdout",
     "output_type": "stream",
     "text": [
      "[[85  0]\n",
      " [85  0]]\n",
      "accuracy :  0.5\n",
      "recall:  0.0\n"
     ]
    }
   ],
   "source": [
    "confmat = confusion_matrix(y_true=Y_test, y_pred=pred)\n",
    "print(confmat)\n",
    "print('accuracy : ', accuracy_score(Y_test, pred))\n",
    "print('recall: ', recall_score(Y_test, pred))"
   ]
  },
  {
   "cell_type": "code",
   "execution_count": 49,
   "metadata": {},
   "outputs": [
    {
     "name": "stdout",
     "output_type": "stream",
     "text": [
      "(array([29., 43., 34., 15.,  9.,  7., 16.,  8.,  5.,  4.]), array([0.4245708 , 0.43085062, 0.43713043, 0.44341025, 0.44969007,\n",
      "       0.45596988, 0.4622497 , 0.46852952, 0.47480934, 0.48108915,\n",
      "       0.48736897]), <a list of 10 Patch objects>)\n"
     ]
    },
    {
     "data": {
      "image/png": "[encoded data removed]",
      "text/plain": [
       "<matplotlib.figure.Figure at 0x181567bcc0>"
      ]
     },
     "metadata": {},
     "output_type": "display_data"
    }
   ],
   "source": [
    "print(plt.hist(for_pred[\"tumor\"]))"
   ]
  },
  {
   "cell_type": "code",
   "execution_count": null,
   "metadata": {},
   "outputs": [],
   "source": []
  },
  {
   "cell_type": "code",
   "execution_count": 43,
   "metadata": {},
   "outputs": [],
   "source": [
    "# CNNを構築\n",
    "#relu or tanh\n",
    "model = Sequential()\n",
    "\n",
    "model.add(Conv2D(32,(20, 20), padding='same',\n",
    "                 input_shape=X_train.shape[1:]))\n",
    "model.add(Activation('relu'))\n",
    "model.add(Conv2D(32,(20, 20)))\n",
    "model.add(Activation('relu'))\n",
    "model.add(MaxPooling2D(pool_size=(2, 2)))\n",
    "model.add(Dropout(0.25))\n",
    "\n",
    "model.add(Conv2D(64, (10, 10), padding='same'))\n",
    "model.add(Activation('relu'))\n",
    "model.add(Conv2D(64, (10, 10)))\n",
    "model.add(Activation('relu'))\n",
    "model.add(MaxPooling2D(pool_size=(2, 2)))\n",
    "model.add(Dropout(0.25))\n",
    "\n",
    "model.add(Flatten())\n",
    "model.add(Dense(512))\n",
    "model.add(Activation('relu'))\n",
    "model.add(Dropout(0.5))\n",
    "model.add(Dense(2))       # クラスは2個\n",
    "model.add(Activation('softmax'))"
   ]
  },
  {
   "cell_type": "code",
   "execution_count": 42,
   "metadata": {},
   "outputs": [
    {
     "name": "stdout",
     "output_type": "stream",
     "text": [
      "model\n",
      "_________________________________________________________________\n",
      "Layer (type)                 Output Shape              Param #   \n",
      "=================================================================\n",
      "conv2d_25 (Conv2D)           (None, 100, 100, 32)      38432     \n",
      "_________________________________________________________________\n",
      "activation_37 (Activation)   (None, 100, 100, 32)      0         \n",
      "_________________________________________________________________\n",
      "conv2d_26 (Conv2D)           (None, 81, 81, 32)        409632    \n",
      "_________________________________________________________________\n",
      "activation_38 (Activation)   (None, 81, 81, 32)        0         \n",
      "_________________________________________________________________\n",
      "max_pooling2d_13 (MaxPooling (None, 40, 40, 32)        0         \n",
      "_________________________________________________________________\n",
      "dropout_19 (Dropout)         (None, 40, 40, 32)        0         \n",
      "_________________________________________________________________\n",
      "conv2d_27 (Conv2D)           (None, 40, 40, 64)        204864    \n",
      "_________________________________________________________________\n",
      "activation_39 (Activation)   (None, 40, 40, 64)        0         \n",
      "_________________________________________________________________\n",
      "conv2d_28 (Conv2D)           (None, 31, 31, 64)        409664    \n",
      "_________________________________________________________________\n",
      "activation_40 (Activation)   (None, 31, 31, 64)        0         \n",
      "_________________________________________________________________\n",
      "max_pooling2d_14 (MaxPooling (None, 15, 15, 64)        0         \n",
      "_________________________________________________________________\n",
      "dropout_20 (Dropout)         (None, 15, 15, 64)        0         \n",
      "_________________________________________________________________\n",
      "flatten_7 (Flatten)          (None, 14400)             0         \n",
      "_________________________________________________________________\n",
      "dense_13 (Dense)             (None, 512)               7373312   \n",
      "_________________________________________________________________\n",
      "activation_41 (Activation)   (None, 512)               0         \n",
      "_________________________________________________________________\n",
      "dropout_21 (Dropout)         (None, 512)               0         \n",
      "_________________________________________________________________\n",
      "dense_14 (Dense)             (None, 2)                 1026      \n",
      "_________________________________________________________________\n",
      "activation_42 (Activation)   (None, 2)                 0         \n",
      "=================================================================\n",
      "Total params: 8,436,930\n",
      "Trainable params: 8,436,930\n",
      "Non-trainable params: 0\n",
      "_________________________________________________________________\n",
      "None\n"
     ]
    }
   ],
   "source": [
    "print('model')\n",
    "print(model.summary())"
   ]
  },
  {
   "cell_type": "code",
   "execution_count": 44,
   "metadata": {},
   "outputs": [
    {
     "name": "stdout",
     "output_type": "stream",
     "text": [
      "Train on 896 samples, validate on 100 samples\n",
      "Epoch 1/3\n",
      "896/896 [==============================] - 864s 965ms/step - loss: 0.2503 - acc: 0.5145 - val_loss: 0.2486 - val_acc: 0.4600\n",
      "Epoch 2/3\n",
      "896/896 [==============================] - 819s 914ms/step - loss: 0.2469 - acc: 0.5089 - val_loss: 0.2483 - val_acc: 0.4600\n",
      "Epoch 3/3\n",
      "896/896 [==============================] - 841s 938ms/step - loss: 0.2440 - acc: 0.5223 - val_loss: 0.2495 - val_acc: 0.4600\n",
      "Test loss: 0.25452583993182465\n",
      "Test accuracy: 0.5\n"
     ]
    }
   ],
   "source": [
    "# コンパイル\n",
    "# optimizer = sgd\n",
    "model.compile(loss='mean_squared_error',\n",
    "              optimizer='sgd',\n",
    "              metrics=['accuracy'])\n",
    "\n",
    "#es_cb = keras.callbacks.EarlyStopping(monitor='val_loss', patience=0, verbose=0, mode='auto')\n",
    "#validation_data にtest_dataを用いるのは良くないらしい\n",
    "history = model.fit(val_x_train, val_y_train, batch_size=100, epochs=3,\n",
    "                   validation_data = (val_x_test, val_y_test), verbose=1)\n",
    "\n",
    "score = model.evaluate(x_test, y_test, verbose=0)\n",
    "\n",
    "print('Test loss:', score[0])\n",
    "print('Test accuracy:', score[1])"
   ]
  },
  {
   "cell_type": "code",
   "execution_count": null,
   "metadata": {},
   "outputs": [],
   "source": [
    "#"
   ]
  },
  {
   "cell_type": "code",
   "execution_count": null,
   "metadata": {},
   "outputs": [],
   "source": []
  },
  {
   "cell_type": "code",
   "execution_count": 20,
   "metadata": {},
   "outputs": [],
   "source": [
    "# CNNを構築\n",
    "#relu or tanh\n",
    "model = Sequential()\n",
    "\n",
    "model.add(Conv2D(32,(20, 20), padding='same',\n",
    "                 input_shape=X_train.shape[1:]))\n",
    "model.add(Activation('relu'))\n",
    "model.add(Conv2D(32,(20, 20)))\n",
    "model.add(Activation('relu'))\n",
    "model.add(BatchNormalization(axis=-1))\n",
    "model.add(MaxPooling2D(pool_size=(2, 2)))\n",
    "#model.add(Dropout(0.25))\n",
    "\n",
    "model.add(Conv2D(64, (10, 10), padding='same'))\n",
    "model.add(Activation('relu'))\n",
    "model.add(BatchNormalization(axis=-1))\n",
    "model.add(Conv2D(64, (10, 10)))\n",
    "model.add(Activation('relu'))\n",
    "model.add(BatchNormalization(axis=-1))\n",
    "model.add(MaxPooling2D(pool_size=(2, 2)))\n",
    "#model.add(Dropout(0.25))\n",
    "\n",
    "model.add(Flatten())\n",
    "model.add(Dense(512))\n",
    "model.add(Activation('relu'))\n",
    "model.add(Dropout(0.5))\n",
    "model.add(Dense(2))       # クラスは2個\n",
    "model.add(Activation('softmax'))"
   ]
  },
  {
   "cell_type": "code",
   "execution_count": 21,
   "metadata": {},
   "outputs": [
    {
     "name": "stdout",
     "output_type": "stream",
     "text": [
      "model\n",
      "_________________________________________________________________\n",
      "Layer (type)                 Output Shape              Param #   \n",
      "=================================================================\n",
      "conv2d_1 (Conv2D)            (None, 100, 100, 32)      38432     \n",
      "_________________________________________________________________\n",
      "activation_1 (Activation)    (None, 100, 100, 32)      0         \n",
      "_________________________________________________________________\n",
      "conv2d_2 (Conv2D)            (None, 81, 81, 32)        409632    \n",
      "_________________________________________________________________\n",
      "activation_2 (Activation)    (None, 81, 81, 32)        0         \n",
      "_________________________________________________________________\n",
      "batch_normalization_1 (Batch (None, 81, 81, 32)        128       \n",
      "_________________________________________________________________\n",
      "max_pooling2d_1 (MaxPooling2 (None, 40, 40, 32)        0         \n",
      "_________________________________________________________________\n",
      "conv2d_3 (Conv2D)            (None, 40, 40, 64)        204864    \n",
      "_________________________________________________________________\n",
      "activation_3 (Activation)    (None, 40, 40, 64)        0         \n",
      "_________________________________________________________________\n",
      "batch_normalization_2 (Batch (None, 40, 40, 64)        256       \n",
      "_________________________________________________________________\n",
      "conv2d_4 (Conv2D)            (None, 31, 31, 64)        409664    \n",
      "_________________________________________________________________\n",
      "activation_4 (Activation)    (None, 31, 31, 64)        0         \n",
      "_________________________________________________________________\n",
      "batch_normalization_3 (Batch (None, 31, 31, 64)        256       \n",
      "_________________________________________________________________\n",
      "max_pooling2d_2 (MaxPooling2 (None, 15, 15, 64)        0         \n",
      "_________________________________________________________________\n",
      "flatten_1 (Flatten)          (None, 14400)             0         \n",
      "_________________________________________________________________\n",
      "dense_1 (Dense)              (None, 512)               7373312   \n",
      "_________________________________________________________________\n",
      "activation_5 (Activation)    (None, 512)               0         \n",
      "_________________________________________________________________\n",
      "dropout_1 (Dropout)          (None, 512)               0         \n",
      "_________________________________________________________________\n",
      "dense_2 (Dense)              (None, 2)                 1026      \n",
      "_________________________________________________________________\n",
      "activation_6 (Activation)    (None, 2)                 0         \n",
      "=================================================================\n",
      "Total params: 8,437,570\n",
      "Trainable params: 8,437,250\n",
      "Non-trainable params: 320\n",
      "_________________________________________________________________\n",
      "None\n"
     ]
    }
   ],
   "source": [
    "print('model')\n",
    "print(model.summary())"
   ]
  },
  {
   "cell_type": "code",
   "execution_count": 22,
   "metadata": {},
   "outputs": [
    {
     "name": "stdout",
     "output_type": "stream",
     "text": [
      "Train on 896 samples, validate on 100 samples\n",
      "Epoch 1/3\n",
      "896/896 [==============================] - 916s 1s/step - loss: 0.2865 - acc: 0.7009 - val_loss: 0.5400 - val_acc: 0.4600\n",
      "Epoch 2/3\n",
      "896/896 [==============================] - 858s 958ms/step - loss: 0.2496 - acc: 0.7500 - val_loss: 0.5400 - val_acc: 0.4600\n",
      "Epoch 3/3\n",
      "896/896 [==============================] - 908s 1s/step - loss: 0.2454 - acc: 0.7545 - val_loss: 0.5400 - val_acc: 0.4600\n",
      "Test loss: 0.5176470589988372\n",
      "Test accuracy: 0.4823529418777017\n"
     ]
    }
   ],
   "source": [
    "# コンパイル\n",
    "# optimizer = sgd\n",
    "model.compile(loss='mean_squared_error',\n",
    "              optimizer='adam',\n",
    "              metrics=['accuracy'])\n",
    "\n",
    "#es_cb = keras.callbacks.EarlyStopping(monitor='val_loss', patience=0, verbose=0, mode='auto')\n",
    "#validation_data にtest_dataを用いるのは良くないらしい\n",
    "history = model.fit(val_x_train, val_y_train, batch_size=100, epochs=3,\n",
    "                   validation_data = (val_x_test, val_y_test), verbose=1)\n",
    "\n",
    "score = model.evaluate(x_test, y_test, verbose=0)\n",
    "\n",
    "print('Test loss:', score[0])\n",
    "print('Test accuracy:', score[1])"
   ]
  },
  {
   "cell_type": "code",
   "execution_count": null,
   "metadata": {},
   "outputs": [],
   "source": []
  },
  {
   "cell_type": "code",
   "execution_count": 23,
   "metadata": {},
   "outputs": [
    {
     "data": {
      "image/png": "[encoded data removed]",
      "text/plain": [
       "<matplotlib.figure.Figure at 0x1a3edf85c0>"
      ]
     },
     "metadata": {},
     "output_type": "display_data"
    },
    {
     "data": {
      "image/png": "[encoded data removed]",
      "text/plain": [
       "<matplotlib.figure.Figure at 0x1a3ea03f98>"
      ]
     },
     "metadata": {},
     "output_type": "display_data"
    }
   ],
   "source": [
    "#Accuracy\n",
    "plt.plot(history.history['acc'])\n",
    "plt.plot(history.history['val_acc'])\n",
    "plt.title('model accuracy')\n",
    "plt.ylabel('accuracy')\n",
    "plt.xlabel('epoch')\n",
    "plt.legend(['train', 'test'], loc='upper left')\n",
    "plt.show()\n",
    "#loss\n",
    "plt.plot(history.history['loss'])\n",
    "plt.plot(history.history['val_loss'])\n",
    "plt.title('model loss')\n",
    "plt.ylabel('loss')\n",
    "plt.xlabel('epoch')\n",
    "plt.legend(['train', 'test'], loc='upper left')\n",
    "plt.show()"
   ]
  },
  {
   "cell_type": "code",
   "execution_count": 24,
   "metadata": {},
   "outputs": [],
   "source": [
    "classes = model.predict(x_test)"
   ]
  },
  {
   "cell_type": "code",
   "execution_count": 47,
   "metadata": {},
   "outputs": [],
   "source": [
    "#正答率のための準備\n",
    "for_pred = pd.DataFrame(classes, columns = {'no_tumor', 'tumor'})\n",
    "pred = for_pred.tumor.map(lambda x: 1 if x > 0.5 else 0 )"
   ]
  },
  {
   "cell_type": "code",
   "execution_count": 48,
   "metadata": {},
   "outputs": [
    {
     "name": "stdout",
     "output_type": "stream",
     "text": [
      "[[85  0]\n",
      " [85  0]]\n",
      "accuracy :  0.5\n",
      "recall:  0.0\n"
     ]
    }
   ],
   "source": [
    "confmat = confusion_matrix(y_true=Y_test, y_pred=pred)\n",
    "print(confmat)\n",
    "print('accuracy : ', accuracy_score(Y_test, pred))\n",
    "print('recall: ', recall_score(Y_test, pred))"
   ]
  },
  {
   "cell_type": "code",
   "execution_count": 20,
   "metadata": {},
   "outputs": [],
   "source": [
    "# CNNを構築\n",
    "#relu or tanh\n",
    "model = Sequential()\n",
    "#20×20のフィルターを32種類\n",
    "model.add(Conv2D(32,(20, 20), padding='same',\n",
    "                 input_shape=X_train.shape[1:]))\n",
    "model.add(Activation('relu'))\n",
    "model.add(Conv2D(32,(20, 20)))\n",
    "model.add(Activation('relu'))\n",
    "model.add(BatchNormalization(axis=-1))\n",
    "model.add(MaxPooling2D(pool_size=(2, 2)))\n",
    "#model.add(Dropout(0.25))\n",
    "\n",
    "model.add(Conv2D(64, (10, 10), padding='same'))\n",
    "model.add(Activation('relu'))\n",
    "model.add(BatchNormalization(axis=-1))\n",
    "model.add(Conv2D(64, (10, 10)))\n",
    "model.add(Activation('relu'))\n",
    "model.add(BatchNormalization(axis=-1))\n",
    "model.add(MaxPooling2D(pool_size=(2, 2)))\n",
    "#model.add(Dropout(0.25))\n",
    "\n",
    "model.add(Flatten())\n",
    "model.add(Dense(512))\n",
    "model.add(Activation('relu'))\n",
    "model.add(Dropout(0.5))\n",
    "model.add(Dense(2))       # クラスは2個\n",
    "model.add(Activation('softmax'))"
   ]
  },
  {
   "cell_type": "code",
   "execution_count": 65,
   "metadata": {},
   "outputs": [
    {
     "name": "stdout",
     "output_type": "stream",
     "text": [
      "model\n",
      "_________________________________________________________________\n",
      "Layer (type)                 Output Shape              Param #   \n",
      "=================================================================\n",
      "conv2d_1 (Conv2D)            (None, 100, 100, 32)      38432     \n",
      "_________________________________________________________________\n",
      "activation_1 (Activation)    (None, 100, 100, 32)      0         \n",
      "_________________________________________________________________\n",
      "conv2d_2 (Conv2D)            (None, 81, 81, 32)        409632    \n",
      "_________________________________________________________________\n",
      "activation_2 (Activation)    (None, 81, 81, 32)        0         \n",
      "_________________________________________________________________\n",
      "batch_normalization_1 (Batch (None, 81, 81, 32)        128       \n",
      "_________________________________________________________________\n",
      "max_pooling2d_1 (MaxPooling2 (None, 40, 40, 32)        0         \n",
      "_________________________________________________________________\n",
      "conv2d_3 (Conv2D)            (None, 40, 40, 64)        204864    \n",
      "_________________________________________________________________\n",
      "activation_3 (Activation)    (None, 40, 40, 64)        0         \n",
      "_________________________________________________________________\n",
      "batch_normalization_2 (Batch (None, 40, 40, 64)        256       \n",
      "_________________________________________________________________\n",
      "conv2d_4 (Conv2D)            (None, 31, 31, 64)        409664    \n",
      "_________________________________________________________________\n",
      "activation_4 (Activation)    (None, 31, 31, 64)        0         \n",
      "_________________________________________________________________\n",
      "batch_normalization_3 (Batch (None, 31, 31, 64)        256       \n",
      "_________________________________________________________________\n",
      "max_pooling2d_2 (MaxPooling2 (None, 15, 15, 64)        0         \n",
      "_________________________________________________________________\n",
      "flatten_1 (Flatten)          (None, 14400)             0         \n",
      "_________________________________________________________________\n",
      "dense_1 (Dense)              (None, 512)               7373312   \n",
      "_________________________________________________________________\n",
      "activation_5 (Activation)    (None, 512)               0         \n",
      "_________________________________________________________________\n",
      "dropout_1 (Dropout)          (None, 512)               0         \n",
      "_________________________________________________________________\n",
      "dense_2 (Dense)              (None, 2)                 1026      \n",
      "_________________________________________________________________\n",
      "activation_6 (Activation)    (None, 2)                 0         \n",
      "=================================================================\n",
      "Total params: 8,437,570\n",
      "Trainable params: 8,437,250\n",
      "Non-trainable params: 320\n",
      "_________________________________________________________________\n",
      "None\n"
     ]
    }
   ],
   "source": [
    "print('model')\n",
    "print(model.summary())"
   ]
  },
  {
   "cell_type": "code",
   "execution_count": 74,
   "metadata": {},
   "outputs": [
    {
     "name": "stdout",
     "output_type": "stream",
     "text": [
      "Train on 896 samples, validate on 100 samples\n",
      "Epoch 1/3\n",
      "896/896 [==============================] - 1030s 1s/step - loss: 0.2919 - acc: 0.7076 - val_loss: 0.5300 - val_acc: 0.4700\n",
      "Epoch 2/3\n",
      "896/896 [==============================] - 966s 1s/step - loss: 0.2812 - acc: 0.7176 - val_loss: 0.5400 - val_acc: 0.4600\n",
      "Epoch 3/3\n",
      "896/896 [==============================] - 947s 1s/step - loss: 0.2608 - acc: 0.7388 - val_loss: 0.5500 - val_acc: 0.4500\n",
      "Test loss: 0.5058821959530606\n",
      "Test accuracy: 0.4941176456563613\n"
     ]
    }
   ],
   "source": [
    "# コンパイル\n",
    "# optimizer = sgd\n",
    "model.compile(loss='mean_squared_error',\n",
    "              optimizer='adam',\n",
    "              metrics=['accuracy'])\n",
    "\n",
    "#　Tensor Boardのcallbackを作成\n",
    "from keras.callbacks import TensorBoard\n",
    "tbcb = TensorBoard(log_dir = './graph',\n",
    "                 histogram_freq = 0, write_graph = True)\n",
    "\n",
    "# historyに学習履歴を取得\n",
    "#es_cb = keras.callbacks.EarlyStopping(monitor='val_loss', patience=0, verbose=0, mode='auto')\n",
    "#validation_data にtest_dataを用いるのは良くないらしい\n",
    "history = model.fit(val_x_train, val_y_train, batch_size=100, epochs=3,\n",
    "                   validation_data = (val_x_test, val_y_test), verbose=1,\n",
    "                   callbacks = [tbcb])\n",
    "\n",
    "# モデルの保存\n",
    "from keras.models import model_from_json\n",
    "model_json=model.to_json()\n",
    "with open(\"model.json\",mode='w') as f:\n",
    "    f.write(model_json)\n",
    "    \n",
    "# 学習済みの重みを保存\n",
    "model.save_weights(\"weights.hdf5\")\n",
    "\n",
    "# 学習履歴を保存\n",
    "import pickle\n",
    "with open(\"history.pickle\",mode='wb') as f:\n",
    "    pickle.dump(history.history,f)\n",
    "    \n",
    "score = model.evaluate(x_test, y_test, verbose=0)\n",
    "\n",
    "print('Test loss:', score[0])\n",
    "print('Test accuracy:', score[1])"
   ]
  },
  {
   "cell_type": "code",
   "execution_count": 81,
   "metadata": {},
   "outputs": [],
   "source": [
    "classes = model.predict(x_test)"
   ]
  },
  {
   "cell_type": "code",
   "execution_count": 82,
   "metadata": {},
   "outputs": [],
   "source": [
    "#正答率のための準備\n",
    "for_pred = pd.DataFrame(classes, columns = {'no_tumor', 'tumor'})\n",
    "pred = for_pred.tumor.map(lambda x: 1 if x > 0.5 else 0 )"
   ]
  },
  {
   "cell_type": "code",
   "execution_count": 83,
   "metadata": {},
   "outputs": [
    {
     "name": "stdout",
     "output_type": "stream",
     "text": [
      "[[84  1]\n",
      " [85  0]]\n",
      "accuracy :  0.49411764705882355\n",
      "recall:  0.0\n"
     ]
    }
   ],
   "source": [
    "confmat = confusion_matrix(y_true=Y_test, y_pred=pred)\n",
    "print(confmat)\n",
    "print('accuracy : ', accuracy_score(Y_test, pred))\n",
    "print('recall: ', recall_score(Y_test, pred))"
   ]
  },
  {
   "cell_type": "code",
   "execution_count": 75,
   "metadata": {},
   "outputs": [],
   "source": [
    "from pylab import rcParams\n",
    "\n",
    "rcParams['figure.figsize'] = 15,15"
   ]
  },
  {
   "cell_type": "code",
   "execution_count": 98,
   "metadata": {},
   "outputs": [
    {
     "name": "stdout",
     "output_type": "stream",
     "text": [
      "Layer Name: conv2d_2\n"
     ]
    },
    {
     "data": {
      "image/png": "[encoded data removed]",
      "text/plain": [
       "<matplotlib.figure.Figure at 0x1a9ede8c50>"
      ]
     },
     "metadata": {},
     "output_type": "display_data"
    }
   ],
   "source": [
    "from keras.models import model_from_json\n",
    "\n",
    "model = None\n",
    "with open('model.json') as f:\n",
    "    model = model_from_json(f.read())\n",
    "\n",
    "model.load_weights('weights.hdf5')\n",
    "\n",
    "layer_num = 2  # 0=畳み込み1層目\n",
    "print('Layer Name: {}'.format(model.layers[layer_num].get_config()['name']))\n",
    "W = model.layers[layer_num].get_weights()[0]\n",
    "\n",
    "W = W.transpose(3, 2, 0, 1) # 配列を転置する\n",
    "nb_filter, nb_channel, nb_row, nb_col = W.shape\n",
    "\n",
    "import matplotlib.pyplot as plt\n",
    "from sklearn.preprocessing import MinMaxScaler\n",
    "plt.figure()\n",
    "for i in range(nb_filter):\n",
    "    im = W[i, 0]\n",
    "    # 重みを0-255のスケールに変換する\n",
    "    scaler = MinMaxScaler(feature_range=(0, 255))\n",
    "    im = scaler.fit_transform(im)\n",
    "    plt.subplot(10, 10, i + 1)\n",
    "    plt.axis('off')\n",
    "    plt.imshow(im, cmap='coolwarm', interpolation='nearest')\n",
    "plt.show()"
   ]
  },
  {
   "cell_type": "markdown",
   "metadata": {},
   "source": [
    "色はfilterの大きさを表し、赤が大きく青が小さい。"
   ]
  },
  {
   "cell_type": "code",
   "execution_count": 101,
   "metadata": {},
   "outputs": [],
   "source": [
    "# 正しく評価した/していないimageを取得する関数\n",
    "def get_imgs(num, flg_correct=True):\n",
    "    if flg_correct:\n",
    "        mask = (y_test == num) & (classes == y_test)\n",
    "    else:\n",
    "        mask = (y_test == num) & (classes != y_test)\n",
    "    return X_test[mask], classes[mask]"
   ]
  },
  {
   "cell_type": "code",
   "execution_count": 102,
   "metadata": {},
   "outputs": [],
   "source": [
    "# 2層目まで（convolution -> relu)を取得\n",
    "layers = model.layers.copy()[:2]  \n",
    "\n",
    "# 新しいmodel(model2)にlayerを入れる\n",
    "model2 = Sequential()\n",
    "for layer in layers:\n",
    "    model2.add(layer)\n",
    "model2.compile(loss='categorical_crossentropy', optimizer='RMSprop')  # compileするだけ (loss, optimizerは使わない)"
   ]
  },
  {
   "cell_type": "code",
   "execution_count": 97,
   "metadata": {},
   "outputs": [
    {
     "ename": "ValueError",
     "evalue": "The truth value of an array with more than one element is ambiguous. Use a.any() or a.all()",
     "output_type": "error",
     "traceback": [
      "\u001b[0;31m---------------------------------------------------------------------------\u001b[0m",
      "\u001b[0;31mValueError\u001b[0m                                Traceback (most recent call last)",
      "\u001b[0;32m<ipython-input-97-b2738d0fb4b2>\u001b[0m in \u001b[0;36m<module>\u001b[0;34m()\u001b[0m\n\u001b[0;32m----> 1\u001b[0;31m test_wrong = [im for im in zip(x_test, classes, y_test)\n\u001b[0m\u001b[1;32m      2\u001b[0m               if im[1] != im[2]]\n",
      "\u001b[0;32m<ipython-input-97-b2738d0fb4b2>\u001b[0m in \u001b[0;36m<listcomp>\u001b[0;34m(.0)\u001b[0m\n\u001b[1;32m      1\u001b[0m test_wrong = [im for im in zip(x_test, classes, y_test)\n\u001b[0;32m----> 2\u001b[0;31m               if im[1] != im[2]]\n\u001b[0m",
      "\u001b[0;31mValueError\u001b[0m: The truth value of an array with more than one element is ambiguous. Use a.any() or a.all()"
     ]
    }
   ],
   "source": [
    "num = 0  # 表示する数字\n",
    "m = 2  # 表示する数字の枚数\n",
    "\n",
    "# filterを表示 ---------------------------------\n",
    "w1 = model2.layers[0].get_weights()[0]\n",
    "plt.figure(figsize=(16, 3.5))\n",
    "for i, val in enumerate(w1):\n",
    "    plt.subplot(2, 8, i + 1)\n",
    "    im = val.reshape((size_filter, size_filter))\n",
    "    plt.axis(\"off\")\n",
    "    plt.imshow(im, cmap='coolwarm',interpolation='nearest')\n",
    "\n",
    "    \n",
    "# 合っているイメージと間違っているイメージを取得 ----------------------\n",
    "xs_correct, nums_correct = get_imgs(num, flg_correct=True)\n",
    "xs_wrong, nums_wrong = get_imgs(num, flg_correct=False)\n",
    "# m枚ずつ抜き出しmerge\n",
    "xs = np.concatenate([xs_correct[:m], xs_wrong[:m]])\n",
    "ys = np.concatenate([nums_correct[:m], nums_wrong[:m]])\n",
    "# filterd imagesを取得\n",
    "imgs_f = model2.predict(xs)\n",
    "\n",
    "\n",
    "# 表示 -------------------------------------------\n",
    "for x, num_pred, img_f in zip(xs, ys, imgs_f):\n",
    "    # 元イメージ\n",
    "    plt.figure(figsize=(1, 1))\n",
    "    plt.axis('off')\n",
    "    plt.imshow(x[0], cmap='gray',interpolation='nearest')\n",
    "    plt.text(0, -1, num, fontsize=14, color='blue')\n",
    "    plt.text(8, -1, num_pred, fontsize=14, color='red')\n",
    "    # filter後のイメージ\n",
    "    plt.figure(figsize=(16, 3.5))\n",
    "    for i, img in enumerate(img_f):\n",
    "        plt.subplot(2, 8, i + 1)\n",
    "        plt.axis('off')\n",
    "        plt.imshow(img, cmap='gray',interpolation='nearest')\n",
    "#     break"
   ]
  },
  {
   "cell_type": "code",
   "execution_count": 30,
   "metadata": {},
   "outputs": [
    {
     "name": "stdout",
     "output_type": "stream",
     "text": [
      "Train on 896 samples, validate on 100 samples\n",
      "Epoch 1/1\n",
      "896/896 [==============================] - 1004s 1s/step - loss: 0.2578 - acc: 0.7422 - val_loss: 0.4500 - val_acc: 0.5500\n",
      "Test loss: 0.5\n",
      "Test accuracy: 0.5\n"
     ]
    }
   ],
   "source": [
    "# コンパイル\n",
    "# optimizer = sgd\n",
    "model.compile(loss='mean_squared_error',\n",
    "              optimizer='adam',\n",
    "              metrics=['accuracy'])\n",
    "\n",
    "#es_cb = keras.callbacks.EarlyStopping(monitor='val_loss', patience=0, verbose=0, mode='auto')\n",
    "#validation_data にtest_dataを用いるのは良くないらしい\n",
    "history = model.fit(val_x_train, val_y_train, batch_size=10, epochs=1,\n",
    "                   validation_data = (val_x_test, val_y_test), verbose=1)\n",
    "\n",
    "score = model.evaluate(x_test, y_test, verbose=0)\n",
    "\n",
    "print('Test loss:', score[0])\n",
    "print('Test accuracy:', score[1])"
   ]
  },
  {
   "cell_type": "code",
   "execution_count": 34,
   "metadata": {},
   "outputs": [
    {
     "name": "stdout",
     "output_type": "stream",
     "text": [
      "1 <keras.layers.convolutional.Conv2D object at 0x1a23a6e978>\n",
      "2 <keras.layers.core.Activation object at 0x1a23a6eba8>\n",
      "3 <keras.layers.convolutional.Conv2D object at 0x1a23a6ee48>\n",
      "4 <keras.layers.core.Activation object at 0x1a23a6edd8>\n",
      "5 <keras.layers.normalization.BatchNormalization object at 0x1a23d04e80>\n",
      "6 <keras.layers.pooling.MaxPooling2D object at 0x1a23d04a58>\n",
      "7 <keras.layers.convolutional.Conv2D object at 0x1a23a6efd0>\n",
      "8 <keras.layers.core.Activation object at 0x1a3cdbc320>\n",
      "9 <keras.layers.normalization.BatchNormalization object at 0x1a3ce2c748>\n",
      "10 <keras.layers.convolutional.Conv2D object at 0x1a3ce2cf98>\n",
      "11 <keras.layers.core.Activation object at 0x1a239b2e48>\n",
      "12 <keras.layers.normalization.BatchNormalization object at 0x1a3ce69b38>\n",
      "13 <keras.layers.pooling.MaxPooling2D object at 0x1a3ce69588>\n",
      "14 <keras.layers.core.Flatten object at 0x1a3cea9748>\n",
      "15 <keras.layers.core.Dense object at 0x1a3cf01550>\n",
      "16 <keras.layers.core.Activation object at 0x1a3cf6cda0>\n",
      "17 <keras.layers.core.Dropout object at 0x1a3cf7c160>\n",
      "18 <keras.layers.core.Dense object at 0x1a3cf4f5f8>\n",
      "19 <keras.layers.core.Activation object at 0x1a3cf87fd0>\n",
      "(20, 20, 3, 32) (32,)\n",
      "(20, 20, 3, 32)\n"
     ]
    }
   ],
   "source": [
    "# list of the layers\n",
    "lays = model.layers\n",
    "for i, l in enumerate(lays):\n",
    "    print(i+1, l)\n",
    "w1 = model.layers[0].get_weights()[0]\n",
    "b1 = model.layers[0].get_weights()[1]\n",
    "\n",
    "print(w1.shape, b1.shape)\n",
    "print(model.layers[0].get_weights()[0].shape)"
   ]
  },
  {
   "cell_type": "code",
   "execution_count": 39,
   "metadata": {},
   "outputs": [
    {
     "ename": "FileNotFoundError",
     "evalue": "[Errno 2] No such file or directory: 'lenet.json'",
     "output_type": "error",
     "traceback": [
      "\u001b[0;31m---------------------------------------------------------------------------\u001b[0m",
      "\u001b[0;31mFileNotFoundError\u001b[0m                         Traceback (most recent call last)",
      "\u001b[0;32m<ipython-input-39-f86095d7aff8>\u001b[0m in \u001b[0;36m<module>\u001b[0;34m()\u001b[0m\n\u001b[1;32m      3\u001b[0m \u001b[0;32mfrom\u001b[0m \u001b[0mmatplotlib\u001b[0m \u001b[0;32mimport\u001b[0m \u001b[0mpyplot\u001b[0m \u001b[0;32mas\u001b[0m \u001b[0mplt\u001b[0m\u001b[0;34m\u001b[0m\u001b[0m\n\u001b[1;32m      4\u001b[0m \u001b[0;34m\u001b[0m\u001b[0m\n\u001b[0;32m----> 5\u001b[0;31m \u001b[0;32mwith\u001b[0m \u001b[0mopen\u001b[0m\u001b[0;34m(\u001b[0m\u001b[0;34m'lenet.json'\u001b[0m\u001b[0;34m,\u001b[0m \u001b[0;34m'r'\u001b[0m\u001b[0;34m)\u001b[0m \u001b[0;32mas\u001b[0m \u001b[0mfile\u001b[0m\u001b[0;34m:\u001b[0m\u001b[0;34m\u001b[0m\u001b[0m\n\u001b[0m\u001b[1;32m      6\u001b[0m     \u001b[0mmodel_json\u001b[0m \u001b[0;34m=\u001b[0m \u001b[0mfile\u001b[0m\u001b[0;34m.\u001b[0m\u001b[0mread\u001b[0m\u001b[0;34m(\u001b[0m\u001b[0;34m)\u001b[0m\u001b[0;34m\u001b[0m\u001b[0m\n\u001b[1;32m      7\u001b[0m \u001b[0mmodel\u001b[0m \u001b[0;34m=\u001b[0m \u001b[0mmodel_from_json\u001b[0m\u001b[0;34m(\u001b[0m\u001b[0mmodel_json\u001b[0m\u001b[0;34m)\u001b[0m\u001b[0;34m\u001b[0m\u001b[0m\n",
      "\u001b[0;31mFileNotFoundError\u001b[0m: [Errno 2] No such file or directory: 'lenet.json'"
     ]
    }
   ],
   "source": [
    "import numpy as np\n",
    "from keras.models import model_from_json\n",
    "from matplotlib import pyplot as plt\n",
    "\n",
    "with open('lenet.json', 'r') as file:\n",
    "    model_json = file.read()\n",
    "model = model_from_json(model_json)\n",
    "model.load_weights('lenet_weights.hdf5')\n",
    "\n",
    "# Get 1st layer Convolution2D weights.\n",
    "# In this example, weights.shape is (6, 1, 5, 5)\n",
    "weights = model.layers[0].get_weights()[0].transpose(3,2,0,1)\n",
    "fig = plt.figure()\n",
    "for i, weight_3d in enumerate(weights):\n",
    "    for j, weight_2d in enumerate(weight_3d):\n",
    "        sub = fig.add_subplot(weights.shape[0], weight_3d.shape[0], i*weight_3d.shape[0]+j+1)\n",
    "        sub.axis('off')\n",
    "        sub.imshow(weight_2d, 'Greys')\n",
    "plt.show()"
   ]
  },
  {
   "cell_type": "markdown",
   "metadata": {},
   "source": [
    "layers = model.layers.copy()[:2]\n",
    "model2"
   ]
  }
 ],
 "metadata": {
  "kernelspec": {
   "display_name": "Python 3",
   "language": "python",
   "name": "python3"
  },
  "language_info": {
   "codemirror_mode": {
    "name": "ipython",
    "version": 3
   },
   "file_extension": ".py",
   "mimetype": "text/x-python",
   "name": "python",
   "nbconvert_exporter": "python",
   "pygments_lexer": "ipython3",
   "version": "3.5.4"
  }
 },
 "nbformat": 4,
 "nbformat_minor": 2
}
