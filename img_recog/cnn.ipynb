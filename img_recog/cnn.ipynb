{
 "cells": [
  {
   "cell_type": "code",
   "execution_count": 1,
   "metadata": {},
   "outputs": [
    {
     "name": "stderr",
     "output_type": "stream",
     "text": [
      "/Users/daichisato/anaconda/envs/lily/lib/python3.5/site-packages/h5py/__init__.py:36: FutureWarning: Conversion of the second argument of issubdtype from `float` to `np.floating` is deprecated. In future, it will be treated as `np.float64 == np.dtype(float).type`.\n",
      "  from ._conv import register_converters as _register_converters\n",
      "Using TensorFlow backend.\n"
     ]
    }
   ],
   "source": [
    "import keras\n",
    "import cv2\n",
    "import h5py\n",
    "from collections import Counter\n",
    "from keras import backend as K\n",
    "from keras.utils import np_utils\n",
    "from keras.layers.convolutional import Conv2D, MaxPooling2D\n",
    "from keras.models import Sequential\n",
    "from keras.layers.core import Dense, Dropout, Activation, Flatten\n",
    "from keras.preprocessing.image import array_to_img, img_to_array, list_pictures, load_img\n",
    "from keras.layers.normalization import BatchNormalization\n",
    "import numpy as np\n",
    "import pandas as pd\n",
    "import matplotlib.pyplot as plt\n",
    "from sklearn.model_selection import train_test_split\n",
    "from sklearn.metrics import confusion_matrix, accuracy_score, recall_score, precision_score"
   ]
  },
  {
   "cell_type": "code",
   "execution_count": 2,
   "metadata": {},
   "outputs": [],
   "source": [
    "df = pd.read_csv(\"data_total.csv\")"
   ]
  },
  {
   "cell_type": "code",
   "execution_count": 3,
   "metadata": {},
   "outputs": [
    {
     "data": {
      "text/html": [
       "<div>\n",
       "<style scoped>\n",
       "    .dataframe tbody tr th:only-of-type {\n",
       "        vertical-align: middle;\n",
       "    }\n",
       "\n",
       "    .dataframe tbody tr th {\n",
       "        vertical-align: top;\n",
       "    }\n",
       "\n",
       "    .dataframe thead th {\n",
       "        text-align: right;\n",
       "    }\n",
       "</style>\n",
       "<table border=\"1\" class=\"dataframe\">\n",
       "  <thead>\n",
       "    <tr style=\"text-align: right;\">\n",
       "      <th></th>\n",
       "      <th>corner_flag</th>\n",
       "      <th>label</th>\n",
       "      <th>num_blob_100</th>\n",
       "      <th>num_blob_200</th>\n",
       "      <th>num_blob_300</th>\n",
       "      <th>num_blob_400</th>\n",
       "      <th>num_blob_500</th>\n",
       "      <th>patch_id</th>\n",
       "    </tr>\n",
       "  </thead>\n",
       "  <tbody>\n",
       "    <tr>\n",
       "      <th>0</th>\n",
       "      <td>1</td>\n",
       "      <td>0</td>\n",
       "      <td>1</td>\n",
       "      <td>1</td>\n",
       "      <td>1</td>\n",
       "      <td>0</td>\n",
       "      <td>0</td>\n",
       "      <td>UT001100100</td>\n",
       "    </tr>\n",
       "    <tr>\n",
       "      <th>1</th>\n",
       "      <td>1</td>\n",
       "      <td>0</td>\n",
       "      <td>1</td>\n",
       "      <td>1</td>\n",
       "      <td>1</td>\n",
       "      <td>0</td>\n",
       "      <td>0</td>\n",
       "      <td>UT001100110</td>\n",
       "    </tr>\n",
       "    <tr>\n",
       "      <th>2</th>\n",
       "      <td>1</td>\n",
       "      <td>0</td>\n",
       "      <td>1</td>\n",
       "      <td>1</td>\n",
       "      <td>1</td>\n",
       "      <td>0</td>\n",
       "      <td>0</td>\n",
       "      <td>UT001100120</td>\n",
       "    </tr>\n",
       "    <tr>\n",
       "      <th>3</th>\n",
       "      <td>1</td>\n",
       "      <td>0</td>\n",
       "      <td>1</td>\n",
       "      <td>1</td>\n",
       "      <td>1</td>\n",
       "      <td>0</td>\n",
       "      <td>0</td>\n",
       "      <td>UT001100130</td>\n",
       "    </tr>\n",
       "    <tr>\n",
       "      <th>4</th>\n",
       "      <td>1</td>\n",
       "      <td>0</td>\n",
       "      <td>1</td>\n",
       "      <td>1</td>\n",
       "      <td>1</td>\n",
       "      <td>0</td>\n",
       "      <td>0</td>\n",
       "      <td>UT001100140</td>\n",
       "    </tr>\n",
       "  </tbody>\n",
       "</table>\n",
       "</div>"
      ],
      "text/plain": [
       "   corner_flag  label  num_blob_100  num_blob_200  num_blob_300  num_blob_400  \\\n",
       "0            1      0             1             1             1             0   \n",
       "1            1      0             1             1             1             0   \n",
       "2            1      0             1             1             1             0   \n",
       "3            1      0             1             1             1             0   \n",
       "4            1      0             1             1             1             0   \n",
       "\n",
       "   num_blob_500     patch_id  \n",
       "0             0  UT001100100  \n",
       "1             0  UT001100110  \n",
       "2             0  UT001100120  \n",
       "3             0  UT001100130  \n",
       "4             0  UT001100140  "
      ]
     },
     "execution_count": 3,
     "metadata": {},
     "output_type": "execute_result"
    }
   ],
   "source": [
    "df.head()"
   ]
  },
  {
   "cell_type": "code",
   "execution_count": 4,
   "metadata": {},
   "outputs": [],
   "source": [
    "np.random.seed(12345)"
   ]
  },
  {
   "cell_type": "code",
   "execution_count": 5,
   "metadata": {},
   "outputs": [],
   "source": [
    "df['patient_id'] = df.patch_id.str[:5]\n",
    "df['blob_total'] = df.num_blob_100 + df.num_blob_200 + df.num_blob_300 + df.num_blob_400 + df.num_blob_500\n",
    "\n",
    "df[\"label\"].value_counts()\n",
    "\n",
    "df_cancer = df.query('label == 1')\n",
    "df_not_cancer = df.query('label == 0')\n",
    "\n",
    "lengths = [len(df_cancer), len(df_not_cancer)]\n",
    "\n",
    "mini = min(lengths)\n",
    "\n",
    "df_cancer = df_cancer.sample(n=mini)\n",
    "df_not_cancer = df_not_cancer.sample(n=mini)\n",
    "\n",
    "df_2 = pd.concat([df_cancer, df_not_cancer])\n",
    "\n",
    "df_Y = df_2[[\"label\", \"patient_id\"]]\n",
    "df_X = df_2.drop([\"label\"], axis=1)\n",
    "\n",
    "\n",
    "test_p = 'UT001'"
   ]
  },
  {
   "cell_type": "markdown",
   "metadata": {},
   "source": [
    "#### 説明変数・目的変数に分ける"
   ]
  },
  {
   "cell_type": "code",
   "execution_count": 6,
   "metadata": {},
   "outputs": [],
   "source": [
    "X_train = df_X[df_X.patient_id != test_p].drop(['patch_id', 'patient_id'], axis=1)\n",
    "X_test = df_X[df_X.patient_id == test_p].drop(['patch_id', 'patient_id'], axis=1)\n",
    "\n",
    "Y_train = df_Y[df_Y.patient_id != test_p].drop('patient_id', axis=1)\n",
    "Y_test = df_Y[df_Y.patient_id == test_p].drop('patient_id', axis=1)"
   ]
  },
  {
   "cell_type": "code",
   "execution_count": 7,
   "metadata": {},
   "outputs": [],
   "source": [
    "from keras.utils.np_utils import to_categorical\n",
    "x_train = np.array(X_train).astype('float32')\n",
    "y_train = to_categorical(Y_train, 2)\n",
    "\n",
    "x_test = np.array(X_test).astype('float32')\n",
    "y_test = to_categorical(Y_test, 2) \n"
   ]
  },
  {
   "cell_type": "markdown",
   "metadata": {},
   "source": [
    "### Sequentialモデル"
   ]
  },
  {
   "cell_type": "code",
   "execution_count": 36,
   "metadata": {},
   "outputs": [],
   "source": [
    "# モデルの作成\n",
    "model = Sequential()\n",
    "\n",
    "# モデルにレイヤーを積み上げていく\n",
    "# 最初のレイヤーにはshapeを指定する必要がある\n",
    "# 出力次元は手作業で探るしかない\n",
    "# Dropout で過学習回避\n",
    "model.add(Dense(7, activation='relu', input_shape = (7, )))\n",
    "model.add(Dense(7, activation='relu'))\n",
    "model.add(Dense(2, activation='softmax'))"
   ]
  },
  {
   "cell_type": "code",
   "execution_count": 70,
   "metadata": {},
   "outputs": [
    {
     "name": "stdout",
     "output_type": "stream",
     "text": [
      "Train on 984 samples, validate on 182 samples\n",
      "Epoch 1/10\n",
      "984/984 [==============================] - 1s 570us/step - loss: 0.2713 - acc: 0.4654 - val_loss: 0.2545 - val_acc: 0.4725\n",
      "Epoch 2/10\n",
      "984/984 [==============================] - 0s 72us/step - loss: 0.2372 - acc: 0.5193 - val_loss: 0.2550 - val_acc: 0.5879\n",
      "Epoch 3/10\n",
      "984/984 [==============================] - 0s 78us/step - loss: 0.2333 - acc: 0.5559 - val_loss: 0.2496 - val_acc: 0.5989\n",
      "Epoch 4/10\n",
      "984/984 [==============================] - 0s 76us/step - loss: 0.2299 - acc: 0.5711 - val_loss: 0.2496 - val_acc: 0.5989\n",
      "Epoch 5/10\n",
      "984/984 [==============================] - 0s 75us/step - loss: 0.2269 - acc: 0.5915 - val_loss: 0.2434 - val_acc: 0.6374\n",
      "Epoch 6/10\n",
      "984/984 [==============================] - 0s 75us/step - loss: 0.2236 - acc: 0.6138 - val_loss: 0.2399 - val_acc: 0.6813\n",
      "Epoch 7/10\n",
      "984/984 [==============================] - 0s 76us/step - loss: 0.2202 - acc: 0.6413 - val_loss: 0.2367 - val_acc: 0.6813\n",
      "Epoch 8/10\n",
      "984/984 [==============================] - 0s 76us/step - loss: 0.2171 - acc: 0.6789 - val_loss: 0.2343 - val_acc: 0.7143\n",
      "Epoch 9/10\n",
      "984/984 [==============================] - 0s 75us/step - loss: 0.2141 - acc: 0.7083 - val_loss: 0.2295 - val_acc: 0.7637\n",
      "Epoch 10/10\n",
      "984/984 [==============================] - 0s 75us/step - loss: 0.2107 - acc: 0.7459 - val_loss: 0.2290 - val_acc: 0.7527\n",
      "Test loss: 0.22901439241000585\n",
      "Test accuracy: 0.7527472553672371\n"
     ]
    }
   ],
   "source": [
    "# 訓練プロセスの定義\n",
    "model.compile(loss='mean_squared_error',\n",
    "              optimizer='sgd',\n",
    "              metrics=['accuracy'])\n",
    "\n",
    "history = model.fit(x_train, y_train, epochs = 10, validation_data=(x_test, y_test))\n",
    "score = model.evaluate(x_test, y_test, verbose=0)\n",
    "print('Test loss:', score[0])\n",
    "print('Test accuracy:', score[1])"
   ]
  },
  {
   "cell_type": "code",
   "execution_count": 71,
   "metadata": {},
   "outputs": [
    {
     "data": {
      "image/png": "[encoded data removed]",
      "text/plain": [
       "<matplotlib.figure.Figure at 0x1a152b4c18>"
      ]
     },
     "metadata": {},
     "output_type": "display_data"
    },
    {
     "data": {
      "image/png": "[encoded data removed]",
      "text/plain": [
       "<matplotlib.figure.Figure at 0x1a152c2860>"
      ]
     },
     "metadata": {},
     "output_type": "display_data"
    }
   ],
   "source": [
    "#Accuracy\n",
    "plt.plot(history.history['acc'])\n",
    "plt.plot(history.history['val_acc'])\n",
    "plt.title('model accuracy')\n",
    "plt.ylabel('accuracy')\n",
    "plt.xlabel('epoch')\n",
    "plt.legend(['train', 'test'], loc='upper left')\n",
    "plt.show()\n",
    "#loss\n",
    "plt.plot(history.history['loss'])\n",
    "plt.plot(history.history['val_loss'])\n",
    "plt.title('model loss')\n",
    "plt.ylabel('loss')\n",
    "plt.xlabel('epoch')\n",
    "plt.legend(['train', 'test'], loc='upper left')\n",
    "plt.show()"
   ]
  },
  {
   "cell_type": "code",
   "execution_count": 49,
   "metadata": {},
   "outputs": [],
   "source": [
    "# 予測の実行\n",
    "classes = model.predict(x_test)"
   ]
  },
  {
   "cell_type": "code",
   "execution_count": 50,
   "metadata": {},
   "outputs": [],
   "source": [
    "#正答率のための準備\n",
    "for_pred = pd.DataFrame(classes, columns = {'no_tumor', 'tumor'})\n",
    "pred = for_pred.tumor.map(lambda x: 1 if x > 0.5 else 0 )"
   ]
  },
  {
   "cell_type": "code",
   "execution_count": 51,
   "metadata": {},
   "outputs": [
    {
     "name": "stdout",
     "output_type": "stream",
     "text": [
      "[[45 53]\n",
      " [84  0]]\n",
      "accuracy :  0.24725274725274726\n",
      "recall:  0.0\n"
     ]
    }
   ],
   "source": [
    "confmat = confusion_matrix(y_true=Y_test, y_pred=pred)\n",
    "print(confmat)\n",
    "print('accuracy : ', accuracy_score(Y_test, pred))\n",
    "print('recall: ', recall_score(Y_test, pred))"
   ]
  },
  {
   "cell_type": "markdown",
   "metadata": {},
   "source": [
    "### 他のやり方"
   ]
  },
  {
   "cell_type": "code",
   "execution_count": 52,
   "metadata": {},
   "outputs": [],
   "source": [
    "model = Sequential()\n",
    "\n",
    "model.add(Dense(7, activation='relu', input_shape = (7, )))\n",
    "model.add(Dropout(0.2))\n",
    "model.add(Dense(7, activation='relu'))\n",
    "model.add(Dropout(0.2))\n",
    "model.add(Dense(2, activation='softmax'))"
   ]
  },
  {
   "cell_type": "code",
   "execution_count": 53,
   "metadata": {},
   "outputs": [
    {
     "name": "stdout",
     "output_type": "stream",
     "text": [
      "_________________________________________________________________\n",
      "Layer (type)                 Output Shape              Param #   \n",
      "=================================================================\n",
      "dense_13 (Dense)             (None, 7)                 56        \n",
      "_________________________________________________________________\n",
      "dropout_3 (Dropout)          (None, 7)                 0         \n",
      "_________________________________________________________________\n",
      "dense_14 (Dense)             (None, 7)                 56        \n",
      "_________________________________________________________________\n",
      "dropout_4 (Dropout)          (None, 7)                 0         \n",
      "_________________________________________________________________\n",
      "dense_15 (Dense)             (None, 2)                 16        \n",
      "=================================================================\n",
      "Total params: 128\n",
      "Trainable params: 128\n",
      "Non-trainable params: 0\n",
      "_________________________________________________________________\n"
     ]
    }
   ],
   "source": [
    "# モデル\n",
    "model.summary()"
   ]
  },
  {
   "cell_type": "code",
   "execution_count": 54,
   "metadata": {},
   "outputs": [
    {
     "name": "stdout",
     "output_type": "stream",
     "text": [
      "Train on 984 samples, validate on 182 samples\n",
      "Epoch 1/20\n",
      "984/984 [==============================] - 1s 630us/step - loss: 0.4190 - acc: 0.4827 - val_loss: 0.3731 - val_acc: 0.4121\n",
      "Epoch 2/20\n",
      "984/984 [==============================] - 0s 26us/step - loss: 0.3992 - acc: 0.4736 - val_loss: 0.3405 - val_acc: 0.4121\n",
      "Epoch 3/20\n",
      "984/984 [==============================] - 0s 26us/step - loss: 0.3856 - acc: 0.4705 - val_loss: 0.2937 - val_acc: 0.4121\n",
      "Epoch 4/20\n",
      "984/984 [==============================] - 0s 30us/step - loss: 0.3311 - acc: 0.5152 - val_loss: 0.2433 - val_acc: 0.4121\n",
      "Epoch 5/20\n",
      "984/984 [==============================] - 0s 28us/step - loss: 0.3020 - acc: 0.5224 - val_loss: 0.2199 - val_acc: 0.7473\n",
      "Epoch 6/20\n",
      "984/984 [==============================] - 0s 28us/step - loss: 0.2898 - acc: 0.5447 - val_loss: 0.2213 - val_acc: 0.6923\n",
      "Epoch 7/20\n",
      "984/984 [==============================] - 0s 29us/step - loss: 0.2889 - acc: 0.5539 - val_loss: 0.2220 - val_acc: 0.7802\n",
      "Epoch 8/20\n",
      "984/984 [==============================] - 0s 28us/step - loss: 0.3012 - acc: 0.5711 - val_loss: 0.2210 - val_acc: 0.7802\n",
      "Epoch 9/20\n",
      "984/984 [==============================] - 0s 28us/step - loss: 0.3037 - acc: 0.5671 - val_loss: 0.2206 - val_acc: 0.7692\n",
      "Epoch 10/20\n",
      "984/984 [==============================] - 0s 29us/step - loss: 0.2851 - acc: 0.5965 - val_loss: 0.2202 - val_acc: 0.7692\n",
      "Epoch 11/20\n",
      "984/984 [==============================] - 0s 30us/step - loss: 0.2894 - acc: 0.5732 - val_loss: 0.2211 - val_acc: 0.7637\n",
      "Epoch 12/20\n",
      "984/984 [==============================] - 0s 30us/step - loss: 0.2897 - acc: 0.5833 - val_loss: 0.2239 - val_acc: 0.7473\n",
      "Epoch 13/20\n",
      "984/984 [==============================] - 0s 30us/step - loss: 0.2760 - acc: 0.6026 - val_loss: 0.2198 - val_acc: 0.7802\n",
      "Epoch 14/20\n",
      "984/984 [==============================] - 0s 30us/step - loss: 0.2922 - acc: 0.5772 - val_loss: 0.2196 - val_acc: 0.7802\n",
      "Epoch 15/20\n",
      "984/984 [==============================] - 0s 28us/step - loss: 0.2882 - acc: 0.5864 - val_loss: 0.2190 - val_acc: 0.7802\n",
      "Epoch 16/20\n",
      "984/984 [==============================] - 0s 30us/step - loss: 0.2690 - acc: 0.6179 - val_loss: 0.2174 - val_acc: 0.7802\n",
      "Epoch 17/20\n",
      "984/984 [==============================] - 0s 30us/step - loss: 0.2957 - acc: 0.5894 - val_loss: 0.2181 - val_acc: 0.7802\n",
      "Epoch 18/20\n",
      "984/984 [==============================] - 0s 31us/step - loss: 0.2695 - acc: 0.6179 - val_loss: 0.2144 - val_acc: 0.7967\n",
      "Epoch 19/20\n",
      "984/984 [==============================] - 0s 30us/step - loss: 0.2706 - acc: 0.6148 - val_loss: 0.2150 - val_acc: 0.7912\n",
      "Epoch 20/20\n",
      "984/984 [==============================] - 0s 28us/step - loss: 0.2966 - acc: 0.5854 - val_loss: 0.2172 - val_acc: 0.7802\n",
      "Test loss: 0.21724734070536855\n",
      "Test accuracy: 0.7802197828397646\n"
     ]
    }
   ],
   "source": [
    "# バッチサイズ、エポック数\n",
    "batch_size = 128\n",
    "epochs = 20\n",
    "\n",
    "model.compile(loss='mean_squared_error',\n",
    "              optimizer='sgd',\n",
    "              metrics=['accuracy'])\n",
    "\n",
    "history = model.fit(x_train, y_train,\n",
    "                    batch_size=batch_size,\n",
    "                    epochs=epochs,\n",
    "                    verbose=1,\n",
    "                    validation_data=(x_test, y_test))\n",
    "score = model.evaluate(x_test, y_test, verbose=0)\n",
    "print('Test loss:', score[0])\n",
    "print('Test accuracy:', score[1])"
   ]
  },
  {
   "cell_type": "code",
   "execution_count": 57,
   "metadata": {},
   "outputs": [
    {
     "data": {
      "image/png": "[encoded data removed]",
      "text/plain": [
       "<matplotlib.figure.Figure at 0x1a1252ecf8>"
      ]
     },
     "metadata": {},
     "output_type": "display_data"
    },
    {
     "data": {
      "image/png": "[encoded data removed]",
      "text/plain": [
       "<matplotlib.figure.Figure at 0x1a13786e80>"
      ]
     },
     "metadata": {},
     "output_type": "display_data"
    }
   ],
   "source": [
    "#Accuracy\n",
    "plt.plot(history.history['acc'])\n",
    "plt.plot(history.history['val_acc'])\n",
    "plt.title('model accuracy')\n",
    "plt.ylabel('accuracy')\n",
    "plt.xlabel('epoch')\n",
    "plt.legend(['train', 'test'], loc='upper left')\n",
    "plt.show()\n",
    "#loss\n",
    "plt.plot(history.history['loss'])\n",
    "plt.plot(history.history['val_loss'])\n",
    "plt.title('model loss')\n",
    "plt.ylabel('loss')\n",
    "plt.xlabel('epoch')\n",
    "plt.legend(['train', 'test'], loc='upper left')\n",
    "plt.show()"
   ]
  },
  {
   "cell_type": "code",
   "execution_count": 56,
   "metadata": {},
   "outputs": [],
   "source": []
  },
  {
   "cell_type": "markdown",
   "metadata": {},
   "source": [
    "# CNN"
   ]
  },
  {
   "cell_type": "code",
   "execution_count": 8,
   "metadata": {},
   "outputs": [],
   "source": [
    "import keras\n",
    "import pandas as pd\n",
    "import numpy as np\n",
    "import matplotlib as plt\n",
    "from collections import Counter\n",
    "from keras import backend as K\n",
    "from keras.models import Sequential, Model\n",
    "from keras.layers import Dense, Dropout, Flatten, Input\n",
    "from keras.layers import Conv1D, MaxPooling1D"
   ]
  },
  {
   "cell_type": "code",
   "execution_count": 9,
   "metadata": {},
   "outputs": [],
   "source": [
    "df = pd.read_csv(\"data_total.csv\")"
   ]
  },
  {
   "cell_type": "markdown",
   "metadata": {},
   "source": [
    "### データの作成"
   ]
  },
  {
   "cell_type": "code",
   "execution_count": 10,
   "metadata": {},
   "outputs": [],
   "source": [
    "df['patient_id'] = df.patch_id.str[:5]\n",
    "df['blob_total'] = df.num_blob_100 + df.num_blob_200 + df.num_blob_300 + df.num_blob_400 + df.num_blob_500\n",
    "\n",
    "df[\"label\"].value_counts()\n",
    "\n",
    "df_cancer = df.query('label == 1')\n",
    "df_not_cancer = df.query('label == 0')\n",
    "\n",
    "lengths = [len(df_cancer), len(df_not_cancer)]\n",
    "\n",
    "mini = min(lengths)\n",
    "\n",
    "df_cancer = df_cancer.sample(n=mini)\n",
    "df_not_cancer = df_not_cancer.sample(n=mini)\n",
    "\n",
    "df_2 = pd.concat([df_cancer, df_not_cancer])\n",
    "\n",
    "df_Y = df_2[[\"label\", \"patient_id\"]]\n",
    "df_X = df_2.drop([\"label\"], axis=1)\n",
    "\n",
    "\n",
    "test_p = 'UT008'"
   ]
  },
  {
   "cell_type": "markdown",
   "metadata": {},
   "source": [
    "#### patient ごとの癌データの数"
   ]
  },
  {
   "cell_type": "code",
   "execution_count": 11,
   "metadata": {},
   "outputs": [
    {
     "data": {
      "text/html": [
       "<div>\n",
       "<style scoped>\n",
       "    .dataframe tbody tr th:only-of-type {\n",
       "        vertical-align: middle;\n",
       "    }\n",
       "\n",
       "    .dataframe tbody tr th {\n",
       "        vertical-align: top;\n",
       "    }\n",
       "\n",
       "    .dataframe thead th {\n",
       "        text-align: right;\n",
       "    }\n",
       "</style>\n",
       "<table border=\"1\" class=\"dataframe\">\n",
       "  <thead>\n",
       "    <tr style=\"text-align: right;\">\n",
       "      <th></th>\n",
       "      <th></th>\n",
       "      <th>label</th>\n",
       "    </tr>\n",
       "    <tr>\n",
       "      <th>patient_id</th>\n",
       "      <th></th>\n",
       "      <th></th>\n",
       "    </tr>\n",
       "  </thead>\n",
       "  <tbody>\n",
       "    <tr>\n",
       "      <th rowspan=\"2\" valign=\"top\">UT001</th>\n",
       "      <th>0</th>\n",
       "      <td>1643</td>\n",
       "    </tr>\n",
       "    <tr>\n",
       "      <th>1</th>\n",
       "      <td>85</td>\n",
       "    </tr>\n",
       "    <tr>\n",
       "      <th rowspan=\"2\" valign=\"top\">UT003</th>\n",
       "      <th>0</th>\n",
       "      <td>1609</td>\n",
       "    </tr>\n",
       "    <tr>\n",
       "      <th>1</th>\n",
       "      <td>119</td>\n",
       "    </tr>\n",
       "    <tr>\n",
       "      <th rowspan=\"2\" valign=\"top\">UT007</th>\n",
       "      <th>0</th>\n",
       "      <td>242</td>\n",
       "    </tr>\n",
       "    <tr>\n",
       "      <th>1</th>\n",
       "      <td>46</td>\n",
       "    </tr>\n",
       "    <tr>\n",
       "      <th rowspan=\"2\" valign=\"top\">UT008</th>\n",
       "      <th>0</th>\n",
       "      <td>1404</td>\n",
       "    </tr>\n",
       "    <tr>\n",
       "      <th>1</th>\n",
       "      <td>84</td>\n",
       "    </tr>\n",
       "    <tr>\n",
       "      <th rowspan=\"2\" valign=\"top\">UT009</th>\n",
       "      <th>0</th>\n",
       "      <td>1673</td>\n",
       "    </tr>\n",
       "    <tr>\n",
       "      <th>1</th>\n",
       "      <td>55</td>\n",
       "    </tr>\n",
       "    <tr>\n",
       "      <th rowspan=\"2\" valign=\"top\">UT010</th>\n",
       "      <th>0</th>\n",
       "      <td>1716</td>\n",
       "    </tr>\n",
       "    <tr>\n",
       "      <th>1</th>\n",
       "      <td>108</td>\n",
       "    </tr>\n",
       "    <tr>\n",
       "      <th rowspan=\"2\" valign=\"top\">UT011</th>\n",
       "      <th>0</th>\n",
       "      <td>814</td>\n",
       "    </tr>\n",
       "    <tr>\n",
       "      <th>1</th>\n",
       "      <td>86</td>\n",
       "    </tr>\n",
       "  </tbody>\n",
       "</table>\n",
       "</div>"
      ],
      "text/plain": [
       "              label\n",
       "patient_id         \n",
       "UT001      0   1643\n",
       "           1     85\n",
       "UT003      0   1609\n",
       "           1    119\n",
       "UT007      0    242\n",
       "           1     46\n",
       "UT008      0   1404\n",
       "           1     84\n",
       "UT009      0   1673\n",
       "           1     55\n",
       "UT010      0   1716\n",
       "           1    108\n",
       "UT011      0    814\n",
       "           1     86"
      ]
     },
     "execution_count": 11,
     "metadata": {},
     "output_type": "execute_result"
    }
   ],
   "source": [
    "pd.DataFrame(df.groupby('patient_id').label.apply(Counter))"
   ]
  },
  {
   "cell_type": "code",
   "execution_count": 12,
   "metadata": {},
   "outputs": [],
   "source": [
    "X_train = df_X[df_X.patient_id != test_p].drop(['patch_id', 'patient_id'], axis=1)\n",
    "X_test = df_X[df_X.patient_id == test_p].drop(['patch_id', 'patient_id'], axis=1)\n",
    "\n",
    "Y_train = df_Y[df_Y.patient_id != test_p].drop('patient_id', axis=1)\n",
    "Y_test = df_Y[df_Y.patient_id == test_p].drop('patient_id', axis=1)"
   ]
  },
  {
   "cell_type": "code",
   "execution_count": 13,
   "metadata": {},
   "outputs": [
    {
     "name": "stdout",
     "output_type": "stream",
     "text": [
      "989\n",
      "177\n",
      "989\n",
      "177\n"
     ]
    }
   ],
   "source": [
    "print(len(X_train))\n",
    "print(len(X_test))\n",
    "print(len(Y_train))\n",
    "print(len(Y_test))"
   ]
  },
  {
   "cell_type": "code",
   "execution_count": 14,
   "metadata": {},
   "outputs": [
    {
     "name": "stdout",
     "output_type": "stream",
     "text": [
      "(989, 7)\n",
      "(177, 7)\n"
     ]
    }
   ],
   "source": [
    "print(X_train.shape)\n",
    "print(X_test.shape)"
   ]
  },
  {
   "cell_type": "code",
   "execution_count": 15,
   "metadata": {},
   "outputs": [
    {
     "name": "stdout",
     "output_type": "stream",
     "text": [
      "Counter({1: 499, 0: 490})\n",
      "Counter({0: 93, 1: 84})\n"
     ]
    }
   ],
   "source": [
    "print(Counter(Y_train.label))\n",
    "print(Counter(Y_test.label))"
   ]
  },
  {
   "cell_type": "markdown",
   "metadata": {},
   "source": [
    "### CNNで使える形に整形"
   ]
  },
  {
   "cell_type": "code",
   "execution_count": 16,
   "metadata": {},
   "outputs": [],
   "source": [
    "from keras.utils.np_utils import to_categorical\n",
    "x_train = np.array(X_train).astype('float32')\n",
    "y_train = to_categorical(Y_train, 2)\n",
    "\n",
    "x_test = np.array(X_test).astype('float32')\n",
    "y_test = to_categorical(Y_test, 2) \n"
   ]
  },
  {
   "cell_type": "code",
   "execution_count": 17,
   "metadata": {},
   "outputs": [],
   "source": [
    "if K.image_data_format() == 'channels_first':\n",
    "    x_train = x_train.reshape(x_train.shape[0], 1, 7)\n",
    "    x_test = x_test.reshape(x_test.shape[0], 1, 7)\n",
    "    input_shape = (1, 7)\n",
    "else:\n",
    "    x_train = x_train.reshape(x_train.shape[0], 7, 1)\n",
    "    x_test = x_test.reshape(x_test.shape[0], 7, 1)\n",
    "    input_shape = (7, 1)"
   ]
  },
  {
   "cell_type": "code",
   "execution_count": 26,
   "metadata": {},
   "outputs": [],
   "source": [
    "batch_size = 128\n",
    "epochs = 20\n",
    "steps = 1\n",
    "input_dim = 7"
   ]
  },
  {
   "cell_type": "code",
   "execution_count": 450,
   "metadata": {},
   "outputs": [],
   "source": [
    "#model = Sequential()\n",
    "#model.add(Conv1D(filters = 50, \n",
    "#                 kernel_size = 3,\n",
    "#                 activation='relu',\n",
    "#                 padding = 'same',\n",
    "#                input_shape = (None, 7)))\n",
    "#model.add(Conv1D(50, 3, activation='relu'))\n",
    "#model.add(MaxPooling1D(pool_size=2))\n",
    "#model.add(Dropout(0.25))\n",
    "#model.add(Dense(7, activation='relu'))\n",
    "#model.add(Dropout(0.5))\n",
    "#model.add(Dense(2, activation='softmax'))"
   ]
  },
  {
   "cell_type": "code",
   "execution_count": 451,
   "metadata": {},
   "outputs": [],
   "source": [
    "#model.compile(loss='mean_squared_error',\n",
    "#              optimizer='sgd',\n",
    "#              metrics=['accuracy'])\n",
    "#history = model.fit(x_train, y_train, batch_size=batch_size, epochs=epochs,\n",
    "#          verbose=1, validation_data=(x_test, y_test))\n",
    "#score = model.evaluate(x_test, y_test, verbose=0)\n",
    "#print('Test loss:', score[0])\n",
    "#print('Test accuracy:', score[1])"
   ]
  },
  {
   "cell_type": "markdown",
   "metadata": {},
   "source": [
    "### Functional API"
   ]
  },
  {
   "cell_type": "markdown",
   "metadata": {},
   "source": [
    "#### 参考（https://qiita.com/anafou/items/7c4d57a70efb42d105a5）"
   ]
  },
  {
   "cell_type": "code",
   "execution_count": 19,
   "metadata": {},
   "outputs": [
    {
     "data": {
      "text/plain": [
       "'tf'"
      ]
     },
     "execution_count": 19,
     "metadata": {},
     "output_type": "execute_result"
    }
   ],
   "source": [
    "K.image_dim_ordering()"
   ]
  },
  {
   "cell_type": "code",
   "execution_count": 20,
   "metadata": {},
   "outputs": [
    {
     "data": {
      "text/plain": [
       "'channels_last'"
      ]
     },
     "execution_count": 20,
     "metadata": {},
     "output_type": "execute_result"
    }
   ],
   "source": [
    "K.image_data_format()"
   ]
  },
  {
   "cell_type": "code",
   "execution_count": 27,
   "metadata": {},
   "outputs": [],
   "source": [
    "channels = 1\n",
    "data_lengths = 7\n",
    "kernel_size = 3\n",
    "fillters = 50"
   ]
  },
  {
   "cell_type": "code",
   "execution_count": 28,
   "metadata": {},
   "outputs": [],
   "source": [
    "def make_model(shape):\n",
    "    input_layer = Input(batch_shape=shape)\n",
    "    # 畳み込み層 1\n",
    "    conv_1d_output_layer = Conv1D(fillters, kernel_size, padding='same', activation = 'relu')(input_layer)\n",
    "    # プーリング層 1    \n",
    "    max_pool_1d_output_layer = MaxPooling1D(pool_size=2)(conv_1d_output_layer)\n",
    "    # 畳み込み層 2\n",
    "    conv_1d_output_layer2 = Conv1D(fillters, kernel_size, padding='same', activation = 'relu')(max_pool_1d_output_layer)\n",
    "    # プーリング層 2\n",
    "    max_pool_1d_output_layer2 = MaxPooling1D(pool_size=2)(conv_1d_output_layer2)\n",
    "    # 過学習防止\n",
    "    dropout1_output_layer = Dropout(0.25)(max_pool_1d_output_layer2)\n",
    "    # 平滑化\n",
    "    flatten_output_layer = Flatten()(dropout1_output_layer)\n",
    "    # 全結合\n",
    "    prediction_result = Dense(2)(flatten_output_layer)\n",
    "\n",
    "    model = Model(inputs=input_layer, outputs=prediction_result)\n",
    "    return model"
   ]
  },
  {
   "cell_type": "code",
   "execution_count": 64,
   "metadata": {},
   "outputs": [],
   "source": [
    "def make_model(shape):\n",
    "    input_layer = Input(batch_shape=shape)\n",
    "    # 畳み込み層 1\n",
    "    conv_1d_output_layer = Conv1D(fillters, kernel_size, padding='same', activation = 'relu')(input_layer)\n",
    "    # 過学習防止\n",
    "    dropout1_output_layer = Dropout(0.25)(conv_1d_output_layer)\n",
    "    # 畳み込み層 2\n",
    "    conv_1d_output_layer2 = Conv1D(fillters, kernel_size, padding='same', activation = 'relu')(dropout1_output_layer)\n",
    "    # 過学習防止\n",
    "    dropout2_output_layer = Dropout(0.25)(conv_1d_output_layer2)\n",
    "    # プーリング層 1    \n",
    "    #max_pool_1d_output_layer = MaxPooling1D(pool_size=2)(conv_1d_output_layer)\n",
    "    \n",
    "    # プーリング層 2\n",
    "    #max_pool_1d_output_layer2 = MaxPooling1D(pool_size=2)(conv_1d_output_layer2)\n",
    "    \n",
    "    # 平滑化\n",
    "    flatten_output_layer = Flatten()(dropout2_output_layer)\n",
    "    # 全結合\n",
    "    prediction_result = Dense(2)(flatten_output_layer)\n",
    "\n",
    "    model = Model(inputs=input_layer, outputs=prediction_result)\n",
    "    return model"
   ]
  },
  {
   "cell_type": "code",
   "execution_count": 29,
   "metadata": {},
   "outputs": [],
   "source": [
    "model_channels  = make_model(shape=(None, data_lengths, channels))"
   ]
  },
  {
   "cell_type": "code",
   "execution_count": 30,
   "metadata": {},
   "outputs": [
    {
     "name": "stdout",
     "output_type": "stream",
     "text": [
      "channels model\n",
      "_________________________________________________________________\n",
      "Layer (type)                 Output Shape              Param #   \n",
      "=================================================================\n",
      "input_1 (InputLayer)         (None, 7, 1)              0         \n",
      "_________________________________________________________________\n",
      "conv1d_1 (Conv1D)            (None, 7, 50)             200       \n",
      "_________________________________________________________________\n",
      "max_pooling1d_1 (MaxPooling1 (None, 3, 50)             0         \n",
      "_________________________________________________________________\n",
      "conv1d_2 (Conv1D)            (None, 3, 50)             7550      \n",
      "_________________________________________________________________\n",
      "max_pooling1d_2 (MaxPooling1 (None, 1, 50)             0         \n",
      "_________________________________________________________________\n",
      "dropout_1 (Dropout)          (None, 1, 50)             0         \n",
      "_________________________________________________________________\n",
      "flatten_1 (Flatten)          (None, 50)                0         \n",
      "_________________________________________________________________\n",
      "dense_1 (Dense)              (None, 2)                 102       \n",
      "=================================================================\n",
      "Total params: 7,852\n",
      "Trainable params: 7,852\n",
      "Non-trainable params: 0\n",
      "_________________________________________________________________\n",
      "None\n"
     ]
    }
   ],
   "source": [
    "print('channels model')\n",
    "print(model_channels.summary())"
   ]
  },
  {
   "cell_type": "code",
   "execution_count": 31,
   "metadata": {},
   "outputs": [],
   "source": [
    "batch_size = 128\n",
    "epochs = 10"
   ]
  },
  {
   "cell_type": "code",
   "execution_count": 32,
   "metadata": {},
   "outputs": [
    {
     "name": "stdout",
     "output_type": "stream",
     "text": [
      "Train on 999 samples, validate on 167 samples\n",
      "Epoch 1/10\n",
      "999/999 [==============================] - 1s 736us/step - loss: 0.4746 - acc: 0.5435 - val_loss: 0.2662 - val_acc: 0.8024\n",
      "Epoch 2/10\n",
      "999/999 [==============================] - 0s 64us/step - loss: 0.3129 - acc: 0.6196 - val_loss: 0.2379 - val_acc: 0.8323\n",
      "Epoch 3/10\n",
      "999/999 [==============================] - 0s 62us/step - loss: 0.2908 - acc: 0.6727 - val_loss: 0.2344 - val_acc: 0.8204\n",
      "Epoch 4/10\n",
      "999/999 [==============================] - 0s 74us/step - loss: 0.2747 - acc: 0.7057 - val_loss: 0.2260 - val_acc: 0.8204\n",
      "Epoch 5/10\n",
      "999/999 [==============================] - 0s 64us/step - loss: 0.2696 - acc: 0.7117 - val_loss: 0.2137 - val_acc: 0.8323\n",
      "Epoch 6/10\n",
      "999/999 [==============================] - 0s 60us/step - loss: 0.2596 - acc: 0.7157 - val_loss: 0.2131 - val_acc: 0.8204\n",
      "Epoch 7/10\n",
      "999/999 [==============================] - 0s 62us/step - loss: 0.2529 - acc: 0.7367 - val_loss: 0.2035 - val_acc: 0.8323\n",
      "Epoch 8/10\n",
      "999/999 [==============================] - 0s 67us/step - loss: 0.2459 - acc: 0.7277 - val_loss: 0.2139 - val_acc: 0.8024\n",
      "Epoch 9/10\n",
      "999/999 [==============================] - 0s 76us/step - loss: 0.2403 - acc: 0.7337 - val_loss: 0.2049 - val_acc: 0.8084\n",
      "Epoch 10/10\n",
      "999/999 [==============================] - 0s 64us/step - loss: 0.2397 - acc: 0.7257 - val_loss: 0.1939 - val_acc: 0.8383\n",
      "Test loss: 0.19390624618815805\n",
      "Test accuracy: 0.8383233543641553\n"
     ]
    }
   ],
   "source": [
    "model_channels.compile(optimizer=\"sgd\", loss='mse', metrics=['accuracy'])\n",
    "history = model_channels.fit(x_train, y_train,\n",
    "                             batch_size=batch_size,\n",
    "                             epochs=epochs,\n",
    "                             verbose=1,\n",
    "                             validation_data=(x_test, y_test))\n",
    "\n",
    "score = model_channels.evaluate(x_test, y_test, verbose=0)\n",
    "\n",
    "print('Test loss:', score[0])\n",
    "print('Test accuracy:', score[1])"
   ]
  },
  {
   "cell_type": "code",
   "execution_count": 3,
   "metadata": {},
   "outputs": [],
   "source": [
    "import pandas as pd\n",
    "import numpy as np\n",
    "import matplotlib.pyplot as plt\n",
    "from collections import Counter\n",
    "from keras.models import Sequential\n",
    "from keras.layers import Dense, Activation, Dropout\n",
    "from sklearn.metrics import confusion_matrix, accuracy_score, recall_score, precision_score\n",
    "from keras.preprocessing.image import array_to_img, img_to_array, list_pictures, load_img"
   ]
  },
  {
   "cell_type": "code",
   "execution_count": 33,
   "metadata": {},
   "outputs": [
    {
     "data": {
      "image/png": "[encoded data removed]",
      "text/plain": [
       "<matplotlib.figure.Figure at 0x1a150e12e8>"
      ]
     },
     "metadata": {},
     "output_type": "display_data"
    },
    {
     "data": {
      "image/png": "[encoded data removed]",
      "text/plain": [
       "<matplotlib.figure.Figure at 0x1a15108320>"
      ]
     },
     "metadata": {},
     "output_type": "display_data"
    }
   ],
   "source": [
    "#Accuracy\n",
    "plt.plot(history.history['acc'])\n",
    "plt.plot(history.history['val_acc'])\n",
    "plt.title('model accuracy')\n",
    "plt.ylabel('accuracy')\n",
    "plt.xlabel('epoch')\n",
    "plt.legend(['train', 'test'], loc='upper left')\n",
    "plt.show()\n",
    "#loss\n",
    "plt.plot(history.history['loss'])\n",
    "plt.plot(history.history['val_loss'])\n",
    "plt.title('model loss')\n",
    "plt.ylabel('loss')\n",
    "plt.xlabel('epoch')\n",
    "plt.legend(['train', 'test'], loc='upper left')\n",
    "plt.show()"
   ]
  },
  {
   "cell_type": "code",
   "execution_count": 34,
   "metadata": {},
   "outputs": [],
   "source": [
    "classes = model_channels.predict(x_test)"
   ]
  },
  {
   "cell_type": "code",
   "execution_count": 35,
   "metadata": {},
   "outputs": [],
   "source": [
    "#正答率のための準備\n",
    "for_pred = pd.DataFrame(classes, columns = {'no_tumor', 'tumor'})\n",
    "pred = for_pred.tumor.map(lambda x: 1 if x > 0.5 else 0 )"
   ]
  },
  {
   "cell_type": "code",
   "execution_count": 36,
   "metadata": {},
   "outputs": [
    {
     "name": "stdout",
     "output_type": "stream",
     "text": [
      "[[52 31]\n",
      " [84  0]]\n",
      "accuracy :  0.31137724550898205\n",
      "recall:  0.0\n"
     ]
    }
   ],
   "source": [
    "confmat = confusion_matrix(y_true=Y_test, y_pred=pred)\n",
    "print(confmat)\n",
    "print('accuracy : ', accuracy_score(Y_test, pred))\n",
    "print('recall: ', recall_score(Y_test, pred))"
   ]
  },
  {
   "cell_type": "code",
   "execution_count": 75,
   "metadata": {},
   "outputs": [
    {
     "name": "stdout",
     "output_type": "stream",
     "text": [
      "Counter({1: 499, 0: 490})\n",
      "Counter({0: 93, 1: 84})\n"
     ]
    }
   ],
   "source": [
    "print(Counter(Y_train.label))\n",
    "print(Counter(Y_test.label))"
   ]
  }
 ],
 "metadata": {
  "kernelspec": {
   "display_name": "Python 3",
   "language": "python",
   "name": "python3"
  },
  "language_info": {
   "codemirror_mode": {
    "name": "ipython",
    "version": 3
   },
   "file_extension": ".py",
   "mimetype": "text/x-python",
   "name": "python",
   "nbconvert_exporter": "python",
   "pygments_lexer": "ipython3",
   "version": "3.6.4"
  }
 },
 "nbformat": 4,
 "nbformat_minor": 2
}
