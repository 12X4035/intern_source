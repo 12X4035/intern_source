{
 "cells": [
  {
   "cell_type": "markdown",
   "metadata": {},
   "source": [
    "じゃんけんプログラム"
   ]
  },
  {
   "cell_type": "code",
   "execution_count": null,
   "metadata": {
    "collapsed": false
   },
   "outputs": [
    {
     "name": "stdout",
     "output_type": "stream",
     "text": [
      "===じゃんけんをしましょう！===\n",
      "0 : グー\n",
      "1 : チョキ\n",
      "2 : パー\n",
      "3 : ゲーム終了\n"
     ]
    }
   ],
   "source": [
    "import random\n",
    "hand=[\"グー\", \"チョキ\", \"パー\", \"ゲーム終了\"]\n",
    "print(\"===じゃんけんをしましょう！===\")\n",
    "while True:\n",
    "    com = random.randint(0, 2)\n",
    "    for i, desc in enumerate(hand):\n",
    "            print(i, \":\", desc)\n",
    "    you = int(input(\"出す手を数値で入力: \"))\n",
    "    if you == 3: break\n",
    "    if you <0 or you >2:\n",
    "            print(\"0から3の間で入力してね\")\n",
    "            continue\n",
    "    print(\"---\")\n",
    "    print(\"自分：\", hand[you])\n",
    "    print(\"相手：\", hand[com])\n",
    "    input(\"---\")\n",
    "    j = (you - com + 3)% 3\n",
    "    if j==0:\n",
    "        print(\"あいこ\")\n",
    "    elif j==1:\n",
    "        print(\"負け\")\n",
    "    else:\n",
    "        print(\"勝ち\")\n",
    "        input(\"---\")"
   ]
  },
  {
   "cell_type": "markdown",
   "metadata": {},
   "source": [
    "正規表現"
   ]
  },
  {
   "cell_type": "code",
   "execution_count": null,
   "metadata": {
    "collapsed": false
   },
   "outputs": [],
   "source": [
    "import re\n",
    "words=[ \n",
    "       \"orange\", \"october\", \"octopus\",\n",
    "        \"order\", \"banana\", \"baby\", \"busy\"\n",
    "]\n",
    "\n",
    "pattern = r\"oc.*\"\n",
    "print(\"ocで始まるパターン=\", pattern)\n",
    "for word in words:\n",
    "    if re.match(pattern, word):\n",
    "        print(\"-\", word)\n",
    "        \n",
    "pattern = r\"b.*y\"\n",
    "print(\"bで始まりyで終わるパターン=\", pattern)\n",
    "for word in words:\n",
    "    if re.match(pattern, word):\n",
    "        print(\"-\", word)"
   ]
  },
  {
   "cell_type": "markdown",
   "metadata": {},
   "source": [
    "リスト内包表記"
   ]
  },
  {
   "cell_type": "code",
   "execution_count": 1,
   "metadata": {
    "collapsed": false
   },
   "outputs": [
    {
     "name": "stdout",
     "output_type": "stream",
     "text": [
      "[2, 4, 6, 8, 10]\n"
     ]
    }
   ],
   "source": [
    "data=[]\n",
    "for i in range(1, 6):\n",
    "    data.append(i*2)\n",
    "print(data)"
   ]
  },
  {
   "cell_type": "code",
   "execution_count": 2,
   "metadata": {
    "collapsed": false
   },
   "outputs": [
    {
     "name": "stdout",
     "output_type": "stream",
     "text": [
      "[2, 4, 6, 8, 10]\n"
     ]
    }
   ],
   "source": [
    "data=[i*2 for i in range(1, 6)]\n",
    "print(data)"
   ]
  },
  {
   "cell_type": "code",
   "execution_count": 5,
   "metadata": {
    "collapsed": false
   },
   "outputs": [
    {
     "name": "stdout",
     "output_type": "stream",
     "text": [
      "[1, 3, 5, 7, 9]\n"
     ]
    }
   ],
   "source": [
    "data=[(i*2-1) for i in range(1, 6)]\n",
    "print(data)"
   ]
  },
  {
   "cell_type": "code",
   "execution_count": 7,
   "metadata": {
    "collapsed": false
   },
   "outputs": [
    {
     "name": "stdout",
     "output_type": "stream",
     "text": [
      "[1, 3, 5, 7, 9]\n"
     ]
    }
   ],
   "source": [
    "data=[i for i in range(1, 11) if i%2 == 1]\n",
    "print(data)"
   ]
  },
  {
   "cell_type": "code",
   "execution_count": 8,
   "metadata": {
    "collapsed": false
   },
   "outputs": [
    {
     "name": "stdout",
     "output_type": "stream",
     "text": [
      "[(1, 1), (1, 2), (1, 3), (2, 1), (2, 2), (2, 3), (3, 1), (3, 2), (3, 3)]\n"
     ]
    }
   ],
   "source": [
    "result =[]\n",
    "base=[1, 2, 3]\n",
    "for x in base:\n",
    "    for y in base:\n",
    "        result.append((x,y))\n",
    "print(result)"
   ]
  },
  {
   "cell_type": "code",
   "execution_count": 11,
   "metadata": {
    "collapsed": false
   },
   "outputs": [
    {
     "name": "stdout",
     "output_type": "stream",
     "text": [
      "[(1, 2), (1, 3), (2, 1), (2, 3), (3, 1), (3, 2)]\n"
     ]
    }
   ],
   "source": [
    "base=[1, 2, 3]\n",
    "result=[(x, y) for x in base for y in base if(x!=y)]\n",
    "print(result)"
   ]
  },
  {
   "cell_type": "code",
   "execution_count": 14,
   "metadata": {
    "collapsed": false
   },
   "outputs": [
    {
     "name": "stdout",
     "output_type": "stream",
     "text": [
      "1\n",
      "2\n",
      "Fizz\n",
      "4\n",
      "Buzz\n",
      "Fizz\n",
      "7\n",
      "8\n",
      "Fizz\n",
      "Buzz\n",
      "11\n",
      "Fizz\n",
      "13\n",
      "14\n",
      "Fizz Buzz\n",
      "16\n",
      "17\n",
      "Fizz\n",
      "19\n",
      "Buzz\n"
     ]
    }
   ],
   "source": [
    "res=[\n",
    "    \"Fizz Buzz\" if i % 15==0 else \"Fizz\"\n",
    "                if i % 3==0 else \"Buzz\"\n",
    "                if i % 5==0 else str(i)\n",
    "    for i in range(1, 21)\n",
    "]\n",
    "print(\"\\n\".join(res))"
   ]
  },
  {
   "cell_type": "code",
   "execution_count": null,
   "metadata": {
    "collapsed": true
   },
   "outputs": [],
   "source": []
  }
 ],
 "metadata": {
  "kernelspec": {
   "display_name": "Python 3",
   "language": "python",
   "name": "python3"
  },
  "language_info": {
   "codemirror_mode": {
    "name": "ipython",
    "version": 3
   },
   "file_extension": ".py",
   "mimetype": "text/x-python",
   "name": "python",
   "nbconvert_exporter": "python",
   "pygments_lexer": "ipython3",
   "version": "3.6.0"
  }
 },
 "nbformat": 4,
 "nbformat_minor": 2
}
