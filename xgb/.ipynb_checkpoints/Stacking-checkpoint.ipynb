{
 "cells": [
  {
   "cell_type": "code",
   "execution_count": 15,
   "metadata": {},
   "outputs": [],
   "source": [
    "import pandas as pd\n",
    "import numpy as np\n",
    "import xgboost as xgb\n",
    "import seaborn as sns\n",
    "import matplotlib.pyplot as plt\n",
    "%matplotlib inline\n",
    "from sklearn.model_selection import GridSearchCV\n",
    "from sklearn.cross_validation import KFold\n",
    "from sklearn.model_selection import train_test_split\n",
    "from sklearn.metrics import confusion_matrix, classification_report\n",
    "#from bayes_opt import BayesianOptimization\n",
    "import rpy2.robjects as robjects\n",
    "from rpy2.robjects import pandas2ri\n",
    "pandas2ri.activate()"
   ]
  },
  {
   "cell_type": "code",
   "execution_count": 2,
   "metadata": {},
   "outputs": [],
   "source": [
    "readRDS = robjects.r['readRDS']\n",
    "df = readRDS('')\n",
    "df = pandas2ri.ri2py(df)"
   ]
  },
  {
   "cell_type": "code",
   "execution_count": 3,
   "metadata": {},
   "outputs": [
    {
     "name": "stderr",
     "output_type": "stream",
     "text": [
      "/Users/daichisato/anaconda/envs/tokyo_marin/lib/python3.6/site-packages/ipykernel_launcher.py:2: SettingWithCopyWarning: \n",
      "A value is trying to be set on a copy of a slice from a DataFrame.\n",
      "Try using .loc[row_indexer,col_indexer] = value instead\n",
      "\n",
      "See the caveats in the documentation: http://pandas.pydata.org/pandas-docs/stable/indexing.html#indexing-view-versus-copy\n",
      "  \n",
      "/Users/daichisato/anaconda/envs/tokyo_marin/lib/python3.6/site-packages/ipykernel_launcher.py:3: SettingWithCopyWarning: \n",
      "A value is trying to be set on a copy of a slice from a DataFrame.\n",
      "Try using .loc[row_indexer,col_indexer] = value instead\n",
      "\n",
      "See the caveats in the documentation: http://pandas.pydata.org/pandas-docs/stable/indexing.html#indexing-view-versus-copy\n",
      "  This is separate from the ipykernel package so we can avoid doing imports until\n"
     ]
    },
    {
     "data": {
      "text/plain": [
       "2    2637\n",
       "1    1826\n",
       "0     527\n",
       "Name: HbA1c_b_4cat, dtype: int64"
      ]
     },
     "execution_count": 3,
     "metadata": {},
     "output_type": "execute_result"
    }
   ],
   "source": [
    "data_filtered = df[df[\"HbA1c_a\"] >= 9.5]\n",
    "data_filtered[\"HbA1c_b_4cat\"] = df[\"HbA1c_b_4cat\"].map(lambda x: 0 if x == \"[6,7)\" else 1 if  x == \"[7,9.5)\" else 2 if x == \"[9.5,20]\" else 3)\n",
    "data_filtered[\"gender\"] = data_filtered[\"gender\"].map(lambda x: 0 if x == \"男性\" else 1 )\n",
    "data_filtered = data_filtered.query(\"HbA1c_b_4cat ==0| HbA1c_b_4cat ==1 | HbA1c_b_4cat ==2\")\n",
    "data_filtered = data_filtered.reset_index(drop=True)\n",
    "data_filtered[\"HbA1c_b_4cat\"].value_counts()"
   ]
  },
  {
   "cell_type": "code",
   "execution_count": 4,
   "metadata": {},
   "outputs": [],
   "source": [
    "df_X = data_filtered.drop(\"HbA1c_b_4cat\", axis=1)\n",
    "df_Y = data_filtered[\"HbA1c_b_4cat\"]"
   ]
  },
  {
   "cell_type": "markdown",
   "metadata": {},
   "source": [
    "### 変数間のCorr"
   ]
  },
  {
   "cell_type": "code",
   "execution_count": null,
   "metadata": {},
   "outputs": [
    {
     "data": {
      "text/plain": [
       "<matplotlib.axes._subplots.AxesSubplot at 0x20fc73240>"
      ]
     },
     "execution_count": 9,
     "metadata": {},
     "output_type": "execute_result"
    }
   ],
   "source": [
    "colormap = plt.cm.RdBu\n",
    "plt.figure(figsize=(14,12))\n",
    "plt.title('Pearson Correlation of Features', y=1.05, size=15)\n",
    "sns.heatmap(X.astype(float).corr(),linewidths=0.1,vmax=1.0, \n",
    "            square=True, cmap=colormap, linecolor='white', annot=True)"
   ]
  },
  {
   "cell_type": "code",
   "execution_count": 8,
   "metadata": {},
   "outputs": [],
   "source": [
    "np.random.seed(12345)"
   ]
  },
  {
   "cell_type": "code",
   "execution_count": 42,
   "metadata": {},
   "outputs": [],
   "source": [
    "#stacking sample\n",
    "skf = StratifiedKFold(n_splits=3, random_state=12345, shuffle=True)"
   ]
  },
  {
   "cell_type": "code",
   "execution_count": 75,
   "metadata": {},
   "outputs": [],
   "source": [
    "for train_index, test_index in skf.split(X, Y):\n",
    "    X_train, X_test = X[train_index], X[test_index]\n",
    "    Y_train, Y_test = Y[train_index], Y[test_index]\n"
   ]
  },
  {
   "cell_type": "code",
   "execution_count": 11,
   "metadata": {},
   "outputs": [
    {
     "data": {
      "text/html": [
       "<div>\n",
       "<style scoped>\n",
       "    .dataframe tbody tr th:only-of-type {\n",
       "        vertical-align: middle;\n",
       "    }\n",
       "\n",
       "    .dataframe tbody tr th {\n",
       "        vertical-align: top;\n",
       "    }\n",
       "\n",
       "    .dataframe thead th {\n",
       "        text-align: right;\n",
       "    }\n",
       "</style>\n",
       "<table border=\"1\" class=\"dataframe\">\n",
       "  <thead>\n",
       "    <tr style=\"text-align: right;\">\n",
       "      <th></th>\n",
       "      <th>BMI_a</th>\n",
       "      <th>systolic_bp_a</th>\n",
       "      <th>diastolic_bp_a</th>\n",
       "      <th>neutral_fat_a</th>\n",
       "      <th>HDL_a</th>\n",
       "      <th>LDL_a</th>\n",
       "      <th>GOT_a</th>\n",
       "      <th>HbA1c_a</th>\n",
       "      <th>urine_sugar_a</th>\n",
       "      <th>urine_protein_a</th>\n",
       "      <th>...</th>\n",
       "      <th>N40</th>\n",
       "      <th>R00</th>\n",
       "      <th>R11</th>\n",
       "      <th>R42</th>\n",
       "      <th>R51</th>\n",
       "      <th>R73</th>\n",
       "      <th>HbA1c_b_4cat</th>\n",
       "      <th>systolic_bp_b_cat</th>\n",
       "      <th>LDL_b_cat</th>\n",
       "      <th>severity_b</th>\n",
       "    </tr>\n",
       "  </thead>\n",
       "  <tbody>\n",
       "    <tr>\n",
       "      <th>0</th>\n",
       "      <td>29.8</td>\n",
       "      <td>128.0</td>\n",
       "      <td>76.0</td>\n",
       "      <td>160.0</td>\n",
       "      <td>45.0</td>\n",
       "      <td>179.0</td>\n",
       "      <td>32.0</td>\n",
       "      <td>13.0</td>\n",
       "      <td>2.0</td>\n",
       "      <td>4.0</td>\n",
       "      <td>...</td>\n",
       "      <td>0.0</td>\n",
       "      <td>0.0</td>\n",
       "      <td>0.0</td>\n",
       "      <td>0.0</td>\n",
       "      <td>0.0</td>\n",
       "      <td>0.0</td>\n",
       "      <td>0</td>\n",
       "      <td>0.0</td>\n",
       "      <td>0.0</td>\n",
       "      <td>0.0</td>\n",
       "    </tr>\n",
       "    <tr>\n",
       "      <th>1</th>\n",
       "      <td>24.7</td>\n",
       "      <td>147.0</td>\n",
       "      <td>88.0</td>\n",
       "      <td>382.0</td>\n",
       "      <td>57.0</td>\n",
       "      <td>172.0</td>\n",
       "      <td>19.0</td>\n",
       "      <td>9.5</td>\n",
       "      <td>4.0</td>\n",
       "      <td>2.0</td>\n",
       "      <td>...</td>\n",
       "      <td>0.0</td>\n",
       "      <td>0.0</td>\n",
       "      <td>0.0</td>\n",
       "      <td>0.0</td>\n",
       "      <td>0.0</td>\n",
       "      <td>0.0</td>\n",
       "      <td>1</td>\n",
       "      <td>1.0</td>\n",
       "      <td>0.0</td>\n",
       "      <td>1.0</td>\n",
       "    </tr>\n",
       "    <tr>\n",
       "      <th>2</th>\n",
       "      <td>31.8</td>\n",
       "      <td>157.0</td>\n",
       "      <td>101.0</td>\n",
       "      <td>150.0</td>\n",
       "      <td>46.0</td>\n",
       "      <td>139.0</td>\n",
       "      <td>64.0</td>\n",
       "      <td>9.5</td>\n",
       "      <td>5.0</td>\n",
       "      <td>2.0</td>\n",
       "      <td>...</td>\n",
       "      <td>0.0</td>\n",
       "      <td>0.0</td>\n",
       "      <td>0.0</td>\n",
       "      <td>0.0</td>\n",
       "      <td>0.0</td>\n",
       "      <td>0.0</td>\n",
       "      <td>0</td>\n",
       "      <td>1.0</td>\n",
       "      <td>0.0</td>\n",
       "      <td>1.0</td>\n",
       "    </tr>\n",
       "    <tr>\n",
       "      <th>3</th>\n",
       "      <td>25.6</td>\n",
       "      <td>197.0</td>\n",
       "      <td>119.0</td>\n",
       "      <td>79.0</td>\n",
       "      <td>64.0</td>\n",
       "      <td>124.0</td>\n",
       "      <td>21.0</td>\n",
       "      <td>9.8</td>\n",
       "      <td>3.0</td>\n",
       "      <td>4.0</td>\n",
       "      <td>...</td>\n",
       "      <td>0.0</td>\n",
       "      <td>0.0</td>\n",
       "      <td>0.0</td>\n",
       "      <td>0.0</td>\n",
       "      <td>0.0</td>\n",
       "      <td>0.0</td>\n",
       "      <td>1</td>\n",
       "      <td>1.0</td>\n",
       "      <td>1.0</td>\n",
       "      <td>1.0</td>\n",
       "    </tr>\n",
       "    <tr>\n",
       "      <th>4</th>\n",
       "      <td>21.2</td>\n",
       "      <td>103.0</td>\n",
       "      <td>65.0</td>\n",
       "      <td>139.0</td>\n",
       "      <td>38.0</td>\n",
       "      <td>123.0</td>\n",
       "      <td>21.0</td>\n",
       "      <td>10.2</td>\n",
       "      <td>1.0</td>\n",
       "      <td>1.0</td>\n",
       "      <td>...</td>\n",
       "      <td>0.0</td>\n",
       "      <td>0.0</td>\n",
       "      <td>0.0</td>\n",
       "      <td>0.0</td>\n",
       "      <td>0.0</td>\n",
       "      <td>0.0</td>\n",
       "      <td>2</td>\n",
       "      <td>0.0</td>\n",
       "      <td>1.0</td>\n",
       "      <td>1.0</td>\n",
       "    </tr>\n",
       "  </tbody>\n",
       "</table>\n",
       "<p>5 rows × 597 columns</p>\n",
       "</div>"
      ],
      "text/plain": [
       "   BMI_a  systolic_bp_a  diastolic_bp_a  neutral_fat_a  HDL_a  LDL_a  GOT_a  \\\n",
       "0   29.8          128.0            76.0          160.0   45.0  179.0   32.0   \n",
       "1   24.7          147.0            88.0          382.0   57.0  172.0   19.0   \n",
       "2   31.8          157.0           101.0          150.0   46.0  139.0   64.0   \n",
       "3   25.6          197.0           119.0           79.0   64.0  124.0   21.0   \n",
       "4   21.2          103.0            65.0          139.0   38.0  123.0   21.0   \n",
       "\n",
       "   HbA1c_a  urine_sugar_a  urine_protein_a     ...      N40  R00  R11  R42  \\\n",
       "0     13.0            2.0              4.0     ...      0.0  0.0  0.0  0.0   \n",
       "1      9.5            4.0              2.0     ...      0.0  0.0  0.0  0.0   \n",
       "2      9.5            5.0              2.0     ...      0.0  0.0  0.0  0.0   \n",
       "3      9.8            3.0              4.0     ...      0.0  0.0  0.0  0.0   \n",
       "4     10.2            1.0              1.0     ...      0.0  0.0  0.0  0.0   \n",
       "\n",
       "   R51  R73  HbA1c_b_4cat  systolic_bp_b_cat  LDL_b_cat  severity_b  \n",
       "0  0.0  0.0             0                0.0        0.0         0.0  \n",
       "1  0.0  0.0             1                1.0        0.0         1.0  \n",
       "2  0.0  0.0             0                1.0        0.0         1.0  \n",
       "3  0.0  0.0             1                1.0        1.0         1.0  \n",
       "4  0.0  0.0             2                0.0        1.0         1.0  \n",
       "\n",
       "[5 rows x 597 columns]"
      ]
     },
     "execution_count": 11,
     "metadata": {},
     "output_type": "execute_result"
    }
   ],
   "source": [
    "data_filtered.head()"
   ]
  },
  {
   "cell_type": "code",
   "execution_count": 9,
   "metadata": {},
   "outputs": [],
   "source": [
    "(X_train, X_test, y_train, y_test) = train_test_split(X, Y, test_size = 0.2, random_state = 123)"
   ]
  },
  {
   "cell_type": "code",
   "execution_count": 10,
   "metadata": {},
   "outputs": [],
   "source": [
    "(X_train1, X_train2, y_train1, y_train2) = train_test_split(X_train, y_train, test_size = 0.5, random_state = 123)"
   ]
  },
  {
   "cell_type": "markdown",
   "metadata": {},
   "source": [
    "### データ\n",
    "- X_test, y_test\n",
    "- X_train1, y_train1\n",
    "- X_train2, y_train2\n",
    "\n",
    "X_train1,"
   ]
  },
  {
   "cell_type": "markdown",
   "metadata": {},
   "source": [
    "### SVM"
   ]
  },
  {
   "cell_type": "code",
   "execution_count": 12,
   "metadata": {},
   "outputs": [],
   "source": [
    "from sklearn.svm import SVC\n",
    "#from hpsklearn import HyperoptEstimator, svc\n",
    "from sklearn.metrics import accuracy_score\n",
    "from sklearn.preprocessing import Imputer\n",
    "from sklearn.preprocessing import StandardScaler\n",
    "from hyperopt import fmin, tpe, hp, STATUS_OK, Trials"
   ]
  },
  {
   "cell_type": "code",
   "execution_count": 20,
   "metadata": {},
   "outputs": [],
   "source": [
    "params = {\n",
    "    'C':hp.loguniform(\"C\", np.log(1), np.log(100)),\n",
    "    'kernel':hp.choice('kernel',['rbf','poly']),\n",
    "    'gamma': hp.loguniform(\"gamma\", np.log(0.001), np.log(0.1))\n",
    "}\n",
    "count = 0"
   ]
  },
  {
   "cell_type": "code",
   "execution_count": 28,
   "metadata": {},
   "outputs": [],
   "source": [
    "med_imp = Imputer(missing_values=\"NaN\", strategy='median', axis=0)\n",
    "med_imp.fit(X_train1)\n",
    "imp_train_X = med_imp.transform(X_train1)\n",
    "med_imp.fit(X_test)\n",
    "imp_test_X = med_imp.transform(X_test)"
   ]
  },
  {
   "cell_type": "code",
   "execution_count": 22,
   "metadata": {
    "collapsed": true
   },
   "outputs": [
    {
     "ename": "ValueError",
     "evalue": "Input contains NaN, infinity or a value too large for dtype('float64').",
     "output_type": "error",
     "traceback": [
      "\u001b[0;31m---------------------------------------------------------------------------\u001b[0m",
      "\u001b[0;31mValueError\u001b[0m                                Traceback (most recent call last)",
      "\u001b[0;32m<ipython-input-22-88155248e149>\u001b[0m in \u001b[0;36m<module>\u001b[0;34m()\u001b[0m\n\u001b[1;32m      1\u001b[0m \u001b[0mstd_scl\u001b[0m \u001b[0;34m=\u001b[0m \u001b[0mStandardScaler\u001b[0m\u001b[0;34m(\u001b[0m\u001b[0;34m)\u001b[0m\u001b[0;34m\u001b[0m\u001b[0m\n\u001b[0;32m----> 2\u001b[0;31m \u001b[0mstd_scl\u001b[0m\u001b[0;34m.\u001b[0m\u001b[0mfit\u001b[0m\u001b[0;34m(\u001b[0m\u001b[0mX_train1\u001b[0m\u001b[0;34m)\u001b[0m\u001b[0;34m\u001b[0m\u001b[0m\n\u001b[0m\u001b[1;32m      3\u001b[0m \u001b[0mX_train\u001b[0m \u001b[0;34m=\u001b[0m \u001b[0mstd_scl\u001b[0m\u001b[0;34m.\u001b[0m\u001b[0mtransform\u001b[0m\u001b[0;34m(\u001b[0m\u001b[0mX_train1\u001b[0m\u001b[0;34m)\u001b[0m\u001b[0;34m\u001b[0m\u001b[0m\n\u001b[1;32m      4\u001b[0m \u001b[0mX_test\u001b[0m \u001b[0;34m=\u001b[0m \u001b[0mstd_scl\u001b[0m\u001b[0;34m.\u001b[0m\u001b[0mtransform\u001b[0m\u001b[0;34m(\u001b[0m\u001b[0mX_test\u001b[0m\u001b[0;34m)\u001b[0m\u001b[0;34m\u001b[0m\u001b[0m\n",
      "\u001b[0;32m~/anaconda/envs/tokyo_marin/lib/python3.6/site-packages/sklearn/preprocessing/data.py\u001b[0m in \u001b[0;36mfit\u001b[0;34m(self, X, y)\u001b[0m\n\u001b[1;32m    588\u001b[0m         \u001b[0;31m# Reset internal state before fitting\u001b[0m\u001b[0;34m\u001b[0m\u001b[0;34m\u001b[0m\u001b[0m\n\u001b[1;32m    589\u001b[0m         \u001b[0mself\u001b[0m\u001b[0;34m.\u001b[0m\u001b[0m_reset\u001b[0m\u001b[0;34m(\u001b[0m\u001b[0;34m)\u001b[0m\u001b[0;34m\u001b[0m\u001b[0m\n\u001b[0;32m--> 590\u001b[0;31m         \u001b[0;32mreturn\u001b[0m \u001b[0mself\u001b[0m\u001b[0;34m.\u001b[0m\u001b[0mpartial_fit\u001b[0m\u001b[0;34m(\u001b[0m\u001b[0mX\u001b[0m\u001b[0;34m,\u001b[0m \u001b[0my\u001b[0m\u001b[0;34m)\u001b[0m\u001b[0;34m\u001b[0m\u001b[0m\n\u001b[0m\u001b[1;32m    591\u001b[0m \u001b[0;34m\u001b[0m\u001b[0m\n\u001b[1;32m    592\u001b[0m     \u001b[0;32mdef\u001b[0m \u001b[0mpartial_fit\u001b[0m\u001b[0;34m(\u001b[0m\u001b[0mself\u001b[0m\u001b[0;34m,\u001b[0m \u001b[0mX\u001b[0m\u001b[0;34m,\u001b[0m \u001b[0my\u001b[0m\u001b[0;34m=\u001b[0m\u001b[0;32mNone\u001b[0m\u001b[0;34m)\u001b[0m\u001b[0;34m:\u001b[0m\u001b[0;34m\u001b[0m\u001b[0m\n",
      "\u001b[0;32m~/anaconda/envs/tokyo_marin/lib/python3.6/site-packages/sklearn/preprocessing/data.py\u001b[0m in \u001b[0;36mpartial_fit\u001b[0;34m(self, X, y)\u001b[0m\n\u001b[1;32m    610\u001b[0m         \"\"\"\n\u001b[1;32m    611\u001b[0m         X = check_array(X, accept_sparse=('csr', 'csc'), copy=self.copy,\n\u001b[0;32m--> 612\u001b[0;31m                         warn_on_dtype=True, estimator=self, dtype=FLOAT_DTYPES)\n\u001b[0m\u001b[1;32m    613\u001b[0m \u001b[0;34m\u001b[0m\u001b[0m\n\u001b[1;32m    614\u001b[0m         \u001b[0;31m# Even in the case of `with_mean=False`, we update the mean anyway\u001b[0m\u001b[0;34m\u001b[0m\u001b[0;34m\u001b[0m\u001b[0m\n",
      "\u001b[0;32m~/anaconda/envs/tokyo_marin/lib/python3.6/site-packages/sklearn/utils/validation.py\u001b[0m in \u001b[0;36mcheck_array\u001b[0;34m(array, accept_sparse, dtype, order, copy, force_all_finite, ensure_2d, allow_nd, ensure_min_samples, ensure_min_features, warn_on_dtype, estimator)\u001b[0m\n\u001b[1;32m    451\u001b[0m                              % (array.ndim, estimator_name))\n\u001b[1;32m    452\u001b[0m         \u001b[0;32mif\u001b[0m \u001b[0mforce_all_finite\u001b[0m\u001b[0;34m:\u001b[0m\u001b[0;34m\u001b[0m\u001b[0m\n\u001b[0;32m--> 453\u001b[0;31m             \u001b[0m_assert_all_finite\u001b[0m\u001b[0;34m(\u001b[0m\u001b[0marray\u001b[0m\u001b[0;34m)\u001b[0m\u001b[0;34m\u001b[0m\u001b[0m\n\u001b[0m\u001b[1;32m    454\u001b[0m \u001b[0;34m\u001b[0m\u001b[0m\n\u001b[1;32m    455\u001b[0m     \u001b[0mshape_repr\u001b[0m \u001b[0;34m=\u001b[0m \u001b[0m_shape_repr\u001b[0m\u001b[0;34m(\u001b[0m\u001b[0marray\u001b[0m\u001b[0;34m.\u001b[0m\u001b[0mshape\u001b[0m\u001b[0;34m)\u001b[0m\u001b[0;34m\u001b[0m\u001b[0m\n",
      "\u001b[0;32m~/anaconda/envs/tokyo_marin/lib/python3.6/site-packages/sklearn/utils/validation.py\u001b[0m in \u001b[0;36m_assert_all_finite\u001b[0;34m(X)\u001b[0m\n\u001b[1;32m     42\u001b[0m             and not np.isfinite(X).all()):\n\u001b[1;32m     43\u001b[0m         raise ValueError(\"Input contains NaN, infinity\"\n\u001b[0;32m---> 44\u001b[0;31m                          \" or a value too large for %r.\" % X.dtype)\n\u001b[0m\u001b[1;32m     45\u001b[0m \u001b[0;34m\u001b[0m\u001b[0m\n\u001b[1;32m     46\u001b[0m \u001b[0;34m\u001b[0m\u001b[0m\n",
      "\u001b[0;31mValueError\u001b[0m: Input contains NaN, infinity or a value too large for dtype('float64')."
     ]
    }
   ],
   "source": [
    "std_scl = StandardScaler()\n",
    "std_scl.fit(X_train1)\n",
    "X_train = std_scl.transform(X_train1)\n",
    "X_test = std_scl.transform(X_test)"
   ]
  },
  {
   "cell_type": "code",
   "execution_count": 29,
   "metadata": {},
   "outputs": [
    {
     "name": "stdout",
     "output_type": "stream",
     "text": [
      "{'C': 2.79502680142911, 'gamma': 0.0073532123712917044, 'kernel': 'poly'}\n",
      "1回目 0.407815631263\n",
      "{'C': 52.53873586409119, 'gamma': 0.0010886308067352137, 'kernel': 'poly'}\n",
      "2回目 0.36372745491\n",
      "{'C': 9.336951479932214, 'gamma': 0.0461063937754585, 'kernel': 'poly'}\n",
      "3回目 0.36372745491\n",
      "{'C': 57.00977407631712, 'gamma': 0.0285637323140008, 'kernel': 'poly'}\n",
      "4回目 0.36372745491\n",
      "{'C': 19.802791611884366, 'gamma': 0.00705165124607991, 'kernel': 'poly'}\n",
      "5回目 0.36372745491\n",
      "{'C': 9.557278915628675, 'gamma': 0.002105049862844852, 'kernel': 'poly'}\n",
      "6回目 0.36372745491\n",
      "{'C': 4.807771668783542, 'gamma': 0.05411705455880414, 'kernel': 'poly'}\n",
      "7回目 0.36372745491\n",
      "{'C': 10.258717211183328, 'gamma': 0.030006352062844494, 'kernel': 'rbf'}\n",
      "8回目 0.524048096192\n",
      "{'C': 22.34062605889955, 'gamma': 0.006268567212218519, 'kernel': 'poly'}\n",
      "9回目 0.36372745491\n",
      "{'C': 2.7700349859872895, 'gamma': 0.07106353297366125, 'kernel': 'rbf'}\n",
      "10回目 0.524048096192\n",
      "{'C': 1.5073004818081994, 'gamma': 0.007628794351611673, 'kernel': 'rbf'}\n",
      "11回目 0.52004008016\n",
      "{'C': 2.062518106103555, 'gamma': 0.011295203132137185, 'kernel': 'rbf'}\n",
      "12回目 0.522044088176\n",
      "{'C': 92.88593274143516, 'gamma': 0.007909009787236207, 'kernel': 'rbf'}\n",
      "13回目 0.375751503006\n",
      "{'C': 4.56232700188255, 'gamma': 0.017481893307097422, 'kernel': 'rbf'}\n",
      "14回目 0.523046092184\n",
      "{'C': 19.482799972540803, 'gamma': 0.006140001178613754, 'kernel': 'rbf'}\n",
      "15回目 0.511022044088\n",
      "{'C': 13.144693098983574, 'gamma': 0.006074215092423592, 'kernel': 'poly'}\n",
      "16回目 0.36372745491\n",
      "{'C': 4.684710974692313, 'gamma': 0.029647684813949724, 'kernel': 'poly'}\n",
      "17回目 0.36372745491\n",
      "{'C': 47.774951855977676, 'gamma': 0.09812748011430465, 'kernel': 'rbf'}\n",
      "18回目 0.366733466934\n",
      "{'C': 61.88930422477854, 'gamma': 0.04123276885330197, 'kernel': 'rbf'}\n",
      "19回目 0.524048096192\n",
      "{'C': 3.2086095313917107, 'gamma': 0.004511641730544846, 'kernel': 'poly'}\n",
      "20回目 0.36372745491\n",
      "{'C': 1.4872488498117626, 'gamma': 0.09030984280802395, 'kernel': 'rbf'}\n",
      "21回目 0.524048096192\n",
      "{'C': 1.204970702954311, 'gamma': 0.07820031198268207, 'kernel': 'rbf'}\n",
      "22回目 0.524048096192\n",
      "{'C': 1.074383624423348, 'gamma': 0.016485005581594537, 'kernel': 'rbf'}\n",
      "23回目 0.524048096192\n",
      "{'C': 1.0589164869463472, 'gamma': 0.016111718750012185, 'kernel': 'rbf'}\n",
      "24回目 0.524048096192\n",
      "{'C': 1.0805034998130614, 'gamma': 0.0032315324343672367, 'kernel': 'rbf'}\n",
      "25回目 0.51002004008\n",
      "{'C': 1.7591589799383494, 'gamma': 0.017115862781397206, 'kernel': 'rbf'}\n",
      "26回目 0.524048096192\n",
      "{'C': 2.102575038583041, 'gamma': 0.014628400136567608, 'kernel': 'rbf'}\n",
      "27回目 0.524048096192\n",
      "{'C': 6.464990527883463, 'gamma': 0.011500324488226446, 'kernel': 'rbf'}\n",
      "28回目 0.521042084168\n",
      "{'C': 1.8094612658555513, 'gamma': 0.022090396923728776, 'kernel': 'rbf'}\n",
      "29回目 0.524048096192\n",
      "{'C': 2.4668023987255707, 'gamma': 0.02467626924709662, 'kernel': 'rbf'}\n",
      "30回目 0.524048096192\n",
      "{'C': 2.5619854072439967, 'gamma': 0.001062871476870681, 'kernel': 'rbf'}\n",
      "31回目 0.507014028056\n",
      "{'C': 3.235064611620442, 'gamma': 0.001758297410772238, 'kernel': 'rbf'}\n",
      "32回目 0.509018036072\n",
      "{'C': 1.3780419164615312, 'gamma': 0.0694913307336361, 'kernel': 'rbf'}\n",
      "33回目 0.524048096192\n",
      "{'C': 1.326344233575107, 'gamma': 0.0740735575199397, 'kernel': 'rbf'}\n",
      "34回目 0.524048096192\n",
      "{'C': 38.31707256859277, 'gamma': 0.048743481343607474, 'kernel': 'rbf'}\n",
      "35回目 0.366733466934\n",
      "{'C': 6.429183167970969, 'gamma': 0.034071920417384105, 'kernel': 'rbf'}\n",
      "36回目 0.524048096192\n",
      "{'C': 6.722072558588973, 'gamma': 0.03784074653737804, 'kernel': 'poly'}\n",
      "37回目 0.36372745491\n",
      "{'C': 96.40694523918667, 'gamma': 0.039773299177325694, 'kernel': 'rbf'}\n",
      "38回目 0.366733466934\n",
      "{'C': 68.26926466926187, 'gamma': 0.02310597197431023, 'kernel': 'poly'}\n",
      "39回目 0.36372745491\n",
      "{'C': 12.574137128272843, 'gamma': 0.009697433013646574, 'kernel': 'rbf'}\n",
      "40回目 0.521042084168\n",
      "{'C': 30.822334351131524, 'gamma': 0.004636292311155114, 'kernel': 'rbf'}\n",
      "41回目 0.506012024048\n",
      "{'C': 3.6499500401669707, 'gamma': 0.0018739274336314691, 'kernel': 'poly'}\n",
      "42回目 0.36372745491\n",
      "{'C': 3.9198444129747823, 'gamma': 0.09588068062886161, 'kernel': 'rbf'}\n",
      "43回目 0.524048096192\n",
      "{'C': 6.489657351259055, 'gamma': 0.05867636940406814, 'kernel': 'rbf'}\n",
      "44回目 0.524048096192\n",
      "{'C': 7.95553726760063, 'gamma': 0.06541390313738868, 'kernel': 'poly'}\n",
      "45回目 0.36372745491\n",
      "{'C': 1.0138791229526891, 'gamma': 0.01528398943104873, 'kernel': 'rbf'}\n",
      "46回目 0.524048096192\n",
      "{'C': 22.665556162642453, 'gamma': 0.05620565319748127, 'kernel': 'rbf'}\n",
      "47回目 0.524048096192\n",
      "{'C': 12.799890261635873, 'gamma': 0.002835378209006425, 'kernel': 'rbf'}\n",
      "48回目 0.493987975952\n",
      "{'C': 1.959946301528524, 'gamma': 0.022502130930622716, 'kernel': 'poly'}\n",
      "49回目 0.36372745491\n",
      "{'C': 5.2923143687208745, 'gamma': 0.0885441297843592, 'kernel': 'rbf'}\n",
      "50回目 0.524048096192\n",
      "{'C': 17.104024365733203, 'gamma': 0.008791237700918397, 'kernel': 'rbf'}\n",
      "51回目 0.516032064128\n",
      "{'C': 1.626784837180049, 'gamma': 0.011903203988988113, 'kernel': 'poly'}\n",
      "52回目 0.36372745491\n",
      "{'C': 1.8811588217244548, 'gamma': 0.019966918388901526, 'kernel': 'rbf'}\n",
      "53回目 0.524048096192\n",
      "{'C': 2.3306508235901062, 'gamma': 0.0014399650124385212, 'kernel': 'rbf'}\n",
      "54回目 0.508016032064\n",
      "{'C': 10.646475123207491, 'gamma': 0.013905554509401258, 'kernel': 'rbf'}\n",
      "55回目 0.521042084168\n",
      "{'C': 73.5848758882027, 'gamma': 0.04627236905973495, 'kernel': 'poly'}\n",
      "56回目 0.36372745491\n",
      "{'C': 1.1954813516654765, 'gamma': 0.08855956789195826, 'kernel': 'rbf'}\n",
      "57回目 0.524048096192\n",
      "{'C': 3.236746816926758, 'gamma': 0.03015336387559032, 'kernel': 'rbf'}\n",
      "58回目 0.524048096192\n",
      "{'C': 4.119675559550951, 'gamma': 0.004667126987335251, 'kernel': 'rbf'}\n",
      "59回目 0.513026052104\n",
      "{'C': 2.322685790314892, 'gamma': 0.005552507529680346, 'kernel': 'poly'}\n",
      "60回目 0.36372745491\n",
      "{'C': 1.3112895759029408, 'gamma': 0.07721938033442395, 'kernel': 'rbf'}\n",
      "61回目 0.524048096192\n",
      "{'C': 1.322599703047876, 'gamma': 0.03186000755536126, 'kernel': 'rbf'}\n",
      "62回目 0.524048096192\n",
      "{'C': 5.581635446048578, 'gamma': 0.02778825987100963, 'kernel': 'rbf'}\n",
      "63回目 0.524048096192\n",
      "{'C': 16.296029368057845, 'gamma': 0.048184639743589226, 'kernel': 'rbf'}\n",
      "64回目 0.524048096192\n",
      "{'C': 27.517980208753848, 'gamma': 0.05227308347469719, 'kernel': 'poly'}\n",
      "65回目 0.36372745491\n",
      "{'C': 2.8512867307542478, 'gamma': 0.06579817746717888, 'kernel': 'rbf'}\n",
      "66回目 0.524048096192\n",
      "{'C': 2.153916512629643, 'gamma': 0.00718051733377965, 'kernel': 'rbf'}\n",
      "67回目 0.52004008016\n",
      "{'C': 1.6878029722350312, 'gamma': 0.020449651355296597, 'kernel': 'rbf'}\n",
      "68回目 0.524048096192\n",
      "{'C': 1.5150105329089847, 'gamma': 0.0033270344178046277, 'kernel': 'rbf'}\n",
      "69回目 0.50501002004\n",
      "{'C': 1.1250242678822335, 'gamma': 0.012977212469626385, 'kernel': 'rbf'}\n",
      "70回目 0.524048096192\n",
      "{'C': 41.54209784787851, 'gamma': 0.03677885033439549, 'kernel': 'rbf'}\n",
      "71回目 0.367735470942\n",
      "{'C': 23.204389389959385, 'gamma': 0.03558898540702844, 'kernel': 'rbf'}\n",
      "72回目 0.523046092184\n",
      "{'C': 8.277969642386628, 'gamma': 0.01836863911901424, 'kernel': 'rbf'}\n",
      "73回目 0.522044088176\n",
      "{'C': 2.779750772068103, 'gamma': 0.0264156813000758, 'kernel': 'rbf'}\n",
      "74回目 0.524048096192\n",
      "{'C': 2.7424174431396575, 'gamma': 0.0093688424482358, 'kernel': 'rbf'}\n",
      "75回目 0.521042084168\n",
      "{'C': 5.225970666996473, 'gamma': 0.08334876595623135, 'kernel': 'rbf'}\n",
      "76回目 0.524048096192\n",
      "{'C': 1.0360222423685452, 'gamma': 0.008110781499047714, 'kernel': 'rbf'}\n",
      "77回目 0.522044088176\n",
      "{'C': 1.6396153498203687, 'gamma': 0.01641128548367712, 'kernel': 'rbf'}\n",
      "78回目 0.524048096192\n",
      "{'C': 1.488926973679953, 'gamma': 0.016829745566269108, 'kernel': 'rbf'}\n",
      "79回目 0.524048096192\n",
      "{'C': 4.33103569352221, 'gamma': 0.010287571382933711, 'kernel': 'rbf'}\n",
      "80回目 0.521042084168\n",
      "{'C': 1.0245020516065713, 'gamma': 0.0038529668122212844, 'kernel': 'poly'}\n",
      "81回目 0.36372745491\n",
      "{'C': 30.28315504451135, 'gamma': 0.055907033602721604, 'kernel': 'rbf'}\n",
      "82回目 0.524048096192\n",
      "{'C': 77.38791829375465, 'gamma': 0.04305253311411503, 'kernel': 'rbf'}\n",
      "83回目 0.366733466934\n",
      "{'C': 3.5676447949112675, 'gamma': 0.015046851901264846, 'kernel': 'rbf'}\n",
      "84回目 0.523046092184\n",
      "{'C': 1.8468217679336747, 'gamma': 0.0064583539365535274, 'kernel': 'poly'}\n",
      "85回目 0.36372745491\n",
      "{'C': 3.809813967393902, 'gamma': 0.005685258343630073, 'kernel': 'rbf'}\n",
      "86回目 0.51503006012\n",
      "{'C': 14.582307562357228, 'gamma': 0.02561057800826288, 'kernel': 'rbf'}\n",
      "87回目 0.524048096192\n",
      "{'C': 7.372529905614414, 'gamma': 0.06391904468455158, 'kernel': 'rbf'}\n",
      "88回目 0.524048096192\n",
      "{'C': 10.630964161516685, 'gamma': 0.06162619570724054, 'kernel': 'poly'}\n",
      "89回目 0.36372745491\n",
      "{'C': 3.0891609226386394, 'gamma': 0.012917515769429028, 'kernel': 'rbf'}\n",
      "90回目 0.522044088176\n",
      "{'C': 1.2724377593548866, 'gamma': 0.09948721204246652, 'kernel': 'rbf'}\n",
      "91回目 0.524048096192\n",
      "{'C': 1.3674321403709753, 'gamma': 0.0023727403187011114, 'kernel': 'rbf'}\n",
      "92回目 0.516032064128\n",
      "{'C': 5.827515664257454, 'gamma': 0.02227754457232545, 'kernel': 'rbf'}\n",
      "93回目 0.524048096192\n",
      "{'C': 21.360854036337436, 'gamma': 0.0727899266163439, 'kernel': 'poly'}\n",
      "94回目 0.36372745491\n",
      "{'C': 9.145310789432425, 'gamma': 0.01868947262979872, 'kernel': 'rbf'}\n",
      "95回目 0.522044088176\n",
      "{'C': 53.45219168501049, 'gamma': 0.043666952284701674, 'kernel': 'rbf'}\n",
      "96回目 0.366733466934\n",
      "{'C': 2.3439624774004675, 'gamma': 0.011150872606316756, 'kernel': 'rbf'}\n",
      "97回目 0.522044088176\n",
      "{'C': 2.041933656088821, 'gamma': 0.024408826518744788, 'kernel': 'poly'}\n",
      "98回目 0.36372745491\n",
      "{'C': 4.791506088850574, 'gamma': 0.020535740955414238, 'kernel': 'rbf'}\n",
      "99回目 0.524048096192\n",
      "{'C': 11.918224646869477, 'gamma': 0.08527778554346939, 'kernel': 'rbf'}\n",
      "100回目 0.524048096192\n",
      "best estimate parameters {'C': 10.258717211183328, 'gamma': 0.030006352062844494, 'kernel': 0}\n",
      "SVC(C=10.258717211183328, cache_size=200, class_weight=None, coef0=0.0,\n",
      "  decision_function_shape='ovr', degree=3, gamma=0.030006352062844494,\n",
      "  kernel=0, max_iter=-1, probability=False, random_state=None,\n",
      "  shrinking=True, tol=0.001, verbose=False)\n"
     ]
    }
   ],
   "source": [
    "count=0\n",
    "def function(args):\n",
    "    print (args)\n",
    "    clf = SVC(**args)\n",
    "    clf.fit(imp_train_X, y_train1)\n",
    "    prediction = clf.predict(imp_test_X)\n",
    "    global count\n",
    "    count = count + 1\n",
    "    score = accuracy_score(y_test, prediction)\n",
    "    print (\"%s回目\" % str(count), score)\n",
    "    return -accuracy_score(y_test, prediction)\n",
    "\n",
    "best = fmin(function, params, algo=tpe.suggest,max_evals=20)\n",
    "print (\"best estimate parameters\", best)\n",
    "\n",
    "clf = SVC(**best)\n",
    "print (clf)"
   ]
  },
  {
   "cell_type": "code",
   "execution_count": 32,
   "metadata": {},
   "outputs": [
    {
     "data": {
      "text/plain": [
       "SVC(C=10.258717211183328, cache_size=200, class_weight=None, coef0=0.0,\n",
       "  decision_function_shape='ovr', degree=3, gamma=0.030006352062844494,\n",
       "  kernel='rbf', max_iter=-1, probability=False, random_state=None,\n",
       "  shrinking=True, tol=0.001, verbose=False)"
      ]
     },
     "execution_count": 32,
     "metadata": {},
     "output_type": "execute_result"
    }
   ],
   "source": [
    "svc = SVC(C=10.258717211183328, gamma= 0.030006352062844494, kernel='rbf')\n",
    "svc.fit(imp_train_X, y_train1)"
   ]
  },
  {
   "cell_type": "code",
   "execution_count": 33,
   "metadata": {},
   "outputs": [
    {
     "name": "stdout",
     "output_type": "stream",
     "text": [
      "Train score: 0.979\n"
     ]
    },
    {
     "ename": "ValueError",
     "evalue": "Input contains NaN, infinity or a value too large for dtype('float64').",
     "output_type": "error",
     "traceback": [
      "\u001b[0;31m---------------------------------------------------------------------------\u001b[0m",
      "\u001b[0;31mValueError\u001b[0m                                Traceback (most recent call last)",
      "\u001b[0;32m<ipython-input-33-e1d05172af8e>\u001b[0m in \u001b[0;36m<module>\u001b[0;34m()\u001b[0m\n\u001b[1;32m      1\u001b[0m \u001b[0mprint\u001b[0m\u001b[0;34m(\u001b[0m\u001b[0;34m'Train score: {:.3f}'\u001b[0m\u001b[0;34m.\u001b[0m\u001b[0mformat\u001b[0m\u001b[0;34m(\u001b[0m\u001b[0msvc\u001b[0m\u001b[0;34m.\u001b[0m\u001b[0mscore\u001b[0m\u001b[0;34m(\u001b[0m\u001b[0mimp_train_X\u001b[0m\u001b[0;34m,\u001b[0m \u001b[0my_train1\u001b[0m\u001b[0;34m)\u001b[0m\u001b[0;34m)\u001b[0m\u001b[0;34m)\u001b[0m\u001b[0;34m\u001b[0m\u001b[0m\n\u001b[0;32m----> 2\u001b[0;31m \u001b[0mprint\u001b[0m\u001b[0;34m(\u001b[0m\u001b[0;34m'Test score: {:.3f}'\u001b[0m\u001b[0;34m.\u001b[0m\u001b[0mformat\u001b[0m\u001b[0;34m(\u001b[0m\u001b[0msvc\u001b[0m\u001b[0;34m.\u001b[0m\u001b[0mscore\u001b[0m\u001b[0;34m(\u001b[0m\u001b[0mX_test\u001b[0m\u001b[0;34m,\u001b[0m \u001b[0my_test\u001b[0m\u001b[0;34m)\u001b[0m\u001b[0;34m)\u001b[0m\u001b[0;34m)\u001b[0m\u001b[0;34m\u001b[0m\u001b[0m\n\u001b[0m",
      "\u001b[0;32m~/anaconda/envs/tokyo_marin/lib/python3.6/site-packages/sklearn/base.py\u001b[0m in \u001b[0;36mscore\u001b[0;34m(self, X, y, sample_weight)\u001b[0m\n\u001b[1;32m    347\u001b[0m         \"\"\"\n\u001b[1;32m    348\u001b[0m         \u001b[0;32mfrom\u001b[0m \u001b[0;34m.\u001b[0m\u001b[0mmetrics\u001b[0m \u001b[0;32mimport\u001b[0m \u001b[0maccuracy_score\u001b[0m\u001b[0;34m\u001b[0m\u001b[0m\n\u001b[0;32m--> 349\u001b[0;31m         \u001b[0;32mreturn\u001b[0m \u001b[0maccuracy_score\u001b[0m\u001b[0;34m(\u001b[0m\u001b[0my\u001b[0m\u001b[0;34m,\u001b[0m \u001b[0mself\u001b[0m\u001b[0;34m.\u001b[0m\u001b[0mpredict\u001b[0m\u001b[0;34m(\u001b[0m\u001b[0mX\u001b[0m\u001b[0;34m)\u001b[0m\u001b[0;34m,\u001b[0m \u001b[0msample_weight\u001b[0m\u001b[0;34m=\u001b[0m\u001b[0msample_weight\u001b[0m\u001b[0;34m)\u001b[0m\u001b[0;34m\u001b[0m\u001b[0m\n\u001b[0m\u001b[1;32m    350\u001b[0m \u001b[0;34m\u001b[0m\u001b[0m\n\u001b[1;32m    351\u001b[0m \u001b[0;34m\u001b[0m\u001b[0m\n",
      "\u001b[0;32m~/anaconda/envs/tokyo_marin/lib/python3.6/site-packages/sklearn/svm/base.py\u001b[0m in \u001b[0;36mpredict\u001b[0;34m(self, X)\u001b[0m\n\u001b[1;32m    546\u001b[0m             \u001b[0mClass\u001b[0m \u001b[0mlabels\u001b[0m \u001b[0;32mfor\u001b[0m \u001b[0msamples\u001b[0m \u001b[0;32min\u001b[0m \u001b[0mX\u001b[0m\u001b[0;34m.\u001b[0m\u001b[0;34m\u001b[0m\u001b[0m\n\u001b[1;32m    547\u001b[0m         \"\"\"\n\u001b[0;32m--> 548\u001b[0;31m         \u001b[0my\u001b[0m \u001b[0;34m=\u001b[0m \u001b[0msuper\u001b[0m\u001b[0;34m(\u001b[0m\u001b[0mBaseSVC\u001b[0m\u001b[0;34m,\u001b[0m \u001b[0mself\u001b[0m\u001b[0;34m)\u001b[0m\u001b[0;34m.\u001b[0m\u001b[0mpredict\u001b[0m\u001b[0;34m(\u001b[0m\u001b[0mX\u001b[0m\u001b[0;34m)\u001b[0m\u001b[0;34m\u001b[0m\u001b[0m\n\u001b[0m\u001b[1;32m    549\u001b[0m         \u001b[0;32mreturn\u001b[0m \u001b[0mself\u001b[0m\u001b[0;34m.\u001b[0m\u001b[0mclasses_\u001b[0m\u001b[0;34m.\u001b[0m\u001b[0mtake\u001b[0m\u001b[0;34m(\u001b[0m\u001b[0mnp\u001b[0m\u001b[0;34m.\u001b[0m\u001b[0masarray\u001b[0m\u001b[0;34m(\u001b[0m\u001b[0my\u001b[0m\u001b[0;34m,\u001b[0m \u001b[0mdtype\u001b[0m\u001b[0;34m=\u001b[0m\u001b[0mnp\u001b[0m\u001b[0;34m.\u001b[0m\u001b[0mintp\u001b[0m\u001b[0;34m)\u001b[0m\u001b[0;34m)\u001b[0m\u001b[0;34m\u001b[0m\u001b[0m\n\u001b[1;32m    550\u001b[0m \u001b[0;34m\u001b[0m\u001b[0m\n",
      "\u001b[0;32m~/anaconda/envs/tokyo_marin/lib/python3.6/site-packages/sklearn/svm/base.py\u001b[0m in \u001b[0;36mpredict\u001b[0;34m(self, X)\u001b[0m\n\u001b[1;32m    306\u001b[0m         \u001b[0my_pred\u001b[0m \u001b[0;34m:\u001b[0m \u001b[0marray\u001b[0m\u001b[0;34m,\u001b[0m \u001b[0mshape\u001b[0m \u001b[0;34m(\u001b[0m\u001b[0mn_samples\u001b[0m\u001b[0;34m,\u001b[0m\u001b[0;34m)\u001b[0m\u001b[0;34m\u001b[0m\u001b[0m\n\u001b[1;32m    307\u001b[0m         \"\"\"\n\u001b[0;32m--> 308\u001b[0;31m         \u001b[0mX\u001b[0m \u001b[0;34m=\u001b[0m \u001b[0mself\u001b[0m\u001b[0;34m.\u001b[0m\u001b[0m_validate_for_predict\u001b[0m\u001b[0;34m(\u001b[0m\u001b[0mX\u001b[0m\u001b[0;34m)\u001b[0m\u001b[0;34m\u001b[0m\u001b[0m\n\u001b[0m\u001b[1;32m    309\u001b[0m         \u001b[0mpredict\u001b[0m \u001b[0;34m=\u001b[0m \u001b[0mself\u001b[0m\u001b[0;34m.\u001b[0m\u001b[0m_sparse_predict\u001b[0m \u001b[0;32mif\u001b[0m \u001b[0mself\u001b[0m\u001b[0;34m.\u001b[0m\u001b[0m_sparse\u001b[0m \u001b[0;32melse\u001b[0m \u001b[0mself\u001b[0m\u001b[0;34m.\u001b[0m\u001b[0m_dense_predict\u001b[0m\u001b[0;34m\u001b[0m\u001b[0m\n\u001b[1;32m    310\u001b[0m         \u001b[0;32mreturn\u001b[0m \u001b[0mpredict\u001b[0m\u001b[0;34m(\u001b[0m\u001b[0mX\u001b[0m\u001b[0;34m)\u001b[0m\u001b[0;34m\u001b[0m\u001b[0m\n",
      "\u001b[0;32m~/anaconda/envs/tokyo_marin/lib/python3.6/site-packages/sklearn/svm/base.py\u001b[0m in \u001b[0;36m_validate_for_predict\u001b[0;34m(self, X)\u001b[0m\n\u001b[1;32m    437\u001b[0m         \u001b[0mcheck_is_fitted\u001b[0m\u001b[0;34m(\u001b[0m\u001b[0mself\u001b[0m\u001b[0;34m,\u001b[0m \u001b[0;34m'support_'\u001b[0m\u001b[0;34m)\u001b[0m\u001b[0;34m\u001b[0m\u001b[0m\n\u001b[1;32m    438\u001b[0m \u001b[0;34m\u001b[0m\u001b[0m\n\u001b[0;32m--> 439\u001b[0;31m         \u001b[0mX\u001b[0m \u001b[0;34m=\u001b[0m \u001b[0mcheck_array\u001b[0m\u001b[0;34m(\u001b[0m\u001b[0mX\u001b[0m\u001b[0;34m,\u001b[0m \u001b[0maccept_sparse\u001b[0m\u001b[0;34m=\u001b[0m\u001b[0;34m'csr'\u001b[0m\u001b[0;34m,\u001b[0m \u001b[0mdtype\u001b[0m\u001b[0;34m=\u001b[0m\u001b[0mnp\u001b[0m\u001b[0;34m.\u001b[0m\u001b[0mfloat64\u001b[0m\u001b[0;34m,\u001b[0m \u001b[0morder\u001b[0m\u001b[0;34m=\u001b[0m\u001b[0;34m\"C\"\u001b[0m\u001b[0;34m)\u001b[0m\u001b[0;34m\u001b[0m\u001b[0m\n\u001b[0m\u001b[1;32m    440\u001b[0m         \u001b[0;32mif\u001b[0m \u001b[0mself\u001b[0m\u001b[0;34m.\u001b[0m\u001b[0m_sparse\u001b[0m \u001b[0;32mand\u001b[0m \u001b[0;32mnot\u001b[0m \u001b[0msp\u001b[0m\u001b[0;34m.\u001b[0m\u001b[0misspmatrix\u001b[0m\u001b[0;34m(\u001b[0m\u001b[0mX\u001b[0m\u001b[0;34m)\u001b[0m\u001b[0;34m:\u001b[0m\u001b[0;34m\u001b[0m\u001b[0m\n\u001b[1;32m    441\u001b[0m             \u001b[0mX\u001b[0m \u001b[0;34m=\u001b[0m \u001b[0msp\u001b[0m\u001b[0;34m.\u001b[0m\u001b[0mcsr_matrix\u001b[0m\u001b[0;34m(\u001b[0m\u001b[0mX\u001b[0m\u001b[0;34m)\u001b[0m\u001b[0;34m\u001b[0m\u001b[0m\n",
      "\u001b[0;32m~/anaconda/envs/tokyo_marin/lib/python3.6/site-packages/sklearn/utils/validation.py\u001b[0m in \u001b[0;36mcheck_array\u001b[0;34m(array, accept_sparse, dtype, order, copy, force_all_finite, ensure_2d, allow_nd, ensure_min_samples, ensure_min_features, warn_on_dtype, estimator)\u001b[0m\n\u001b[1;32m    451\u001b[0m                              % (array.ndim, estimator_name))\n\u001b[1;32m    452\u001b[0m         \u001b[0;32mif\u001b[0m \u001b[0mforce_all_finite\u001b[0m\u001b[0;34m:\u001b[0m\u001b[0;34m\u001b[0m\u001b[0m\n\u001b[0;32m--> 453\u001b[0;31m             \u001b[0m_assert_all_finite\u001b[0m\u001b[0;34m(\u001b[0m\u001b[0marray\u001b[0m\u001b[0;34m)\u001b[0m\u001b[0;34m\u001b[0m\u001b[0m\n\u001b[0m\u001b[1;32m    454\u001b[0m \u001b[0;34m\u001b[0m\u001b[0m\n\u001b[1;32m    455\u001b[0m     \u001b[0mshape_repr\u001b[0m \u001b[0;34m=\u001b[0m \u001b[0m_shape_repr\u001b[0m\u001b[0;34m(\u001b[0m\u001b[0marray\u001b[0m\u001b[0;34m.\u001b[0m\u001b[0mshape\u001b[0m\u001b[0;34m)\u001b[0m\u001b[0;34m\u001b[0m\u001b[0m\n",
      "\u001b[0;32m~/anaconda/envs/tokyo_marin/lib/python3.6/site-packages/sklearn/utils/validation.py\u001b[0m in \u001b[0;36m_assert_all_finite\u001b[0;34m(X)\u001b[0m\n\u001b[1;32m     42\u001b[0m             and not np.isfinite(X).all()):\n\u001b[1;32m     43\u001b[0m         raise ValueError(\"Input contains NaN, infinity\"\n\u001b[0;32m---> 44\u001b[0;31m                          \" or a value too large for %r.\" % X.dtype)\n\u001b[0m\u001b[1;32m     45\u001b[0m \u001b[0;34m\u001b[0m\u001b[0m\n\u001b[1;32m     46\u001b[0m \u001b[0;34m\u001b[0m\u001b[0m\n",
      "\u001b[0;31mValueError\u001b[0m: Input contains NaN, infinity or a value too large for dtype('float64')."
     ]
    }
   ],
   "source": [
    "print('Train score: {:.3f}'.format(svc.score(imp_train_X, y_train1)))\n",
    "print('Test score: {:.3f}'.format(svc.score(X_test, y_test)))"
   ]
  },
  {
   "cell_type": "code",
   "execution_count": null,
   "metadata": {},
   "outputs": [],
   "source": [
    "#print(svc.predict(y_train))\n",
    "svc_pred_train = svc.predict(X_train)\n",
    "svc_pred_test = svc.predict(X_test)\n",
    "print(classification_report(y_train, svc_pred_train))\n",
    "print(classification_report(y_test, svc_pred_test))"
   ]
  },
  {
   "cell_type": "code",
   "execution_count": 35,
   "metadata": {},
   "outputs": [
    {
     "ename": "ValueError",
     "evalue": "Input contains NaN, infinity or a value too large for dtype('float64').",
     "output_type": "error",
     "traceback": [
      "\u001b[0;31m---------------------------------------------------------------------------\u001b[0m",
      "\u001b[0;31mValueError\u001b[0m                                Traceback (most recent call last)",
      "\u001b[0;32m<ipython-input-35-0348d742711b>\u001b[0m in \u001b[0;36m<module>\u001b[0;34m()\u001b[0m\n\u001b[0;32m----> 1\u001b[0;31m \u001b[0msvc_pred_test\u001b[0m \u001b[0;34m=\u001b[0m \u001b[0msvc\u001b[0m\u001b[0;34m.\u001b[0m\u001b[0mpredict\u001b[0m\u001b[0;34m(\u001b[0m\u001b[0mX_test\u001b[0m\u001b[0;34m)\u001b[0m\u001b[0;34m\u001b[0m\u001b[0m\n\u001b[0m",
      "\u001b[0;32m~/anaconda/envs/tokyo_marin/lib/python3.6/site-packages/sklearn/svm/base.py\u001b[0m in \u001b[0;36mpredict\u001b[0;34m(self, X)\u001b[0m\n\u001b[1;32m    546\u001b[0m             \u001b[0mClass\u001b[0m \u001b[0mlabels\u001b[0m \u001b[0;32mfor\u001b[0m \u001b[0msamples\u001b[0m \u001b[0;32min\u001b[0m \u001b[0mX\u001b[0m\u001b[0;34m.\u001b[0m\u001b[0;34m\u001b[0m\u001b[0m\n\u001b[1;32m    547\u001b[0m         \"\"\"\n\u001b[0;32m--> 548\u001b[0;31m         \u001b[0my\u001b[0m \u001b[0;34m=\u001b[0m \u001b[0msuper\u001b[0m\u001b[0;34m(\u001b[0m\u001b[0mBaseSVC\u001b[0m\u001b[0;34m,\u001b[0m \u001b[0mself\u001b[0m\u001b[0;34m)\u001b[0m\u001b[0;34m.\u001b[0m\u001b[0mpredict\u001b[0m\u001b[0;34m(\u001b[0m\u001b[0mX\u001b[0m\u001b[0;34m)\u001b[0m\u001b[0;34m\u001b[0m\u001b[0m\n\u001b[0m\u001b[1;32m    549\u001b[0m         \u001b[0;32mreturn\u001b[0m \u001b[0mself\u001b[0m\u001b[0;34m.\u001b[0m\u001b[0mclasses_\u001b[0m\u001b[0;34m.\u001b[0m\u001b[0mtake\u001b[0m\u001b[0;34m(\u001b[0m\u001b[0mnp\u001b[0m\u001b[0;34m.\u001b[0m\u001b[0masarray\u001b[0m\u001b[0;34m(\u001b[0m\u001b[0my\u001b[0m\u001b[0;34m,\u001b[0m \u001b[0mdtype\u001b[0m\u001b[0;34m=\u001b[0m\u001b[0mnp\u001b[0m\u001b[0;34m.\u001b[0m\u001b[0mintp\u001b[0m\u001b[0;34m)\u001b[0m\u001b[0;34m)\u001b[0m\u001b[0;34m\u001b[0m\u001b[0m\n\u001b[1;32m    550\u001b[0m \u001b[0;34m\u001b[0m\u001b[0m\n",
      "\u001b[0;32m~/anaconda/envs/tokyo_marin/lib/python3.6/site-packages/sklearn/svm/base.py\u001b[0m in \u001b[0;36mpredict\u001b[0;34m(self, X)\u001b[0m\n\u001b[1;32m    306\u001b[0m         \u001b[0my_pred\u001b[0m \u001b[0;34m:\u001b[0m \u001b[0marray\u001b[0m\u001b[0;34m,\u001b[0m \u001b[0mshape\u001b[0m \u001b[0;34m(\u001b[0m\u001b[0mn_samples\u001b[0m\u001b[0;34m,\u001b[0m\u001b[0;34m)\u001b[0m\u001b[0;34m\u001b[0m\u001b[0m\n\u001b[1;32m    307\u001b[0m         \"\"\"\n\u001b[0;32m--> 308\u001b[0;31m         \u001b[0mX\u001b[0m \u001b[0;34m=\u001b[0m \u001b[0mself\u001b[0m\u001b[0;34m.\u001b[0m\u001b[0m_validate_for_predict\u001b[0m\u001b[0;34m(\u001b[0m\u001b[0mX\u001b[0m\u001b[0;34m)\u001b[0m\u001b[0;34m\u001b[0m\u001b[0m\n\u001b[0m\u001b[1;32m    309\u001b[0m         \u001b[0mpredict\u001b[0m \u001b[0;34m=\u001b[0m \u001b[0mself\u001b[0m\u001b[0;34m.\u001b[0m\u001b[0m_sparse_predict\u001b[0m \u001b[0;32mif\u001b[0m \u001b[0mself\u001b[0m\u001b[0;34m.\u001b[0m\u001b[0m_sparse\u001b[0m \u001b[0;32melse\u001b[0m \u001b[0mself\u001b[0m\u001b[0;34m.\u001b[0m\u001b[0m_dense_predict\u001b[0m\u001b[0;34m\u001b[0m\u001b[0m\n\u001b[1;32m    310\u001b[0m         \u001b[0;32mreturn\u001b[0m \u001b[0mpredict\u001b[0m\u001b[0;34m(\u001b[0m\u001b[0mX\u001b[0m\u001b[0;34m)\u001b[0m\u001b[0;34m\u001b[0m\u001b[0m\n",
      "\u001b[0;32m~/anaconda/envs/tokyo_marin/lib/python3.6/site-packages/sklearn/svm/base.py\u001b[0m in \u001b[0;36m_validate_for_predict\u001b[0;34m(self, X)\u001b[0m\n\u001b[1;32m    437\u001b[0m         \u001b[0mcheck_is_fitted\u001b[0m\u001b[0;34m(\u001b[0m\u001b[0mself\u001b[0m\u001b[0;34m,\u001b[0m \u001b[0;34m'support_'\u001b[0m\u001b[0;34m)\u001b[0m\u001b[0;34m\u001b[0m\u001b[0m\n\u001b[1;32m    438\u001b[0m \u001b[0;34m\u001b[0m\u001b[0m\n\u001b[0;32m--> 439\u001b[0;31m         \u001b[0mX\u001b[0m \u001b[0;34m=\u001b[0m \u001b[0mcheck_array\u001b[0m\u001b[0;34m(\u001b[0m\u001b[0mX\u001b[0m\u001b[0;34m,\u001b[0m \u001b[0maccept_sparse\u001b[0m\u001b[0;34m=\u001b[0m\u001b[0;34m'csr'\u001b[0m\u001b[0;34m,\u001b[0m \u001b[0mdtype\u001b[0m\u001b[0;34m=\u001b[0m\u001b[0mnp\u001b[0m\u001b[0;34m.\u001b[0m\u001b[0mfloat64\u001b[0m\u001b[0;34m,\u001b[0m \u001b[0morder\u001b[0m\u001b[0;34m=\u001b[0m\u001b[0;34m\"C\"\u001b[0m\u001b[0;34m)\u001b[0m\u001b[0;34m\u001b[0m\u001b[0m\n\u001b[0m\u001b[1;32m    440\u001b[0m         \u001b[0;32mif\u001b[0m \u001b[0mself\u001b[0m\u001b[0;34m.\u001b[0m\u001b[0m_sparse\u001b[0m \u001b[0;32mand\u001b[0m \u001b[0;32mnot\u001b[0m \u001b[0msp\u001b[0m\u001b[0;34m.\u001b[0m\u001b[0misspmatrix\u001b[0m\u001b[0;34m(\u001b[0m\u001b[0mX\u001b[0m\u001b[0;34m)\u001b[0m\u001b[0;34m:\u001b[0m\u001b[0;34m\u001b[0m\u001b[0m\n\u001b[1;32m    441\u001b[0m             \u001b[0mX\u001b[0m \u001b[0;34m=\u001b[0m \u001b[0msp\u001b[0m\u001b[0;34m.\u001b[0m\u001b[0mcsr_matrix\u001b[0m\u001b[0;34m(\u001b[0m\u001b[0mX\u001b[0m\u001b[0;34m)\u001b[0m\u001b[0;34m\u001b[0m\u001b[0m\n",
      "\u001b[0;32m~/anaconda/envs/tokyo_marin/lib/python3.6/site-packages/sklearn/utils/validation.py\u001b[0m in \u001b[0;36mcheck_array\u001b[0;34m(array, accept_sparse, dtype, order, copy, force_all_finite, ensure_2d, allow_nd, ensure_min_samples, ensure_min_features, warn_on_dtype, estimator)\u001b[0m\n\u001b[1;32m    451\u001b[0m                              % (array.ndim, estimator_name))\n\u001b[1;32m    452\u001b[0m         \u001b[0;32mif\u001b[0m \u001b[0mforce_all_finite\u001b[0m\u001b[0;34m:\u001b[0m\u001b[0;34m\u001b[0m\u001b[0m\n\u001b[0;32m--> 453\u001b[0;31m             \u001b[0m_assert_all_finite\u001b[0m\u001b[0;34m(\u001b[0m\u001b[0marray\u001b[0m\u001b[0;34m)\u001b[0m\u001b[0;34m\u001b[0m\u001b[0m\n\u001b[0m\u001b[1;32m    454\u001b[0m \u001b[0;34m\u001b[0m\u001b[0m\n\u001b[1;32m    455\u001b[0m     \u001b[0mshape_repr\u001b[0m \u001b[0;34m=\u001b[0m \u001b[0m_shape_repr\u001b[0m\u001b[0;34m(\u001b[0m\u001b[0marray\u001b[0m\u001b[0;34m.\u001b[0m\u001b[0mshape\u001b[0m\u001b[0;34m)\u001b[0m\u001b[0;34m\u001b[0m\u001b[0m\n",
      "\u001b[0;32m~/anaconda/envs/tokyo_marin/lib/python3.6/site-packages/sklearn/utils/validation.py\u001b[0m in \u001b[0;36m_assert_all_finite\u001b[0;34m(X)\u001b[0m\n\u001b[1;32m     42\u001b[0m             and not np.isfinite(X).all()):\n\u001b[1;32m     43\u001b[0m         raise ValueError(\"Input contains NaN, infinity\"\n\u001b[0;32m---> 44\u001b[0;31m                          \" or a value too large for %r.\" % X.dtype)\n\u001b[0m\u001b[1;32m     45\u001b[0m \u001b[0;34m\u001b[0m\u001b[0m\n\u001b[1;32m     46\u001b[0m \u001b[0;34m\u001b[0m\u001b[0m\n",
      "\u001b[0;31mValueError\u001b[0m: Input contains NaN, infinity or a value too large for dtype('float64')."
     ]
    }
   ],
   "source": [
    "svc_pred_test = svc.predict(X_test)"
   ]
  },
  {
   "cell_type": "code",
   "execution_count": 8,
   "metadata": {},
   "outputs": [],
   "source": [
    "(x_train, x_test, y_train, y_test) = train_test_split(df_X, df_Y, test_size = 0.2, random_state = 12345)"
   ]
  },
  {
   "cell_type": "code",
   "execution_count": 16,
   "metadata": {},
   "outputs": [],
   "source": [
    "#parameter\n",
    "ntrain = x_train.shape[0]\n",
    "ntest = x_test.shape[0]\n",
    "SEED = 12345 # for reproducibility\n",
    "NFOLDS = 3 # set folds for out-of-fold prediction\n",
    "kf = KFold(ntrain, n_folds= NFOLDS, random_state=SEED)"
   ]
  },
  {
   "cell_type": "code",
   "execution_count": 17,
   "metadata": {},
   "outputs": [],
   "source": [
    "class SklearnHelper(object):\n",
    "    def __init__(self, clf, seed=0, params=None):\n",
    "        params['random_state'] = seed\n",
    "        self.clf = clf(**params)\n",
    "\n",
    "    def train(self, x_train, y_train):\n",
    "        self.clf.fit(x_train, y_train)\n",
    "\n",
    "    def predict(self, x):\n",
    "        return self.clf.predict(x)\n",
    "    \n",
    "    def fit(self,x,y):\n",
    "        return self.clf.fit(x,y)\n",
    "    \n",
    "    def feature_importances(self,x,y):\n",
    "        print(self.clf.fit(x,y).feature_importances_)\n",
    "    \n",
    "# Class to extend XGboost classifer"
   ]
  },
  {
   "cell_type": "code",
   "execution_count": 6,
   "metadata": {},
   "outputs": [
    {
     "data": {
      "text/plain": [
       "4990"
      ]
     },
     "execution_count": 6,
     "metadata": {},
     "output_type": "execute_result"
    }
   ],
   "source": []
  },
  {
   "cell_type": "code",
   "execution_count": null,
   "metadata": {},
   "outputs": [],
   "source": []
  }
 ],
 "metadata": {
  "kernelspec": {
   "display_name": "Python 3",
   "language": "python",
   "name": "python3"
  },
  "language_info": {
   "codemirror_mode": {
    "name": "ipython",
    "version": 3
   },
   "file_extension": ".py",
   "mimetype": "text/x-python",
   "name": "python",
   "nbconvert_exporter": "python",
   "pygments_lexer": "ipython3",
   "version": "3.6.4"
  }
 },
 "nbformat": 4,
 "nbformat_minor": 2
}
